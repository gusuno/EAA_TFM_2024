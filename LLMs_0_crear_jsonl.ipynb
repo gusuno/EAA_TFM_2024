{
 "cells": [
  {
   "cell_type": "markdown",
   "metadata": {},
   "source": [
    "# Notebook para crear el archivo jsonl para poder realizar fine tuning de modelos"
   ]
  },
  {
   "cell_type": "markdown",
   "metadata": {},
   "source": [
    "# Open AI"
   ]
  },
  {
   "cell_type": "markdown",
   "metadata": {},
   "source": [
    "Esta división de títulos la pongo por si me da tiempo a realizar un fine tuning de más de un modelo, y se escoge uno de otra plataforma, como google cloud AWS u otras, que por la razón que sea necesite un tipo de archivo distinto."
   ]
  },
  {
   "cell_type": "markdown",
   "metadata": {},
   "source": [
    "En el ejemplo viene un archivo tipo csv en el que hay 2 columnas:\n",
    "- prompt: la pregunta ejemplo que se le hace al modelo.\n",
    "\n",
    "\n",
    "- completion: la respuesta ejemplo que debería responder el modelo.\n",
    "\n",
    "\n",
    "\n",
    "\n",
    "Detalles:\n",
    "- La columna completion: debe empezar con espacio.\n",
    "\n",
    "\n",
    "- La columna completion: debe terminar siempre con una palabra o token determinado, en el ejemplo es END."
   ]
  },
  {
   "cell_type": "markdown",
   "metadata": {},
   "source": [
    "## Librerías y cargando datos"
   ]
  },
  {
   "cell_type": "code",
   "execution_count": 331,
   "metadata": {},
   "outputs": [],
   "source": [
    "import numpy\n",
    "import pandas as pd\n"
   ]
  },
  {
   "cell_type": "code",
   "execution_count": 332,
   "metadata": {},
   "outputs": [],
   "source": [
    "df_scripts = pd.read_csv('The Saimpsons Archive/in_use/simpsons_script_lines.csv')\n",
    "df_ep = pd.read_csv('The Saimpsons Archive/in_use/simpsons_episodes.csv')"
   ]
  },
  {
   "cell_type": "code",
   "execution_count": 333,
   "metadata": {},
   "outputs": [
    {
     "data": {
      "text/html": [
       "<div>\n",
       "<style scoped>\n",
       "    .dataframe tbody tr th:only-of-type {\n",
       "        vertical-align: middle;\n",
       "    }\n",
       "\n",
       "    .dataframe tbody tr th {\n",
       "        vertical-align: top;\n",
       "    }\n",
       "\n",
       "    .dataframe thead th {\n",
       "        text-align: right;\n",
       "    }\n",
       "</style>\n",
       "<table border=\"1\" class=\"dataframe\">\n",
       "  <thead>\n",
       "    <tr style=\"text-align: right;\">\n",
       "      <th></th>\n",
       "      <th>id</th>\n",
       "      <th>episode_id</th>\n",
       "      <th>number</th>\n",
       "      <th>raw_text</th>\n",
       "      <th>timestamp_in_ms</th>\n",
       "      <th>speaking_line</th>\n",
       "      <th>character_id</th>\n",
       "      <th>location_id</th>\n",
       "      <th>raw_character_text</th>\n",
       "      <th>raw_location_text</th>\n",
       "      <th>spoken_words</th>\n",
       "      <th>normalized_text</th>\n",
       "      <th>word_count</th>\n",
       "    </tr>\n",
       "  </thead>\n",
       "  <tbody>\n",
       "    <tr>\n",
       "      <th>26735</th>\n",
       "      <td>36449</td>\n",
       "      <td>126</td>\n",
       "      <td>257</td>\n",
       "      <td>Homer Simpson: It's too late for me, Marge! Se...</td>\n",
       "      <td>1172000</td>\n",
       "      <td>True</td>\n",
       "      <td>2.0</td>\n",
       "      <td>273.0</td>\n",
       "      <td>Homer Simpson</td>\n",
       "      <td>GARAGE</td>\n",
       "      <td>It's too late for me, Marge! Sell the jeans an...</td>\n",
       "      <td>its too late for me marge sell the jeans and l...</td>\n",
       "      <td>14.0</td>\n",
       "    </tr>\n",
       "  </tbody>\n",
       "</table>\n",
       "</div>"
      ],
      "text/plain": [
       "          id  episode_id  number  \\\n",
       "26735  36449         126     257   \n",
       "\n",
       "                                                raw_text  timestamp_in_ms  \\\n",
       "26735  Homer Simpson: It's too late for me, Marge! Se...          1172000   \n",
       "\n",
       "       speaking_line  character_id  location_id raw_character_text  \\\n",
       "26735           True           2.0        273.0      Homer Simpson   \n",
       "\n",
       "      raw_location_text                                       spoken_words  \\\n",
       "26735            GARAGE  It's too late for me, Marge! Sell the jeans an...   \n",
       "\n",
       "                                         normalized_text  word_count  \n",
       "26735  its too late for me marge sell the jeans and l...        14.0  "
      ]
     },
     "execution_count": 333,
     "metadata": {},
     "output_type": "execute_result"
    }
   ],
   "source": [
    "df_scripts.sample()"
   ]
  },
  {
   "cell_type": "code",
   "execution_count": 334,
   "metadata": {},
   "outputs": [
    {
     "data": {
      "text/html": [
       "<div>\n",
       "<style scoped>\n",
       "    .dataframe tbody tr th:only-of-type {\n",
       "        vertical-align: middle;\n",
       "    }\n",
       "\n",
       "    .dataframe tbody tr th {\n",
       "        vertical-align: top;\n",
       "    }\n",
       "\n",
       "    .dataframe thead th {\n",
       "        text-align: right;\n",
       "    }\n",
       "</style>\n",
       "<table border=\"1\" class=\"dataframe\">\n",
       "  <thead>\n",
       "    <tr style=\"text-align: right;\">\n",
       "      <th></th>\n",
       "      <th>id</th>\n",
       "      <th>imdb_rating</th>\n",
       "      <th>imdb_votes</th>\n",
       "      <th>number_in_season</th>\n",
       "      <th>number_in_series</th>\n",
       "      <th>original_air_date</th>\n",
       "      <th>original_air_year</th>\n",
       "      <th>production_code</th>\n",
       "      <th>season</th>\n",
       "      <th>title</th>\n",
       "      <th>us_viewers_in_millions</th>\n",
       "      <th>views</th>\n",
       "    </tr>\n",
       "  </thead>\n",
       "  <tbody>\n",
       "    <tr>\n",
       "      <th>473</th>\n",
       "      <td>507</td>\n",
       "      <td>6.7</td>\n",
       "      <td>408.0</td>\n",
       "      <td>21</td>\n",
       "      <td>507</td>\n",
       "      <td>2012-05-13</td>\n",
       "      <td>2012</td>\n",
       "      <td>PABF15</td>\n",
       "      <td>23</td>\n",
       "      <td>Ned 'n Edna's Blend</td>\n",
       "      <td>4.07</td>\n",
       "      <td>47005.0</td>\n",
       "    </tr>\n",
       "  </tbody>\n",
       "</table>\n",
       "</div>"
      ],
      "text/plain": [
       "      id  imdb_rating  imdb_votes  number_in_season  number_in_series  \\\n",
       "473  507          6.7       408.0                21               507   \n",
       "\n",
       "    original_air_date  original_air_year production_code  season  \\\n",
       "473        2012-05-13               2012          PABF15      23   \n",
       "\n",
       "                   title  us_viewers_in_millions    views  \n",
       "473  Ned 'n Edna's Blend                    4.07  47005.0  "
      ]
     },
     "execution_count": 334,
     "metadata": {},
     "output_type": "execute_result"
    }
   ],
   "source": [
    "df_ep.sample()"
   ]
  },
  {
   "cell_type": "code",
   "execution_count": 335,
   "metadata": {},
   "outputs": [
    {
     "data": {
      "text/html": [
       "<div>\n",
       "<style scoped>\n",
       "    .dataframe tbody tr th:only-of-type {\n",
       "        vertical-align: middle;\n",
       "    }\n",
       "\n",
       "    .dataframe tbody tr th {\n",
       "        vertical-align: top;\n",
       "    }\n",
       "\n",
       "    .dataframe thead th {\n",
       "        text-align: right;\n",
       "    }\n",
       "</style>\n",
       "<table border=\"1\" class=\"dataframe\">\n",
       "  <thead>\n",
       "    <tr style=\"text-align: right;\">\n",
       "      <th></th>\n",
       "      <th>id_x</th>\n",
       "      <th>episode_id</th>\n",
       "      <th>number</th>\n",
       "      <th>raw_text</th>\n",
       "      <th>timestamp_in_ms</th>\n",
       "      <th>speaking_line</th>\n",
       "      <th>character_id</th>\n",
       "      <th>location_id</th>\n",
       "      <th>raw_character_text</th>\n",
       "      <th>raw_location_text</th>\n",
       "      <th>spoken_words</th>\n",
       "      <th>normalized_text</th>\n",
       "      <th>word_count</th>\n",
       "      <th>id_y</th>\n",
       "      <th>season</th>\n",
       "    </tr>\n",
       "  </thead>\n",
       "  <tbody>\n",
       "    <tr>\n",
       "      <th>40293</th>\n",
       "      <td>45694</td>\n",
       "      <td>161</td>\n",
       "      <td>135</td>\n",
       "      <td>Ned Flanders: (A COUPLE OF EXASPERATED BREATHS)</td>\n",
       "      <td>716000</td>\n",
       "      <td>False</td>\n",
       "      <td>11.0</td>\n",
       "      <td>1525.0</td>\n",
       "      <td>Ned Flanders</td>\n",
       "      <td>NEW FLANDERS HOUSE</td>\n",
       "      <td>NaN</td>\n",
       "      <td>NaN</td>\n",
       "      <td>0.0</td>\n",
       "      <td>161</td>\n",
       "      <td>8</td>\n",
       "    </tr>\n",
       "  </tbody>\n",
       "</table>\n",
       "</div>"
      ],
      "text/plain": [
       "        id_x  episode_id  number  \\\n",
       "40293  45694         161     135   \n",
       "\n",
       "                                              raw_text  timestamp_in_ms  \\\n",
       "40293  Ned Flanders: (A COUPLE OF EXASPERATED BREATHS)           716000   \n",
       "\n",
       "       speaking_line  character_id  location_id raw_character_text  \\\n",
       "40293          False          11.0       1525.0       Ned Flanders   \n",
       "\n",
       "        raw_location_text spoken_words normalized_text  word_count  id_y  \\\n",
       "40293  NEW FLANDERS HOUSE          NaN             NaN         0.0   161   \n",
       "\n",
       "       season  \n",
       "40293       8  "
      ]
     },
     "execution_count": 335,
     "metadata": {},
     "output_type": "execute_result"
    }
   ],
   "source": [
    "df_scripts = pd.merge(df_scripts, df_ep[['id', 'season']], left_on='episode_id', right_on='id')\n",
    "df_scripts.sample()"
   ]
  },
  {
   "cell_type": "markdown",
   "metadata": {},
   "source": [
    "## Juntando texto e información importante de cada escena\n",
    "Una escena se considera aquello que sucede en un lugar específico para un capítulo en específico."
   ]
  },
  {
   "cell_type": "code",
   "execution_count": 337,
   "metadata": {},
   "outputs": [],
   "source": [
    "def join_text(text):\n",
    "    return ' '.join(text)\n",
    "\n",
    "def agg_chars(char_id):\n",
    "    return list(set(char_id))"
   ]
  },
  {
   "cell_type": "code",
   "execution_count": 338,
   "metadata": {},
   "outputs": [],
   "source": [
    "df_scripts_agg = df_scripts[['episode_id',\n",
    "                            'location_id',\n",
    "                            'raw_location_text',\n",
    "                            'character_id',\n",
    "                            'raw_character_text',\n",
    "                            'raw_text']].groupby(['episode_id',\n",
    "                                                'location_id']).agg({'raw_text': join_text,\n",
    "                                                                    'character_id': agg_chars,\n",
    "                                                                    'raw_character_text': agg_chars,\n",
    "                                                                    'raw_location_text': agg_chars}).reset_index()"
   ]
  },
  {
   "cell_type": "code",
   "execution_count": 339,
   "metadata": {},
   "outputs": [
    {
     "data": {
      "text/html": [
       "<div>\n",
       "<style scoped>\n",
       "    .dataframe tbody tr th:only-of-type {\n",
       "        vertical-align: middle;\n",
       "    }\n",
       "\n",
       "    .dataframe tbody tr th {\n",
       "        vertical-align: top;\n",
       "    }\n",
       "\n",
       "    .dataframe thead th {\n",
       "        text-align: right;\n",
       "    }\n",
       "</style>\n",
       "<table border=\"1\" class=\"dataframe\">\n",
       "  <thead>\n",
       "    <tr style=\"text-align: right;\">\n",
       "      <th></th>\n",
       "      <th>episode_id</th>\n",
       "      <th>location_id</th>\n",
       "      <th>raw_text</th>\n",
       "      <th>character_id</th>\n",
       "      <th>raw_character_text</th>\n",
       "      <th>raw_location_text</th>\n",
       "    </tr>\n",
       "  </thead>\n",
       "  <tbody>\n",
       "    <tr>\n",
       "      <th>3333</th>\n",
       "      <td>174</td>\n",
       "      <td>3.0</td>\n",
       "      <td>(Springfield Elementary School: INT. SPRINGFIE...</td>\n",
       "      <td>[3.0, 39.0, 9.0, 14.0, 15.0, nan]</td>\n",
       "      <td>[Lisa Simpson, Kids, Seymour Skinner, nan, Way...</td>\n",
       "      <td>[Springfield Elementary School]</td>\n",
       "    </tr>\n",
       "    <tr>\n",
       "      <th>6965</th>\n",
       "      <td>480</td>\n",
       "      <td>3889.0</td>\n",
       "      <td>(OUTDOOR HALF-SHELL STAGE: EXT. outdoor half-s...</td>\n",
       "      <td>[321.0, nan, 5830.0]</td>\n",
       "      <td>[Cheech, Audience, nan]</td>\n",
       "      <td>[OUTDOOR HALF-SHELL STAGE]</td>\n",
       "    </tr>\n",
       "    <tr>\n",
       "      <th>5699</th>\n",
       "      <td>354</td>\n",
       "      <td>8.0</td>\n",
       "      <td>Barber: (ROLLS EYES) You're the boss. Bart Sim...</td>\n",
       "      <td>[nan, 2.0, 3.0, nan, 4415.0, 101.0, 8.0, 9.0, ...</td>\n",
       "      <td>[Lisa Simpson, Homer Simpson, Barber, Ralph Wi...</td>\n",
       "      <td>[Springfield Mall]</td>\n",
       "    </tr>\n",
       "    <tr>\n",
       "      <th>288</th>\n",
       "      <td>13</td>\n",
       "      <td>205.0</td>\n",
       "      <td>(Ye Olde Off-Ramp Inn Motel Room: INT. YE OLDE...</td>\n",
       "      <td>[1.0, 2.0, nan, nan]</td>\n",
       "      <td>[Homer Simpson, Marge Simpson, nan]</td>\n",
       "      <td>[Ye Olde Off-Ramp Inn Motel Room]</td>\n",
       "    </tr>\n",
       "    <tr>\n",
       "      <th>4569</th>\n",
       "      <td>303</td>\n",
       "      <td>5.0</td>\n",
       "      <td>(Simpson Home: INT. simpson house - TV room - ...</td>\n",
       "      <td>[1.0, 2.0, nan, 8.0, 9.0, nan, nan, nan, 401.0...</td>\n",
       "      <td>[Lisa Simpson, Homer Simpson, Frankenstein, Ke...</td>\n",
       "      <td>[Simpson Home]</td>\n",
       "    </tr>\n",
       "  </tbody>\n",
       "</table>\n",
       "</div>"
      ],
      "text/plain": [
       "      episode_id  location_id  \\\n",
       "3333         174          3.0   \n",
       "6965         480       3889.0   \n",
       "5699         354          8.0   \n",
       "288           13        205.0   \n",
       "4569         303          5.0   \n",
       "\n",
       "                                               raw_text  \\\n",
       "3333  (Springfield Elementary School: INT. SPRINGFIE...   \n",
       "6965  (OUTDOOR HALF-SHELL STAGE: EXT. outdoor half-s...   \n",
       "5699  Barber: (ROLLS EYES) You're the boss. Bart Sim...   \n",
       "288   (Ye Olde Off-Ramp Inn Motel Room: INT. YE OLDE...   \n",
       "4569  (Simpson Home: INT. simpson house - TV room - ...   \n",
       "\n",
       "                                           character_id  \\\n",
       "3333                  [3.0, 39.0, 9.0, 14.0, 15.0, nan]   \n",
       "6965                               [321.0, nan, 5830.0]   \n",
       "5699  [nan, 2.0, 3.0, nan, 4415.0, 101.0, 8.0, 9.0, ...   \n",
       "288                                [1.0, 2.0, nan, nan]   \n",
       "4569  [1.0, 2.0, nan, 8.0, 9.0, nan, nan, nan, 401.0...   \n",
       "\n",
       "                                     raw_character_text  \\\n",
       "3333  [Lisa Simpson, Kids, Seymour Skinner, nan, Way...   \n",
       "6965                            [Cheech, Audience, nan]   \n",
       "5699  [Lisa Simpson, Homer Simpson, Barber, Ralph Wi...   \n",
       "288                 [Homer Simpson, Marge Simpson, nan]   \n",
       "4569  [Lisa Simpson, Homer Simpson, Frankenstein, Ke...   \n",
       "\n",
       "                      raw_location_text  \n",
       "3333    [Springfield Elementary School]  \n",
       "6965         [OUTDOOR HALF-SHELL STAGE]  \n",
       "5699                 [Springfield Mall]  \n",
       "288   [Ye Olde Off-Ramp Inn Motel Room]  \n",
       "4569                     [Simpson Home]  "
      ]
     },
     "execution_count": 339,
     "metadata": {},
     "output_type": "execute_result"
    }
   ],
   "source": [
    "df_scripts_agg.sample(5)"
   ]
  },
  {
   "cell_type": "code",
   "execution_count": 340,
   "metadata": {},
   "outputs": [
    {
     "data": {
      "text/plain": [
       "'Homer Simpson: (GASPS) Bart, did you hear that? What a name -- \"Santa\\'s Little Helper\". It\\'s a sign! It\\'s an omen! (PADDOCK: ext. paddock - night) Homer Simpson: Hey, Barney, which one is Whirlwind? Barney Gumble: Number six. That\\'s our lucky dog, right over there. He\\'s won his last five races. Homer Simpson: What! That scrawny little bag of bones? Bart Simpson: Come on, Dad. They\\'re all scrawny little bags of bones. Homer Simpson: (RESIGNED) Yeah, you\\'re right. (SIGHS) I guess Whirlwind is our only hope for a Merry Christmas. Announcer: (THRU P.A.) Attention racing fans. We have a late scratch in the fourth race. Number eight, Sir Galahad, will be replaced by Santa\\'s Little Helper. Once again, Sir Galahad has been replaced by Santa\\'s Little Helper. Bart Simpson: It\\'s a coincidence, Dad.'"
      ]
     },
     "execution_count": 340,
     "metadata": {},
     "output_type": "execute_result"
    }
   ],
   "source": [
    "df_scripts_agg['raw_text'].iloc[21]"
   ]
  },
  {
   "cell_type": "markdown",
   "metadata": {},
   "source": [
    "## Generando prompts para cada escena"
   ]
  },
  {
   "cell_type": "code",
   "execution_count": 342,
   "metadata": {},
   "outputs": [],
   "source": [
    "def prompts(characters, location):\n",
    "    separador_char = ', '\n",
    "    separador_loc = ''\n",
    "    characters = [char for char in characters if str(char) != 'nan']\n",
    "    location = [loc for loc in location if str(loc) != 'nan']\n",
    "    \n",
    "    if not characters and not location:\n",
    "        pregunta = \"Generate a scene.\"\n",
    "    elif not characters:\n",
    "        pregunta = f\"Generate a scene in {separador_loc.join(location)}.\"\n",
    "    elif not location:\n",
    "        pregunta = f\"Generate a scene with the characters: {separador_char.join(characters)}.\"\n",
    "    else:\n",
    "        pregunta = f\"Generate a scene in {separador_loc.join(location)} with the characters: {separador_char.join(characters)}.\"\n",
    "        \n",
    "    return pregunta\n"
   ]
  },
  {
   "cell_type": "markdown",
   "metadata": {},
   "source": [
    "Se necesita separador de localización porque el groupby se hizo con el id, no con el raw_text, por lo que es posible que se refieran en el mismo capítulo al mismo sitio con nombres ligeramente distintos."
   ]
  },
  {
   "cell_type": "code",
   "execution_count": 343,
   "metadata": {},
   "outputs": [
    {
     "data": {
      "text/plain": [
       "Index(['episode_id', 'location_id', 'raw_text', 'character_id',\n",
       "       'raw_character_text', 'raw_location_text'],\n",
       "      dtype='object')"
      ]
     },
     "execution_count": 343,
     "metadata": {},
     "output_type": "execute_result"
    }
   ],
   "source": [
    "df_scripts_agg.columns"
   ]
  },
  {
   "cell_type": "code",
   "execution_count": 344,
   "metadata": {},
   "outputs": [],
   "source": [
    "df_scripts_agg['prompts'] = df_scripts_agg.apply(\n",
    "    lambda row: prompts(\n",
    "        characters=row['raw_character_text'],\n",
    "        location=row['raw_location_text']\n",
    "    ),\n",
    "    axis=1\n",
    ")\n"
   ]
  },
  {
   "cell_type": "code",
   "execution_count": 345,
   "metadata": {},
   "outputs": [
    {
     "data": {
      "text/html": [
       "<div>\n",
       "<style scoped>\n",
       "    .dataframe tbody tr th:only-of-type {\n",
       "        vertical-align: middle;\n",
       "    }\n",
       "\n",
       "    .dataframe tbody tr th {\n",
       "        vertical-align: top;\n",
       "    }\n",
       "\n",
       "    .dataframe thead th {\n",
       "        text-align: right;\n",
       "    }\n",
       "</style>\n",
       "<table border=\"1\" class=\"dataframe\">\n",
       "  <thead>\n",
       "    <tr style=\"text-align: right;\">\n",
       "      <th></th>\n",
       "      <th>episode_id</th>\n",
       "      <th>location_id</th>\n",
       "      <th>raw_text</th>\n",
       "      <th>character_id</th>\n",
       "      <th>raw_character_text</th>\n",
       "      <th>raw_location_text</th>\n",
       "      <th>prompts</th>\n",
       "    </tr>\n",
       "  </thead>\n",
       "  <tbody>\n",
       "    <tr>\n",
       "      <th>0</th>\n",
       "      <td>1</td>\n",
       "      <td>1.0</td>\n",
       "      <td>(Street: ext. street - establishing - night) (...</td>\n",
       "      <td>[2.0, nan, 23.0, nan]</td>\n",
       "      <td>[Homer Simpson, Voice, nan]</td>\n",
       "      <td>[Street]</td>\n",
       "      <td>Generate a scene in Street with the characters...</td>\n",
       "    </tr>\n",
       "    <tr>\n",
       "      <th>1</th>\n",
       "      <td>1</td>\n",
       "      <td>2.0</td>\n",
       "      <td>(Car: int. car - night) Marge Simpson: Ooo, ca...</td>\n",
       "      <td>[nan, 2.0, 1.0]</td>\n",
       "      <td>[Marge Simpson, Homer Simpson, nan]</td>\n",
       "      <td>[Car]</td>\n",
       "      <td>Generate a scene in Car with the characters: M...</td>\n",
       "    </tr>\n",
       "    <tr>\n",
       "      <th>2</th>\n",
       "      <td>1</td>\n",
       "      <td>3.0</td>\n",
       "      <td>(Springfield Elementary School: Ext. springfie...</td>\n",
       "      <td>[nan]</td>\n",
       "      <td>[nan]</td>\n",
       "      <td>[Springfield Elementary School]</td>\n",
       "      <td>Generate a scene in Springfield Elementary Sch...</td>\n",
       "    </tr>\n",
       "    <tr>\n",
       "      <th>3</th>\n",
       "      <td>1</td>\n",
       "      <td>4.0</td>\n",
       "      <td>(Auditorium: int. auditorium - night) Marge Si...</td>\n",
       "      <td>[1.0, 2.0, 3.0, 4.0, 5.0, 6.0, 7.0, 8.0, nan]</td>\n",
       "      <td>[Homer Simpson, Dewey Largo, Todd Flanders, Se...</td>\n",
       "      <td>[Auditorium]</td>\n",
       "      <td>Generate a scene in Auditorium with the charac...</td>\n",
       "    </tr>\n",
       "    <tr>\n",
       "      <th>4</th>\n",
       "      <td>1</td>\n",
       "      <td>5.0</td>\n",
       "      <td>(Simpson Home: int. simpson house - living roo...</td>\n",
       "      <td>[1.0, 2.0, 8.0, 9.0, 10.0, 11.0, 12.0, 22.0, 2...</td>\n",
       "      <td>[Homer Simpson, Lisa Simpson, Grampa Simpson, ...</td>\n",
       "      <td>[Simpson Home]</td>\n",
       "      <td>Generate a scene in Simpson Home with the char...</td>\n",
       "    </tr>\n",
       "    <tr>\n",
       "      <th>...</th>\n",
       "      <td>...</td>\n",
       "      <td>...</td>\n",
       "      <td>...</td>\n",
       "      <td>...</td>\n",
       "      <td>...</td>\n",
       "      <td>...</td>\n",
       "      <td>...</td>\n",
       "    </tr>\n",
       "    <tr>\n",
       "      <th>7392</th>\n",
       "      <td>568</td>\n",
       "      <td>4455.0</td>\n",
       "      <td>(SKOBO'S: EXT. SKOBO'S - ESTABLISHING) Rev. Ti...</td>\n",
       "      <td>[192.0, 699.0, 140.0, nan]</td>\n",
       "      <td>[Rev. Timothy Lovejoy, Agnes Skinner, Sideshow...</td>\n",
       "      <td>[SKOBO'S]</td>\n",
       "      <td>Generate a scene in SKOBO'S with the character...</td>\n",
       "    </tr>\n",
       "    <tr>\n",
       "      <th>7393</th>\n",
       "      <td>568</td>\n",
       "      <td>4456.0</td>\n",
       "      <td>(FLANDERS' BASEMENT: int. flanders' basement -...</td>\n",
       "      <td>[1.0, 11.0, 140.0, 208.0, 699.0, nan]</td>\n",
       "      <td>[Apu Nahasapeemapetilon, Rev. Timothy Lovejoy,...</td>\n",
       "      <td>[FLANDERS' BASEMENT]</td>\n",
       "      <td>Generate a scene in FLANDERS' BASEMENT with th...</td>\n",
       "    </tr>\n",
       "    <tr>\n",
       "      <th>7394</th>\n",
       "      <td>568</td>\n",
       "      <td>4457.0</td>\n",
       "      <td>(CASINO FLOOR: Int. casino floor - continuous)...</td>\n",
       "      <td>[3040.0, 1.0, 2.0, nan, 11.0, 75.0, nan, nan]</td>\n",
       "      <td>[Homer Simpson, Crowd, Casino Manager, Ned Fla...</td>\n",
       "      <td>[CASINO FLOOR]</td>\n",
       "      <td>Generate a scene in CASINO FLOOR with the char...</td>\n",
       "    </tr>\n",
       "    <tr>\n",
       "      <th>7395</th>\n",
       "      <td>568</td>\n",
       "      <td>4458.0</td>\n",
       "      <td>(BURNED CHURCH: ext. burned church - continuou...</td>\n",
       "      <td>[1.0, 11.0, 140.0, nan, 699.0]</td>\n",
       "      <td>[Rev. Timothy Lovejoy, Ned Flanders, Marge Sim...</td>\n",
       "      <td>[BURNED CHURCH]</td>\n",
       "      <td>Generate a scene in BURNED CHURCH with the cha...</td>\n",
       "    </tr>\n",
       "    <tr>\n",
       "      <th>7396</th>\n",
       "      <td>568</td>\n",
       "      <td>4459.0</td>\n",
       "      <td>(PLAYDUDE MANSION: EXT. PLAYDUDE MANSION - poo...</td>\n",
       "      <td>[nan]</td>\n",
       "      <td>[nan]</td>\n",
       "      <td>[PLAYDUDE MANSION]</td>\n",
       "      <td>Generate a scene in PLAYDUDE MANSION.</td>\n",
       "    </tr>\n",
       "  </tbody>\n",
       "</table>\n",
       "<p>7397 rows × 7 columns</p>\n",
       "</div>"
      ],
      "text/plain": [
       "      episode_id  location_id  \\\n",
       "0              1          1.0   \n",
       "1              1          2.0   \n",
       "2              1          3.0   \n",
       "3              1          4.0   \n",
       "4              1          5.0   \n",
       "...          ...          ...   \n",
       "7392         568       4455.0   \n",
       "7393         568       4456.0   \n",
       "7394         568       4457.0   \n",
       "7395         568       4458.0   \n",
       "7396         568       4459.0   \n",
       "\n",
       "                                               raw_text  \\\n",
       "0     (Street: ext. street - establishing - night) (...   \n",
       "1     (Car: int. car - night) Marge Simpson: Ooo, ca...   \n",
       "2     (Springfield Elementary School: Ext. springfie...   \n",
       "3     (Auditorium: int. auditorium - night) Marge Si...   \n",
       "4     (Simpson Home: int. simpson house - living roo...   \n",
       "...                                                 ...   \n",
       "7392  (SKOBO'S: EXT. SKOBO'S - ESTABLISHING) Rev. Ti...   \n",
       "7393  (FLANDERS' BASEMENT: int. flanders' basement -...   \n",
       "7394  (CASINO FLOOR: Int. casino floor - continuous)...   \n",
       "7395  (BURNED CHURCH: ext. burned church - continuou...   \n",
       "7396  (PLAYDUDE MANSION: EXT. PLAYDUDE MANSION - poo...   \n",
       "\n",
       "                                           character_id  \\\n",
       "0                                 [2.0, nan, 23.0, nan]   \n",
       "1                                       [nan, 2.0, 1.0]   \n",
       "2                                                 [nan]   \n",
       "3         [1.0, 2.0, 3.0, 4.0, 5.0, 6.0, 7.0, 8.0, nan]   \n",
       "4     [1.0, 2.0, 8.0, 9.0, 10.0, 11.0, 12.0, 22.0, 2...   \n",
       "...                                                 ...   \n",
       "7392                         [192.0, 699.0, 140.0, nan]   \n",
       "7393              [1.0, 11.0, 140.0, 208.0, 699.0, nan]   \n",
       "7394      [3040.0, 1.0, 2.0, nan, 11.0, 75.0, nan, nan]   \n",
       "7395                     [1.0, 11.0, 140.0, nan, 699.0]   \n",
       "7396                                              [nan]   \n",
       "\n",
       "                                     raw_character_text  \\\n",
       "0                           [Homer Simpson, Voice, nan]   \n",
       "1                   [Marge Simpson, Homer Simpson, nan]   \n",
       "2                                                 [nan]   \n",
       "3     [Homer Simpson, Dewey Largo, Todd Flanders, Se...   \n",
       "4     [Homer Simpson, Lisa Simpson, Grampa Simpson, ...   \n",
       "...                                                 ...   \n",
       "7392  [Rev. Timothy Lovejoy, Agnes Skinner, Sideshow...   \n",
       "7393  [Apu Nahasapeemapetilon, Rev. Timothy Lovejoy,...   \n",
       "7394  [Homer Simpson, Crowd, Casino Manager, Ned Fla...   \n",
       "7395  [Rev. Timothy Lovejoy, Ned Flanders, Marge Sim...   \n",
       "7396                                              [nan]   \n",
       "\n",
       "                    raw_location_text  \\\n",
       "0                            [Street]   \n",
       "1                               [Car]   \n",
       "2     [Springfield Elementary School]   \n",
       "3                        [Auditorium]   \n",
       "4                      [Simpson Home]   \n",
       "...                               ...   \n",
       "7392                        [SKOBO'S]   \n",
       "7393             [FLANDERS' BASEMENT]   \n",
       "7394                   [CASINO FLOOR]   \n",
       "7395                  [BURNED CHURCH]   \n",
       "7396               [PLAYDUDE MANSION]   \n",
       "\n",
       "                                                prompts  \n",
       "0     Generate a scene in Street with the characters...  \n",
       "1     Generate a scene in Car with the characters: M...  \n",
       "2     Generate a scene in Springfield Elementary Sch...  \n",
       "3     Generate a scene in Auditorium with the charac...  \n",
       "4     Generate a scene in Simpson Home with the char...  \n",
       "...                                                 ...  \n",
       "7392  Generate a scene in SKOBO'S with the character...  \n",
       "7393  Generate a scene in FLANDERS' BASEMENT with th...  \n",
       "7394  Generate a scene in CASINO FLOOR with the char...  \n",
       "7395  Generate a scene in BURNED CHURCH with the cha...  \n",
       "7396              Generate a scene in PLAYDUDE MANSION.  \n",
       "\n",
       "[7397 rows x 7 columns]"
      ]
     },
     "execution_count": 345,
     "metadata": {},
     "output_type": "execute_result"
    }
   ],
   "source": [
    "df_scripts_agg"
   ]
  },
  {
   "cell_type": "markdown",
   "metadata": {},
   "source": [
    "## Creando csv de prompts + completion"
   ]
  },
  {
   "cell_type": "code",
   "execution_count": 346,
   "metadata": {},
   "outputs": [
    {
     "data": {
      "text/html": [
       "<div>\n",
       "<style scoped>\n",
       "    .dataframe tbody tr th:only-of-type {\n",
       "        vertical-align: middle;\n",
       "    }\n",
       "\n",
       "    .dataframe tbody tr th {\n",
       "        vertical-align: top;\n",
       "    }\n",
       "\n",
       "    .dataframe thead th {\n",
       "        text-align: right;\n",
       "    }\n",
       "</style>\n",
       "<table border=\"1\" class=\"dataframe\">\n",
       "  <thead>\n",
       "    <tr style=\"text-align: right;\">\n",
       "      <th></th>\n",
       "      <th>prompts</th>\n",
       "      <th>raw_text</th>\n",
       "    </tr>\n",
       "  </thead>\n",
       "  <tbody>\n",
       "    <tr>\n",
       "      <th>0</th>\n",
       "      <td>Generate a scene in Street with the characters...</td>\n",
       "      <td>(Street: ext. street - establishing - night) (...</td>\n",
       "    </tr>\n",
       "    <tr>\n",
       "      <th>1</th>\n",
       "      <td>Generate a scene in Car with the characters: M...</td>\n",
       "      <td>(Car: int. car - night) Marge Simpson: Ooo, ca...</td>\n",
       "    </tr>\n",
       "    <tr>\n",
       "      <th>2</th>\n",
       "      <td>Generate a scene in Springfield Elementary Sch...</td>\n",
       "      <td>(Springfield Elementary School: Ext. springfie...</td>\n",
       "    </tr>\n",
       "    <tr>\n",
       "      <th>3</th>\n",
       "      <td>Generate a scene in Auditorium with the charac...</td>\n",
       "      <td>(Auditorium: int. auditorium - night) Marge Si...</td>\n",
       "    </tr>\n",
       "    <tr>\n",
       "      <th>4</th>\n",
       "      <td>Generate a scene in Simpson Home with the char...</td>\n",
       "      <td>(Simpson Home: int. simpson house - living roo...</td>\n",
       "    </tr>\n",
       "  </tbody>\n",
       "</table>\n",
       "</div>"
      ],
      "text/plain": [
       "                                             prompts  \\\n",
       "0  Generate a scene in Street with the characters...   \n",
       "1  Generate a scene in Car with the characters: M...   \n",
       "2  Generate a scene in Springfield Elementary Sch...   \n",
       "3  Generate a scene in Auditorium with the charac...   \n",
       "4  Generate a scene in Simpson Home with the char...   \n",
       "\n",
       "                                            raw_text  \n",
       "0  (Street: ext. street - establishing - night) (...  \n",
       "1  (Car: int. car - night) Marge Simpson: Ooo, ca...  \n",
       "2  (Springfield Elementary School: Ext. springfie...  \n",
       "3  (Auditorium: int. auditorium - night) Marge Si...  \n",
       "4  (Simpson Home: int. simpson house - living roo...  "
      ]
     },
     "execution_count": 346,
     "metadata": {},
     "output_type": "execute_result"
    }
   ],
   "source": [
    "df_prompts = df_scripts_agg[['prompts', 'raw_text']]\n",
    "df_prompts.head()"
   ]
  },
  {
   "cell_type": "code",
   "execution_count": 347,
   "metadata": {},
   "outputs": [
    {
     "name": "stderr",
     "output_type": "stream",
     "text": [
      "/var/folders/wr/llsqfgn14y9g_c3l32fq8qxw0000gn/T/ipykernel_69906/1256655453.py:1: SettingWithCopyWarning: \n",
      "A value is trying to be set on a copy of a slice from a DataFrame\n",
      "\n",
      "See the caveats in the documentation: https://pandas.pydata.org/pandas-docs/stable/user_guide/indexing.html#returning-a-view-versus-a-copy\n",
      "  df_prompts.rename(columns={'prompts': 'prompt',\n"
     ]
    },
    {
     "data": {
      "text/html": [
       "<div>\n",
       "<style scoped>\n",
       "    .dataframe tbody tr th:only-of-type {\n",
       "        vertical-align: middle;\n",
       "    }\n",
       "\n",
       "    .dataframe tbody tr th {\n",
       "        vertical-align: top;\n",
       "    }\n",
       "\n",
       "    .dataframe thead th {\n",
       "        text-align: right;\n",
       "    }\n",
       "</style>\n",
       "<table border=\"1\" class=\"dataframe\">\n",
       "  <thead>\n",
       "    <tr style=\"text-align: right;\">\n",
       "      <th></th>\n",
       "      <th>prompt</th>\n",
       "      <th>completion</th>\n",
       "    </tr>\n",
       "  </thead>\n",
       "  <tbody>\n",
       "    <tr>\n",
       "      <th>2798</th>\n",
       "      <td>Generate a scene in SEWER DRAIN with the chara...</td>\n",
       "      <td>(SEWER DRAIN: int. sewer drain - a minute late...</td>\n",
       "    </tr>\n",
       "  </tbody>\n",
       "</table>\n",
       "</div>"
      ],
      "text/plain": [
       "                                                 prompt  \\\n",
       "2798  Generate a scene in SEWER DRAIN with the chara...   \n",
       "\n",
       "                                             completion  \n",
       "2798  (SEWER DRAIN: int. sewer drain - a minute late...  "
      ]
     },
     "execution_count": 347,
     "metadata": {},
     "output_type": "execute_result"
    }
   ],
   "source": [
    "df_prompts.rename(columns={'prompts': 'prompt',\n",
    "                        'raw_text': 'completion'}, inplace=True)\n",
    "df_prompts.sample()"
   ]
  },
  {
   "cell_type": "code",
   "execution_count": 348,
   "metadata": {},
   "outputs": [
    {
     "data": {
      "text/plain": [
       "'(KITCHEN: int. kitchen - morning) Marge Simpson: Kids, you want to go Christmas shopping? Lisa Simpson: I do! Bart Simpson: All right, the mall! Marge Simpson: Go get your money. Homer Simpson: Spill it, Marge. Where have you been hiding the Christmas money? Marge Simpson: Oh, I have my secrets. Turn around. Marge Simpson: You can look now. Homer Simpson: Oh! Big jar this year.'"
      ]
     },
     "execution_count": 348,
     "metadata": {},
     "output_type": "execute_result"
    }
   ],
   "source": [
    "df_prompts['completion'].iloc[5]"
   ]
  },
  {
   "cell_type": "code",
   "execution_count": 349,
   "metadata": {},
   "outputs": [],
   "source": [
    "df_prompts.to_csv('Modelos/archivos_jsonl/prompts_example_2.csv', index=False)"
   ]
  },
  {
   "cell_type": "markdown",
   "metadata": {},
   "source": [
    "Este es el formato típico para los modelos de davinci y de babbage"
   ]
  }
 ],
 "metadata": {
  "kernelspec": {
   "display_name": "Python 3",
   "language": "python",
   "name": "python3"
  },
  "language_info": {
   "codemirror_mode": {
    "name": "ipython",
    "version": 3
   },
   "file_extension": ".py",
   "mimetype": "text/x-python",
   "name": "python",
   "nbconvert_exporter": "python",
   "pygments_lexer": "ipython3",
   "version": "3.11.1"
  }
 },
 "nbformat": 4,
 "nbformat_minor": 2
}
