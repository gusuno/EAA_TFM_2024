{
 "cells": [
  {
   "cell_type": "markdown",
   "metadata": {},
   "source": [
    "# Modelo de Clasificación para personajes de Los Simpson"
   ]
  },
  {
   "cell_type": "markdown",
   "metadata": {},
   "source": [
    "## Librerías"
   ]
  },
  {
   "cell_type": "code",
   "execution_count": 1,
   "metadata": {},
   "outputs": [],
   "source": [
    "\n",
    "import numpy as np\n",
    "import pandas as pd\n",
    "import matplotlib.pyplot as plt\n",
    "import seaborn as sns\n",
    "import fasttext\n",
    "from sklearn.model_selection import train_test_split\n",
    "from sklearn.preprocessing import StandardScaler\n",
    "from sklearn.linear_model import LogisticRegression\n",
    "from sklearn.ensemble import RandomForestClassifier\n",
    "from sklearn.metrics import classification_report, accuracy_score, confusion_matrix\n",
    "from sklearn.decomposition import PCA\n",
    "import warnings\n",
    "warnings.filterwarnings(\"ignore\")\n",
    "import tensorflow as tf\n",
    "from tensorflow.keras.models import Sequential\n",
    "from tensorflow.keras.layers import Dense\n",
    "from tensorflow.keras.optimizers.legacy import Adam\n",
    "from tensorflow.keras.callbacks import LearningRateScheduler\n",
    "from sklearn.preprocessing import LabelEncoder\n",
    "from sklearn.model_selection import GridSearchCV\n",
    "from sklearn.pipeline import Pipeline\n",
    "import pickle\n",
    "import joblib"
   ]
  },
  {
   "cell_type": "markdown",
   "metadata": {},
   "source": [
    "## Cargar Datos"
   ]
  },
  {
   "cell_type": "code",
   "execution_count": 2,
   "metadata": {},
   "outputs": [
    {
     "data": {
      "text/plain": [
       "(158270, 13)"
      ]
     },
     "execution_count": 2,
     "metadata": {},
     "output_type": "execute_result"
    }
   ],
   "source": [
    "df = pd.read_csv('The Saimpsons Archive/in_use/simpsons_script_lines.csv')\n",
    "df.shape"
   ]
  },
  {
   "cell_type": "code",
   "execution_count": 3,
   "metadata": {},
   "outputs": [
    {
     "data": {
      "text/html": [
       "<div>\n",
       "<style scoped>\n",
       "    .dataframe tbody tr th:only-of-type {\n",
       "        vertical-align: middle;\n",
       "    }\n",
       "\n",
       "    .dataframe tbody tr th {\n",
       "        vertical-align: top;\n",
       "    }\n",
       "\n",
       "    .dataframe thead th {\n",
       "        text-align: right;\n",
       "    }\n",
       "</style>\n",
       "<table border=\"1\" class=\"dataframe\">\n",
       "  <thead>\n",
       "    <tr style=\"text-align: right;\">\n",
       "      <th></th>\n",
       "      <th>id</th>\n",
       "      <th>episode_id</th>\n",
       "      <th>number</th>\n",
       "      <th>raw_text</th>\n",
       "      <th>timestamp_in_ms</th>\n",
       "      <th>speaking_line</th>\n",
       "      <th>character_id</th>\n",
       "      <th>location_id</th>\n",
       "      <th>raw_character_text</th>\n",
       "      <th>raw_location_text</th>\n",
       "      <th>spoken_words</th>\n",
       "      <th>normalized_text</th>\n",
       "      <th>word_count</th>\n",
       "    </tr>\n",
       "  </thead>\n",
       "  <tbody>\n",
       "    <tr>\n",
       "      <th>75070</th>\n",
       "      <td>85005</td>\n",
       "      <td>294</td>\n",
       "      <td>155</td>\n",
       "      <td>(Highway: ext. highway - continuous)</td>\n",
       "      <td>738000</td>\n",
       "      <td>False</td>\n",
       "      <td>NaN</td>\n",
       "      <td>238.0</td>\n",
       "      <td>NaN</td>\n",
       "      <td>Highway</td>\n",
       "      <td>NaN</td>\n",
       "      <td>NaN</td>\n",
       "      <td>0.0</td>\n",
       "    </tr>\n",
       "  </tbody>\n",
       "</table>\n",
       "</div>"
      ],
      "text/plain": [
       "          id  episode_id  number                              raw_text  \\\n",
       "75070  85005         294     155  (Highway: ext. highway - continuous)   \n",
       "\n",
       "       timestamp_in_ms  speaking_line  character_id  location_id  \\\n",
       "75070           738000          False           NaN        238.0   \n",
       "\n",
       "      raw_character_text raw_location_text spoken_words normalized_text  \\\n",
       "75070                NaN           Highway          NaN             NaN   \n",
       "\n",
       "       word_count  \n",
       "75070         0.0  "
      ]
     },
     "execution_count": 3,
     "metadata": {},
     "output_type": "execute_result"
    }
   ],
   "source": [
    "df.sample()"
   ]
  },
  {
   "cell_type": "code",
   "execution_count": 4,
   "metadata": {},
   "outputs": [
    {
     "data": {
      "text/plain": [
       "(132112, 13)"
      ]
     },
     "execution_count": 4,
     "metadata": {},
     "output_type": "execute_result"
    }
   ],
   "source": [
    "df = df[df['speaking_line']==True]\n",
    "df.shape"
   ]
  },
  {
   "cell_type": "code",
   "execution_count": 5,
   "metadata": {},
   "outputs": [
    {
     "data": {
      "text/plain": [
       "(132112, 5)"
      ]
     },
     "execution_count": 5,
     "metadata": {},
     "output_type": "execute_result"
    }
   ],
   "source": [
    "df = df[['episode_id', 'character_id', 'raw_character_text', 'location_id', 'spoken_words']]\n",
    "df.shape"
   ]
  },
  {
   "cell_type": "markdown",
   "metadata": {},
   "source": [
    "# Filtrado por relevancia de personajes"
   ]
  },
  {
   "cell_type": "code",
   "execution_count": 6,
   "metadata": {},
   "outputs": [
    {
     "data": {
      "text/html": [
       "<div>\n",
       "<style scoped>\n",
       "    .dataframe tbody tr th:only-of-type {\n",
       "        vertical-align: middle;\n",
       "    }\n",
       "\n",
       "    .dataframe tbody tr th {\n",
       "        vertical-align: top;\n",
       "    }\n",
       "\n",
       "    .dataframe thead th {\n",
       "        text-align: right;\n",
       "    }\n",
       "</style>\n",
       "<table border=\"1\" class=\"dataframe\">\n",
       "  <thead>\n",
       "    <tr style=\"text-align: right;\">\n",
       "      <th></th>\n",
       "      <th>episode_id</th>\n",
       "      <th>character_id</th>\n",
       "      <th>raw_character_text</th>\n",
       "      <th>location_id</th>\n",
       "      <th>spoken_words</th>\n",
       "    </tr>\n",
       "  </thead>\n",
       "  <tbody>\n",
       "    <tr>\n",
       "      <th>150153</th>\n",
       "      <td>5</td>\n",
       "      <td>104.0</td>\n",
       "      <td>Weasel #2</td>\n",
       "      <td>73.0</td>\n",
       "      <td>Too bad.</td>\n",
       "    </tr>\n",
       "  </tbody>\n",
       "</table>\n",
       "</div>"
      ],
      "text/plain": [
       "        episode_id  character_id raw_character_text  location_id spoken_words\n",
       "150153           5         104.0          Weasel #2         73.0     Too bad."
      ]
     },
     "execution_count": 6,
     "metadata": {},
     "output_type": "execute_result"
    }
   ],
   "source": [
    "df.sample()"
   ]
  },
  {
   "cell_type": "code",
   "execution_count": 7,
   "metadata": {},
   "outputs": [
    {
     "data": {
      "image/png": "[encoded data removed]",
      "text/plain": [
       "<Figure size 640x480 with 1 Axes>"
      ]
     },
     "metadata": {},
     "output_type": "display_data"
    }
   ],
   "source": [
    "char_relevance = df['character_id'].value_counts(normalize=True) *100\n",
    "\n",
    "char_relevance.sort_values(ascending=False).head(30).plot(kind='bar')\n",
    "plt.ylabel('Apariciones del personaje (%)')\n",
    "plt.xlabel('character_id')\n",
    "plt.show()"
   ]
  },
  {
   "cell_type": "code",
   "execution_count": 8,
   "metadata": {},
   "outputs": [
    {
     "data": {
      "text/html": [
       "<div>\n",
       "<style scoped>\n",
       "    .dataframe tbody tr th:only-of-type {\n",
       "        vertical-align: middle;\n",
       "    }\n",
       "\n",
       "    .dataframe tbody tr th {\n",
       "        vertical-align: top;\n",
       "    }\n",
       "\n",
       "    .dataframe thead th {\n",
       "        text-align: right;\n",
       "    }\n",
       "</style>\n",
       "<table border=\"1\" class=\"dataframe\">\n",
       "  <thead>\n",
       "    <tr style=\"text-align: right;\">\n",
       "      <th></th>\n",
       "      <th>episode_id</th>\n",
       "      <th>character_id</th>\n",
       "      <th>raw_character_text</th>\n",
       "      <th>location_id</th>\n",
       "      <th>spoken_words</th>\n",
       "      <th>spoken_words_count</th>\n",
       "    </tr>\n",
       "  </thead>\n",
       "  <tbody>\n",
       "    <tr>\n",
       "      <th>0</th>\n",
       "      <td>32</td>\n",
       "      <td>464.0</td>\n",
       "      <td>Miss Hoover</td>\n",
       "      <td>3.0</td>\n",
       "      <td>No, actually, it was a little of both. Sometim...</td>\n",
       "      <td>31</td>\n",
       "    </tr>\n",
       "    <tr>\n",
       "      <th>1</th>\n",
       "      <td>32</td>\n",
       "      <td>9.0</td>\n",
       "      <td>Lisa Simpson</td>\n",
       "      <td>3.0</td>\n",
       "      <td>Where's Mr. Bergstrom?</td>\n",
       "      <td>3</td>\n",
       "    </tr>\n",
       "    <tr>\n",
       "      <th>2</th>\n",
       "      <td>32</td>\n",
       "      <td>464.0</td>\n",
       "      <td>Miss Hoover</td>\n",
       "      <td>3.0</td>\n",
       "      <td>I don't know. Although I'd sure like to talk t...</td>\n",
       "      <td>22</td>\n",
       "    </tr>\n",
       "    <tr>\n",
       "      <th>3</th>\n",
       "      <td>32</td>\n",
       "      <td>9.0</td>\n",
       "      <td>Lisa Simpson</td>\n",
       "      <td>3.0</td>\n",
       "      <td>That life is worth living.</td>\n",
       "      <td>5</td>\n",
       "    </tr>\n",
       "    <tr>\n",
       "      <th>4</th>\n",
       "      <td>32</td>\n",
       "      <td>40.0</td>\n",
       "      <td>Edna Krabappel-Flanders</td>\n",
       "      <td>3.0</td>\n",
       "      <td>The polls will be open from now until the end ...</td>\n",
       "      <td>33</td>\n",
       "    </tr>\n",
       "    <tr>\n",
       "      <th>...</th>\n",
       "      <td>...</td>\n",
       "      <td>...</td>\n",
       "      <td>...</td>\n",
       "      <td>...</td>\n",
       "      <td>...</td>\n",
       "      <td>...</td>\n",
       "    </tr>\n",
       "    <tr>\n",
       "      <th>158265</th>\n",
       "      <td>32</td>\n",
       "      <td>464.0</td>\n",
       "      <td>Miss Hoover</td>\n",
       "      <td>3.0</td>\n",
       "      <td>I'm back.</td>\n",
       "      <td>2</td>\n",
       "    </tr>\n",
       "    <tr>\n",
       "      <th>158266</th>\n",
       "      <td>32</td>\n",
       "      <td>464.0</td>\n",
       "      <td>Miss Hoover</td>\n",
       "      <td>3.0</td>\n",
       "      <td>You see, class, my Lyme disease turned out to ...</td>\n",
       "      <td>10</td>\n",
       "    </tr>\n",
       "    <tr>\n",
       "      <th>158267</th>\n",
       "      <td>32</td>\n",
       "      <td>464.0</td>\n",
       "      <td>Miss Hoover</td>\n",
       "      <td>3.0</td>\n",
       "      <td>Psy-cho-so-ma-tic.</td>\n",
       "      <td>1</td>\n",
       "    </tr>\n",
       "    <tr>\n",
       "      <th>158268</th>\n",
       "      <td>32</td>\n",
       "      <td>119.0</td>\n",
       "      <td>Ralph Wiggum</td>\n",
       "      <td>3.0</td>\n",
       "      <td>Does that mean you were crazy?</td>\n",
       "      <td>6</td>\n",
       "    </tr>\n",
       "    <tr>\n",
       "      <th>158269</th>\n",
       "      <td>32</td>\n",
       "      <td>4.0</td>\n",
       "      <td>JANEY</td>\n",
       "      <td>3.0</td>\n",
       "      <td>No, that means she was faking it.</td>\n",
       "      <td>7</td>\n",
       "    </tr>\n",
       "  </tbody>\n",
       "</table>\n",
       "<p>132112 rows × 6 columns</p>\n",
       "</div>"
      ],
      "text/plain": [
       "        episode_id  character_id       raw_character_text  location_id  \\\n",
       "0               32         464.0              Miss Hoover          3.0   \n",
       "1               32           9.0             Lisa Simpson          3.0   \n",
       "2               32         464.0              Miss Hoover          3.0   \n",
       "3               32           9.0             Lisa Simpson          3.0   \n",
       "4               32          40.0  Edna Krabappel-Flanders          3.0   \n",
       "...            ...           ...                      ...          ...   \n",
       "158265          32         464.0              Miss Hoover          3.0   \n",
       "158266          32         464.0              Miss Hoover          3.0   \n",
       "158267          32         464.0              Miss Hoover          3.0   \n",
       "158268          32         119.0             Ralph Wiggum          3.0   \n",
       "158269          32           4.0                    JANEY          3.0   \n",
       "\n",
       "                                             spoken_words  spoken_words_count  \n",
       "0       No, actually, it was a little of both. Sometim...                  31  \n",
       "1                                  Where's Mr. Bergstrom?                   3  \n",
       "2       I don't know. Although I'd sure like to talk t...                  22  \n",
       "3                              That life is worth living.                   5  \n",
       "4       The polls will be open from now until the end ...                  33  \n",
       "...                                                   ...                 ...  \n",
       "158265                                          I'm back.                   2  \n",
       "158266  You see, class, my Lyme disease turned out to ...                  10  \n",
       "158267                                 Psy-cho-so-ma-tic.                   1  \n",
       "158268                     Does that mean you were crazy?                   6  \n",
       "158269                  No, that means she was faking it.                   7  \n",
       "\n",
       "[132112 rows x 6 columns]"
      ]
     },
     "execution_count": 8,
     "metadata": {},
     "output_type": "execute_result"
    }
   ],
   "source": [
    "def count_words(text):\n",
    "    return len(text.split())\n",
    "\n",
    "df['spoken_words_count'] = df['spoken_words'].apply(lambda x: count_words(x))\n",
    "df"
   ]
  },
  {
   "cell_type": "code",
   "execution_count": 9,
   "metadata": {},
   "outputs": [
    {
     "data": {
      "text/plain": [
       "(96900, 6)"
      ]
     },
     "execution_count": 9,
     "metadata": {},
     "output_type": "execute_result"
    }
   ],
   "source": [
    "df = df.query('spoken_words_count >= 5')\n",
    "df.shape"
   ]
  },
  {
   "cell_type": "code",
   "execution_count": 10,
   "metadata": {},
   "outputs": [
    {
     "data": {
      "text/html": [
       "<div>\n",
       "<style scoped>\n",
       "    .dataframe tbody tr th:only-of-type {\n",
       "        vertical-align: middle;\n",
       "    }\n",
       "\n",
       "    .dataframe tbody tr th {\n",
       "        vertical-align: top;\n",
       "    }\n",
       "\n",
       "    .dataframe thead th {\n",
       "        text-align: right;\n",
       "    }\n",
       "</style>\n",
       "<table border=\"1\" class=\"dataframe\">\n",
       "  <thead>\n",
       "    <tr style=\"text-align: right;\">\n",
       "      <th></th>\n",
       "      <th>index</th>\n",
       "      <th>episode_id</th>\n",
       "      <th>character_id</th>\n",
       "      <th>raw_character_text</th>\n",
       "      <th>location_id</th>\n",
       "      <th>spoken_words</th>\n",
       "      <th>spoken_words_count</th>\n",
       "    </tr>\n",
       "  </thead>\n",
       "  <tbody>\n",
       "    <tr>\n",
       "      <th>0</th>\n",
       "      <td>0</td>\n",
       "      <td>32</td>\n",
       "      <td>464.0</td>\n",
       "      <td>Miss Hoover</td>\n",
       "      <td>3.0</td>\n",
       "      <td>No, actually, it was a little of both. Sometim...</td>\n",
       "      <td>31</td>\n",
       "    </tr>\n",
       "    <tr>\n",
       "      <th>1</th>\n",
       "      <td>2</td>\n",
       "      <td>32</td>\n",
       "      <td>464.0</td>\n",
       "      <td>Miss Hoover</td>\n",
       "      <td>3.0</td>\n",
       "      <td>I don't know. Although I'd sure like to talk t...</td>\n",
       "      <td>22</td>\n",
       "    </tr>\n",
       "    <tr>\n",
       "      <th>2</th>\n",
       "      <td>3</td>\n",
       "      <td>32</td>\n",
       "      <td>9.0</td>\n",
       "      <td>Lisa Simpson</td>\n",
       "      <td>3.0</td>\n",
       "      <td>That life is worth living.</td>\n",
       "      <td>5</td>\n",
       "    </tr>\n",
       "    <tr>\n",
       "      <th>3</th>\n",
       "      <td>4</td>\n",
       "      <td>32</td>\n",
       "      <td>40.0</td>\n",
       "      <td>Edna Krabappel-Flanders</td>\n",
       "      <td>3.0</td>\n",
       "      <td>The polls will be open from now until the end ...</td>\n",
       "      <td>33</td>\n",
       "    </tr>\n",
       "    <tr>\n",
       "      <th>4</th>\n",
       "      <td>5</td>\n",
       "      <td>32</td>\n",
       "      <td>38.0</td>\n",
       "      <td>Martin Prince</td>\n",
       "      <td>3.0</td>\n",
       "      <td>I don't think there's anything left to say.</td>\n",
       "      <td>8</td>\n",
       "    </tr>\n",
       "    <tr>\n",
       "      <th>...</th>\n",
       "      <td>...</td>\n",
       "      <td>...</td>\n",
       "      <td>...</td>\n",
       "      <td>...</td>\n",
       "      <td>...</td>\n",
       "      <td>...</td>\n",
       "      <td>...</td>\n",
       "    </tr>\n",
       "    <tr>\n",
       "      <th>96895</th>\n",
       "      <td>158261</td>\n",
       "      <td>32</td>\n",
       "      <td>9.0</td>\n",
       "      <td>Lisa Simpson</td>\n",
       "      <td>373.0</td>\n",
       "      <td>Can we do it this week?</td>\n",
       "      <td>6</td>\n",
       "    </tr>\n",
       "    <tr>\n",
       "      <th>96896</th>\n",
       "      <td>158263</td>\n",
       "      <td>32</td>\n",
       "      <td>9.0</td>\n",
       "      <td>Lisa Simpson</td>\n",
       "      <td>3.0</td>\n",
       "      <td>Mr. Bergstrom, we request the pleasure of your...</td>\n",
       "      <td>33</td>\n",
       "    </tr>\n",
       "    <tr>\n",
       "      <th>96897</th>\n",
       "      <td>158266</td>\n",
       "      <td>32</td>\n",
       "      <td>464.0</td>\n",
       "      <td>Miss Hoover</td>\n",
       "      <td>3.0</td>\n",
       "      <td>You see, class, my Lyme disease turned out to ...</td>\n",
       "      <td>10</td>\n",
       "    </tr>\n",
       "    <tr>\n",
       "      <th>96898</th>\n",
       "      <td>158268</td>\n",
       "      <td>32</td>\n",
       "      <td>119.0</td>\n",
       "      <td>Ralph Wiggum</td>\n",
       "      <td>3.0</td>\n",
       "      <td>Does that mean you were crazy?</td>\n",
       "      <td>6</td>\n",
       "    </tr>\n",
       "    <tr>\n",
       "      <th>96899</th>\n",
       "      <td>158269</td>\n",
       "      <td>32</td>\n",
       "      <td>4.0</td>\n",
       "      <td>JANEY</td>\n",
       "      <td>3.0</td>\n",
       "      <td>No, that means she was faking it.</td>\n",
       "      <td>7</td>\n",
       "    </tr>\n",
       "  </tbody>\n",
       "</table>\n",
       "<p>96900 rows × 7 columns</p>\n",
       "</div>"
      ],
      "text/plain": [
       "        index  episode_id  character_id       raw_character_text  location_id  \\\n",
       "0           0          32         464.0              Miss Hoover          3.0   \n",
       "1           2          32         464.0              Miss Hoover          3.0   \n",
       "2           3          32           9.0             Lisa Simpson          3.0   \n",
       "3           4          32          40.0  Edna Krabappel-Flanders          3.0   \n",
       "4           5          32          38.0            Martin Prince          3.0   \n",
       "...       ...         ...           ...                      ...          ...   \n",
       "96895  158261          32           9.0             Lisa Simpson        373.0   \n",
       "96896  158263          32           9.0             Lisa Simpson          3.0   \n",
       "96897  158266          32         464.0              Miss Hoover          3.0   \n",
       "96898  158268          32         119.0             Ralph Wiggum          3.0   \n",
       "96899  158269          32           4.0                    JANEY          3.0   \n",
       "\n",
       "                                            spoken_words  spoken_words_count  \n",
       "0      No, actually, it was a little of both. Sometim...                  31  \n",
       "1      I don't know. Although I'd sure like to talk t...                  22  \n",
       "2                             That life is worth living.                   5  \n",
       "3      The polls will be open from now until the end ...                  33  \n",
       "4            I don't think there's anything left to say.                   8  \n",
       "...                                                  ...                 ...  \n",
       "96895                            Can we do it this week?                   6  \n",
       "96896  Mr. Bergstrom, we request the pleasure of your...                  33  \n",
       "96897  You see, class, my Lyme disease turned out to ...                  10  \n",
       "96898                     Does that mean you were crazy?                   6  \n",
       "96899                  No, that means she was faking it.                   7  \n",
       "\n",
       "[96900 rows x 7 columns]"
      ]
     },
     "execution_count": 10,
     "metadata": {},
     "output_type": "execute_result"
    }
   ],
   "source": [
    "df=df.reset_index()\n",
    "df"
   ]
  },
  {
   "cell_type": "code",
   "execution_count": 11,
   "metadata": {},
   "outputs": [
    {
     "data": {
      "text/html": [
       "<div>\n",
       "<style scoped>\n",
       "    .dataframe tbody tr th:only-of-type {\n",
       "        vertical-align: middle;\n",
       "    }\n",
       "\n",
       "    .dataframe tbody tr th {\n",
       "        vertical-align: top;\n",
       "    }\n",
       "\n",
       "    .dataframe thead th {\n",
       "        text-align: right;\n",
       "    }\n",
       "</style>\n",
       "<table border=\"1\" class=\"dataframe\">\n",
       "  <thead>\n",
       "    <tr style=\"text-align: right;\">\n",
       "      <th></th>\n",
       "      <th>index</th>\n",
       "      <th>episode_id</th>\n",
       "      <th>character_id</th>\n",
       "      <th>raw_character_text</th>\n",
       "      <th>location_id</th>\n",
       "      <th>spoken_words</th>\n",
       "      <th>spoken_words_count</th>\n",
       "    </tr>\n",
       "  </thead>\n",
       "  <tbody>\n",
       "    <tr>\n",
       "      <th>2</th>\n",
       "      <td>3</td>\n",
       "      <td>32</td>\n",
       "      <td>9.0</td>\n",
       "      <td>Lisa Simpson</td>\n",
       "      <td>3.0</td>\n",
       "      <td>That life is worth living.</td>\n",
       "      <td>5</td>\n",
       "    </tr>\n",
       "    <tr>\n",
       "      <th>5</th>\n",
       "      <td>7</td>\n",
       "      <td>32</td>\n",
       "      <td>8.0</td>\n",
       "      <td>Bart Simpson</td>\n",
       "      <td>3.0</td>\n",
       "      <td>Victory party under the slide!</td>\n",
       "      <td>5</td>\n",
       "    </tr>\n",
       "    <tr>\n",
       "      <th>7</th>\n",
       "      <td>11</td>\n",
       "      <td>32</td>\n",
       "      <td>9.0</td>\n",
       "      <td>Lisa Simpson</td>\n",
       "      <td>374.0</td>\n",
       "      <td>Do you know where I could find him?</td>\n",
       "      <td>8</td>\n",
       "    </tr>\n",
       "    <tr>\n",
       "      <th>9</th>\n",
       "      <td>13</td>\n",
       "      <td>32</td>\n",
       "      <td>9.0</td>\n",
       "      <td>Lisa Simpson</td>\n",
       "      <td>374.0</td>\n",
       "      <td>The train, how like him... traditional, yet en...</td>\n",
       "      <td>9</td>\n",
       "    </tr>\n",
       "    <tr>\n",
       "      <th>11</th>\n",
       "      <td>15</td>\n",
       "      <td>32</td>\n",
       "      <td>9.0</td>\n",
       "      <td>Lisa Simpson</td>\n",
       "      <td>374.0</td>\n",
       "      <td>I see he touched you, too.</td>\n",
       "      <td>6</td>\n",
       "    </tr>\n",
       "    <tr>\n",
       "      <th>...</th>\n",
       "      <td>...</td>\n",
       "      <td>...</td>\n",
       "      <td>...</td>\n",
       "      <td>...</td>\n",
       "      <td>...</td>\n",
       "      <td>...</td>\n",
       "      <td>...</td>\n",
       "    </tr>\n",
       "    <tr>\n",
       "      <th>96892</th>\n",
       "      <td>158251</td>\n",
       "      <td>32</td>\n",
       "      <td>9.0</td>\n",
       "      <td>Lisa Simpson</td>\n",
       "      <td>373.0</td>\n",
       "      <td>Can I dye my shoes pink?</td>\n",
       "      <td>6</td>\n",
       "    </tr>\n",
       "    <tr>\n",
       "      <th>96893</th>\n",
       "      <td>158253</td>\n",
       "      <td>32</td>\n",
       "      <td>9.0</td>\n",
       "      <td>Lisa Simpson</td>\n",
       "      <td>373.0</td>\n",
       "      <td>Can I paint my nails?</td>\n",
       "      <td>5</td>\n",
       "    </tr>\n",
       "    <tr>\n",
       "      <th>96894</th>\n",
       "      <td>158259</td>\n",
       "      <td>32</td>\n",
       "      <td>9.0</td>\n",
       "      <td>Lisa Simpson</td>\n",
       "      <td>373.0</td>\n",
       "      <td>Does Bart have to be there?</td>\n",
       "      <td>6</td>\n",
       "    </tr>\n",
       "    <tr>\n",
       "      <th>96895</th>\n",
       "      <td>158261</td>\n",
       "      <td>32</td>\n",
       "      <td>9.0</td>\n",
       "      <td>Lisa Simpson</td>\n",
       "      <td>373.0</td>\n",
       "      <td>Can we do it this week?</td>\n",
       "      <td>6</td>\n",
       "    </tr>\n",
       "    <tr>\n",
       "      <th>96896</th>\n",
       "      <td>158263</td>\n",
       "      <td>32</td>\n",
       "      <td>9.0</td>\n",
       "      <td>Lisa Simpson</td>\n",
       "      <td>3.0</td>\n",
       "      <td>Mr. Bergstrom, we request the pleasure of your...</td>\n",
       "      <td>33</td>\n",
       "    </tr>\n",
       "  </tbody>\n",
       "</table>\n",
       "<p>60288 rows × 7 columns</p>\n",
       "</div>"
      ],
      "text/plain": [
       "        index  episode_id  character_id raw_character_text  location_id  \\\n",
       "2           3          32           9.0       Lisa Simpson          3.0   \n",
       "5           7          32           8.0       Bart Simpson          3.0   \n",
       "7          11          32           9.0       Lisa Simpson        374.0   \n",
       "9          13          32           9.0       Lisa Simpson        374.0   \n",
       "11         15          32           9.0       Lisa Simpson        374.0   \n",
       "...       ...         ...           ...                ...          ...   \n",
       "96892  158251          32           9.0       Lisa Simpson        373.0   \n",
       "96893  158253          32           9.0       Lisa Simpson        373.0   \n",
       "96894  158259          32           9.0       Lisa Simpson        373.0   \n",
       "96895  158261          32           9.0       Lisa Simpson        373.0   \n",
       "96896  158263          32           9.0       Lisa Simpson          3.0   \n",
       "\n",
       "                                            spoken_words  spoken_words_count  \n",
       "2                             That life is worth living.                   5  \n",
       "5                         Victory party under the slide!                   5  \n",
       "7                    Do you know where I could find him?                   8  \n",
       "9      The train, how like him... traditional, yet en...                   9  \n",
       "11                            I see he touched you, too.                   6  \n",
       "...                                                  ...                 ...  \n",
       "96892                           Can I dye my shoes pink?                   6  \n",
       "96893                              Can I paint my nails?                   5  \n",
       "96894                        Does Bart have to be there?                   6  \n",
       "96895                            Can we do it this week?                   6  \n",
       "96896  Mr. Bergstrom, we request the pleasure of your...                  33  \n",
       "\n",
       "[60288 rows x 7 columns]"
      ]
     },
     "execution_count": 11,
     "metadata": {},
     "output_type": "execute_result"
    }
   ],
   "source": [
    "mas_de_1000 = df['character_id'].value_counts()[df['character_id'].value_counts() > 1000].index\n",
    "df = df[df['character_id'].isin(mas_de_1000)]\n",
    "df"
   ]
  },
  {
   "cell_type": "code",
   "execution_count": 12,
   "metadata": {},
   "outputs": [
    {
     "data": {
      "text/plain": [
       "index                   0\n",
       "episode_id              0\n",
       "character_id            0\n",
       "raw_character_text      0\n",
       "location_id           113\n",
       "spoken_words            0\n",
       "spoken_words_count      0\n",
       "dtype: int64"
      ]
     },
     "execution_count": 12,
     "metadata": {},
     "output_type": "execute_result"
    }
   ],
   "source": [
    "df.isna().sum()"
   ]
  },
  {
   "cell_type": "code",
   "execution_count": 13,
   "metadata": {},
   "outputs": [],
   "source": [
    "df.dropna(subset=['raw_character_text'], inplace=True)"
   ]
  },
  {
   "cell_type": "code",
   "execution_count": 14,
   "metadata": {},
   "outputs": [
    {
     "data": {
      "text/html": [
       "<div>\n",
       "<style scoped>\n",
       "    .dataframe tbody tr th:only-of-type {\n",
       "        vertical-align: middle;\n",
       "    }\n",
       "\n",
       "    .dataframe tbody tr th {\n",
       "        vertical-align: top;\n",
       "    }\n",
       "\n",
       "    .dataframe thead th {\n",
       "        text-align: right;\n",
       "    }\n",
       "</style>\n",
       "<table border=\"1\" class=\"dataframe\">\n",
       "  <thead>\n",
       "    <tr style=\"text-align: right;\">\n",
       "      <th></th>\n",
       "      <th>episode_id</th>\n",
       "      <th>character_id</th>\n",
       "      <th>raw_character_text</th>\n",
       "      <th>location_id</th>\n",
       "      <th>spoken_words</th>\n",
       "      <th>spoken_words_count</th>\n",
       "    </tr>\n",
       "  </thead>\n",
       "  <tbody>\n",
       "    <tr>\n",
       "      <th>8423</th>\n",
       "      <td>113</td>\n",
       "      <td>25.0</td>\n",
       "      <td>Milhouse Van Houten</td>\n",
       "      <td>1149.0</td>\n",
       "      <td>What's goin' on? Where are the grown-ups?</td>\n",
       "      <td>7</td>\n",
       "    </tr>\n",
       "  </tbody>\n",
       "</table>\n",
       "</div>"
      ],
      "text/plain": [
       "      episode_id  character_id   raw_character_text  location_id  \\\n",
       "8423         113          25.0  Milhouse Van Houten       1149.0   \n",
       "\n",
       "                                   spoken_words  spoken_words_count  \n",
       "8423  What's goin' on? Where are the grown-ups?                   7  "
      ]
     },
     "execution_count": 14,
     "metadata": {},
     "output_type": "execute_result"
    }
   ],
   "source": [
    "df = df.reset_index()\n",
    "df = df.drop(['index', 'level_0'], axis=1)\n",
    "df.sample()"
   ]
  },
  {
   "cell_type": "code",
   "execution_count": 15,
   "metadata": {},
   "outputs": [
    {
     "data": {
      "text/plain": [
       "(12,\n",
       " array(['Lisa Simpson', 'Bart Simpson', 'Milhouse Van Houten',\n",
       "        'Homer Simpson', 'Marge Simpson', 'Ned Flanders', 'Grampa Simpson',\n",
       "        'C. Montgomery Burns', 'Moe Szyslak', 'Krusty the Clown',\n",
       "        'Chief Wiggum', 'Seymour Skinner', \"Bart's Thoughts\",\n",
       "        \"Lisa's Thoughts\", 'Young Marge', \"Marge's Thoughts\",\n",
       "        'Teenage Lisa', 'Teenage Milhouse', 'Young Burns', 'Teenage Marge',\n",
       "        'Young Grampa', 'Adult Lisa', 'Young Homer', 'Teenage Homer',\n",
       "        'Young Krusty', 'Teenage Bart', 'Adult Bart', 'Adult \"Bart\"',\n",
       "        \"Homer's Brain\", \"Homer's Thoughts\", 'Kirk Voice Milhouse'],\n",
       "       dtype=object))"
      ]
     },
     "execution_count": 15,
     "metadata": {},
     "output_type": "execute_result"
    }
   ],
   "source": [
    "len(df['character_id'].unique()), df['raw_character_text'].unique()"
   ]
  },
  {
   "cell_type": "code",
   "execution_count": 16,
   "metadata": {},
   "outputs": [],
   "source": [
    "def what_char(text):\n",
    "    words = text.lower()\n",
    "    words = words.split()\n",
    "\n",
    "    if 'homer' in words:\n",
    "        return 'Homer Simpson'\n",
    "    elif 'marge' in words:\n",
    "        return 'Marge Simpson'\n",
    "    elif 'bart' in words:\n",
    "        return 'Bart Simpson'\n",
    "    elif 'lisa' in words:\n",
    "        return 'Lisa Simpson'\n",
    "    # elif 'burns' in words:\n",
    "    #     return 'C. Montgomery Burns'\n",
    "    # elif 'milhouse' in words:\n",
    "    #     return 'Milhouse Van Houten'\n",
    "    # elif 'ned' in words:\n",
    "    #     return 'Ned Flanders'\n",
    "    # elif 'grampa' in words:\n",
    "    #     return 'Grampa Simpson'\n",
    "    # elif 'krusty' in words:\n",
    "    #     return 'Krusty The Clown'\n",
    "    # elif 'moe' in words:\n",
    "    #     return 'Moe Szyslak'\n",
    "    # elif 'wiggum' in words:\n",
    "    #     return 'Chief Wiggum'\n",
    "    # elif 'seymour' in words:\n",
    "    #     return 'Seymour Skinner'\n",
    "    else:\n",
    "        return 'Others'"
   ]
  },
  {
   "cell_type": "code",
   "execution_count": 17,
   "metadata": {},
   "outputs": [
    {
     "data": {
      "text/html": [
       "<div>\n",
       "<style scoped>\n",
       "    .dataframe tbody tr th:only-of-type {\n",
       "        vertical-align: middle;\n",
       "    }\n",
       "\n",
       "    .dataframe tbody tr th {\n",
       "        vertical-align: top;\n",
       "    }\n",
       "\n",
       "    .dataframe thead th {\n",
       "        text-align: right;\n",
       "    }\n",
       "</style>\n",
       "<table border=\"1\" class=\"dataframe\">\n",
       "  <thead>\n",
       "    <tr style=\"text-align: right;\">\n",
       "      <th></th>\n",
       "      <th>episode_id</th>\n",
       "      <th>character_id</th>\n",
       "      <th>raw_character_text</th>\n",
       "      <th>location_id</th>\n",
       "      <th>spoken_words</th>\n",
       "      <th>spoken_words_count</th>\n",
       "      <th>text_char_simplified</th>\n",
       "    </tr>\n",
       "  </thead>\n",
       "  <tbody>\n",
       "    <tr>\n",
       "      <th>0</th>\n",
       "      <td>32</td>\n",
       "      <td>9.0</td>\n",
       "      <td>Lisa Simpson</td>\n",
       "      <td>3.0</td>\n",
       "      <td>That life is worth living.</td>\n",
       "      <td>5</td>\n",
       "      <td>Lisa Simpson</td>\n",
       "    </tr>\n",
       "    <tr>\n",
       "      <th>1</th>\n",
       "      <td>32</td>\n",
       "      <td>8.0</td>\n",
       "      <td>Bart Simpson</td>\n",
       "      <td>3.0</td>\n",
       "      <td>Victory party under the slide!</td>\n",
       "      <td>5</td>\n",
       "      <td>Bart Simpson</td>\n",
       "    </tr>\n",
       "    <tr>\n",
       "      <th>2</th>\n",
       "      <td>32</td>\n",
       "      <td>9.0</td>\n",
       "      <td>Lisa Simpson</td>\n",
       "      <td>374.0</td>\n",
       "      <td>Do you know where I could find him?</td>\n",
       "      <td>8</td>\n",
       "      <td>Lisa Simpson</td>\n",
       "    </tr>\n",
       "    <tr>\n",
       "      <th>3</th>\n",
       "      <td>32</td>\n",
       "      <td>9.0</td>\n",
       "      <td>Lisa Simpson</td>\n",
       "      <td>374.0</td>\n",
       "      <td>The train, how like him... traditional, yet en...</td>\n",
       "      <td>9</td>\n",
       "      <td>Lisa Simpson</td>\n",
       "    </tr>\n",
       "    <tr>\n",
       "      <th>4</th>\n",
       "      <td>32</td>\n",
       "      <td>9.0</td>\n",
       "      <td>Lisa Simpson</td>\n",
       "      <td>374.0</td>\n",
       "      <td>I see he touched you, too.</td>\n",
       "      <td>6</td>\n",
       "      <td>Lisa Simpson</td>\n",
       "    </tr>\n",
       "    <tr>\n",
       "      <th>...</th>\n",
       "      <td>...</td>\n",
       "      <td>...</td>\n",
       "      <td>...</td>\n",
       "      <td>...</td>\n",
       "      <td>...</td>\n",
       "      <td>...</td>\n",
       "      <td>...</td>\n",
       "    </tr>\n",
       "    <tr>\n",
       "      <th>60283</th>\n",
       "      <td>32</td>\n",
       "      <td>9.0</td>\n",
       "      <td>Lisa Simpson</td>\n",
       "      <td>373.0</td>\n",
       "      <td>Can I dye my shoes pink?</td>\n",
       "      <td>6</td>\n",
       "      <td>Lisa Simpson</td>\n",
       "    </tr>\n",
       "    <tr>\n",
       "      <th>60284</th>\n",
       "      <td>32</td>\n",
       "      <td>9.0</td>\n",
       "      <td>Lisa Simpson</td>\n",
       "      <td>373.0</td>\n",
       "      <td>Can I paint my nails?</td>\n",
       "      <td>5</td>\n",
       "      <td>Lisa Simpson</td>\n",
       "    </tr>\n",
       "    <tr>\n",
       "      <th>60285</th>\n",
       "      <td>32</td>\n",
       "      <td>9.0</td>\n",
       "      <td>Lisa Simpson</td>\n",
       "      <td>373.0</td>\n",
       "      <td>Does Bart have to be there?</td>\n",
       "      <td>6</td>\n",
       "      <td>Lisa Simpson</td>\n",
       "    </tr>\n",
       "    <tr>\n",
       "      <th>60286</th>\n",
       "      <td>32</td>\n",
       "      <td>9.0</td>\n",
       "      <td>Lisa Simpson</td>\n",
       "      <td>373.0</td>\n",
       "      <td>Can we do it this week?</td>\n",
       "      <td>6</td>\n",
       "      <td>Lisa Simpson</td>\n",
       "    </tr>\n",
       "    <tr>\n",
       "      <th>60287</th>\n",
       "      <td>32</td>\n",
       "      <td>9.0</td>\n",
       "      <td>Lisa Simpson</td>\n",
       "      <td>3.0</td>\n",
       "      <td>Mr. Bergstrom, we request the pleasure of your...</td>\n",
       "      <td>33</td>\n",
       "      <td>Lisa Simpson</td>\n",
       "    </tr>\n",
       "  </tbody>\n",
       "</table>\n",
       "<p>60288 rows × 7 columns</p>\n",
       "</div>"
      ],
      "text/plain": [
       "       episode_id  character_id raw_character_text  location_id  \\\n",
       "0              32           9.0       Lisa Simpson          3.0   \n",
       "1              32           8.0       Bart Simpson          3.0   \n",
       "2              32           9.0       Lisa Simpson        374.0   \n",
       "3              32           9.0       Lisa Simpson        374.0   \n",
       "4              32           9.0       Lisa Simpson        374.0   \n",
       "...           ...           ...                ...          ...   \n",
       "60283          32           9.0       Lisa Simpson        373.0   \n",
       "60284          32           9.0       Lisa Simpson        373.0   \n",
       "60285          32           9.0       Lisa Simpson        373.0   \n",
       "60286          32           9.0       Lisa Simpson        373.0   \n",
       "60287          32           9.0       Lisa Simpson          3.0   \n",
       "\n",
       "                                            spoken_words  spoken_words_count  \\\n",
       "0                             That life is worth living.                   5   \n",
       "1                         Victory party under the slide!                   5   \n",
       "2                    Do you know where I could find him?                   8   \n",
       "3      The train, how like him... traditional, yet en...                   9   \n",
       "4                             I see he touched you, too.                   6   \n",
       "...                                                  ...                 ...   \n",
       "60283                           Can I dye my shoes pink?                   6   \n",
       "60284                              Can I paint my nails?                   5   \n",
       "60285                        Does Bart have to be there?                   6   \n",
       "60286                            Can we do it this week?                   6   \n",
       "60287  Mr. Bergstrom, we request the pleasure of your...                  33   \n",
       "\n",
       "      text_char_simplified  \n",
       "0             Lisa Simpson  \n",
       "1             Bart Simpson  \n",
       "2             Lisa Simpson  \n",
       "3             Lisa Simpson  \n",
       "4             Lisa Simpson  \n",
       "...                    ...  \n",
       "60283         Lisa Simpson  \n",
       "60284         Lisa Simpson  \n",
       "60285         Lisa Simpson  \n",
       "60286         Lisa Simpson  \n",
       "60287         Lisa Simpson  \n",
       "\n",
       "[60288 rows x 7 columns]"
      ]
     },
     "execution_count": 17,
     "metadata": {},
     "output_type": "execute_result"
    }
   ],
   "source": [
    "df['text_char_simplified'] = df['raw_character_text'].apply(lambda x: what_char(x))\n",
    "df"
   ]
  },
  {
   "cell_type": "code",
   "execution_count": 18,
   "metadata": {},
   "outputs": [
    {
     "name": "stdout",
     "output_type": "stream",
     "text": [
      "text_char_simplified\n",
      "Homer Simpson    19950\n",
      "Others           13885\n",
      "Marge Simpson     9864\n",
      "Bart Simpson      8913\n",
      "Lisa Simpson      7676\n",
      "Name: count, dtype: int64 \n",
      "\n",
      " character_id\n",
      "2.0      20060\n",
      "1.0       9884\n",
      "8.0       8931\n",
      "9.0       7717\n",
      "15.0      2446\n",
      "17.0      2260\n",
      "3.0       1908\n",
      "11.0      1613\n",
      "71.0      1450\n",
      "31.0      1400\n",
      "139.0     1384\n",
      "25.0      1235\n",
      "Name: count, dtype: int64\n"
     ]
    }
   ],
   "source": [
    "print(df['text_char_simplified'].value_counts(),'\\n\\n',df['character_id'].value_counts())"
   ]
  },
  {
   "cell_type": "markdown",
   "metadata": {},
   "source": [
    "# Word Embedding"
   ]
  },
  {
   "cell_type": "code",
   "execution_count": 19,
   "metadata": {},
   "outputs": [
    {
     "name": "stderr",
     "output_type": "stream",
     "text": [
      "Read 1M words\n",
      "Number of words:  137245\n",
      "Number of labels: 0\n",
      "Progress: 100.0% words/sec/thread: 12564130 lr:  0.000000 avg.loss:       nan ETA:   0h 0m 0s\n"
     ]
    }
   ],
   "source": [
    "text_column = df['spoken_words']\n",
    "#text_column.to_csv('The Saimpsons Archive/in_use/text_data_train_fasttext_spoken_words.txt', index=False, header=False, sep='\\n')\n",
    "\n",
    "# Entrenando al fasttext embedding_model a usar\n",
    "embedding_model = fasttext.train_supervised(input=\"The Saimpsons Archive/in_use/text_data_train_fasttext.txt\", lr=0.1, epoch=25, wordNgrams=2)\n",
    "\n",
    "# Function to obtain FastText embeddings for a single text\n",
    "def get_fasttext_embedding(text):\n",
    "    text = text.replace('\\n', '')\n",
    "    return embedding_model.get_sentence_vector(text)\n",
    "\n",
    "# Apply the function to each text in the DataFrame column\n",
    "embeddings = text_column.apply(get_fasttext_embedding)\n",
    "\n",
    "# Convert embeddings to DataFrame\n",
    "embedding_df = pd.DataFrame(embeddings.tolist(), columns=[f'embedding_{i}' for i in range(embeddings.iloc[0].shape[0])])\n",
    "\n",
    "# Concatenate the embedding DataFrame with the original DataFrame\n",
    "result_df = pd.concat([df[['character_id', 'raw_character_text', 'text_char_simplified', 'location_id']], embedding_df], axis=1)"
   ]
  },
  {
   "cell_type": "code",
   "execution_count": 20,
   "metadata": {},
   "outputs": [
    {
     "data": {
      "text/html": [
       "<div>\n",
       "<style scoped>\n",
       "    .dataframe tbody tr th:only-of-type {\n",
       "        vertical-align: middle;\n",
       "    }\n",
       "\n",
       "    .dataframe tbody tr th {\n",
       "        vertical-align: top;\n",
       "    }\n",
       "\n",
       "    .dataframe thead th {\n",
       "        text-align: right;\n",
       "    }\n",
       "</style>\n",
       "<table border=\"1\" class=\"dataframe\">\n",
       "  <thead>\n",
       "    <tr style=\"text-align: right;\">\n",
       "      <th></th>\n",
       "      <th>character_id</th>\n",
       "      <th>raw_character_text</th>\n",
       "      <th>text_char_simplified</th>\n",
       "      <th>location_id</th>\n",
       "      <th>embedding_0</th>\n",
       "      <th>embedding_1</th>\n",
       "      <th>embedding_2</th>\n",
       "      <th>embedding_3</th>\n",
       "      <th>embedding_4</th>\n",
       "      <th>embedding_5</th>\n",
       "      <th>...</th>\n",
       "      <th>embedding_90</th>\n",
       "      <th>embedding_91</th>\n",
       "      <th>embedding_92</th>\n",
       "      <th>embedding_93</th>\n",
       "      <th>embedding_94</th>\n",
       "      <th>embedding_95</th>\n",
       "      <th>embedding_96</th>\n",
       "      <th>embedding_97</th>\n",
       "      <th>embedding_98</th>\n",
       "      <th>embedding_99</th>\n",
       "    </tr>\n",
       "  </thead>\n",
       "  <tbody>\n",
       "    <tr>\n",
       "      <th>37037</th>\n",
       "      <td>2.0</td>\n",
       "      <td>Homer Simpson</td>\n",
       "      <td>Homer Simpson</td>\n",
       "      <td>5.0</td>\n",
       "      <td>-0.001581</td>\n",
       "      <td>-0.000102</td>\n",
       "      <td>0.00039</td>\n",
       "      <td>-0.00083</td>\n",
       "      <td>-0.000114</td>\n",
       "      <td>0.001336</td>\n",
       "      <td>...</td>\n",
       "      <td>0.000595</td>\n",
       "      <td>0.000997</td>\n",
       "      <td>-0.000275</td>\n",
       "      <td>-0.001945</td>\n",
       "      <td>0.000755</td>\n",
       "      <td>-0.000015</td>\n",
       "      <td>-0.003137</td>\n",
       "      <td>0.001068</td>\n",
       "      <td>-0.001635</td>\n",
       "      <td>-0.000258</td>\n",
       "    </tr>\n",
       "  </tbody>\n",
       "</table>\n",
       "<p>1 rows × 104 columns</p>\n",
       "</div>"
      ],
      "text/plain": [
       "       character_id raw_character_text text_char_simplified  location_id  \\\n",
       "37037           2.0      Homer Simpson        Homer Simpson          5.0   \n",
       "\n",
       "       embedding_0  embedding_1  embedding_2  embedding_3  embedding_4  \\\n",
       "37037    -0.001581    -0.000102      0.00039     -0.00083    -0.000114   \n",
       "\n",
       "       embedding_5  ...  embedding_90  embedding_91  embedding_92  \\\n",
       "37037     0.001336  ...      0.000595      0.000997     -0.000275   \n",
       "\n",
       "       embedding_93  embedding_94  embedding_95  embedding_96  embedding_97  \\\n",
       "37037     -0.001945      0.000755     -0.000015     -0.003137      0.001068   \n",
       "\n",
       "       embedding_98  embedding_99  \n",
       "37037     -0.001635     -0.000258  \n",
       "\n",
       "[1 rows x 104 columns]"
      ]
     },
     "execution_count": 20,
     "metadata": {},
     "output_type": "execute_result"
    }
   ],
   "source": [
    "result_df.sample()"
   ]
  },
  {
   "cell_type": "code",
   "execution_count": 21,
   "metadata": {},
   "outputs": [
    {
     "data": {
      "text/plain": [
       "((60288, 7), (60288, 100), (60288, 104))"
      ]
     },
     "execution_count": 21,
     "metadata": {},
     "output_type": "execute_result"
    }
   ],
   "source": [
    "df.shape, embedding_df.shape, result_df.shape"
   ]
  },
  {
   "cell_type": "code",
   "execution_count": 22,
   "metadata": {},
   "outputs": [
    {
     "data": {
      "text/plain": [
       "character_id              0\n",
       "raw_character_text        0\n",
       "text_char_simplified      0\n",
       "location_id             113\n",
       "embedding_0               0\n",
       "                       ... \n",
       "embedding_95              0\n",
       "embedding_96              0\n",
       "embedding_97              0\n",
       "embedding_98              0\n",
       "embedding_99              0\n",
       "Length: 104, dtype: int64"
      ]
     },
     "execution_count": 22,
     "metadata": {},
     "output_type": "execute_result"
    }
   ],
   "source": [
    "result_df.isna().sum()"
   ]
  },
  {
   "cell_type": "code",
   "execution_count": 23,
   "metadata": {},
   "outputs": [],
   "source": [
    "result_df['location_id'] = result_df['location_id'].fillna(0)"
   ]
  },
  {
   "cell_type": "code",
   "execution_count": 24,
   "metadata": {},
   "outputs": [
    {
     "data": {
      "text/plain": [
       "character_id            0\n",
       "raw_character_text      0\n",
       "text_char_simplified    0\n",
       "location_id             0\n",
       "embedding_0             0\n",
       "                       ..\n",
       "embedding_95            0\n",
       "embedding_96            0\n",
       "embedding_97            0\n",
       "embedding_98            0\n",
       "embedding_99            0\n",
       "Length: 104, dtype: int64"
      ]
     },
     "execution_count": 24,
     "metadata": {},
     "output_type": "execute_result"
    }
   ],
   "source": [
    "result_df.isna().sum()"
   ]
  },
  {
   "cell_type": "code",
   "execution_count": 25,
   "metadata": {},
   "outputs": [],
   "source": [
    "# nan_df = result_df.isnull()\n",
    "\n",
    "# # Plot the heatmap\n",
    "# plt.figure(figsize=(8, 6))\n",
    "# sns.heatmap(nan_df, cmap='viridis', cbar=False)\n",
    "# plt.title('NaN Heatmap')\n",
    "# plt.show()"
   ]
  },
  {
   "cell_type": "markdown",
   "metadata": {},
   "source": [
    "# Probando qué modelos de clasificación actúan mejor:"
   ]
  },
  {
   "cell_type": "code",
   "execution_count": 26,
   "metadata": {},
   "outputs": [
    {
     "name": "stdout",
     "output_type": "stream",
     "text": [
      "Accuracy: 0.34864820036490296\n",
      "\n",
      "Classification Report:\n",
      "               precision    recall  f1-score   support\n",
      "\n",
      " Bart Simpson       0.22      0.01      0.02      1783\n",
      "Homer Simpson       0.35      0.85      0.49      3990\n",
      " Lisa Simpson       0.38      0.01      0.01      1535\n",
      "Marge Simpson       0.40      0.03      0.06      1973\n",
      "       Others       0.36      0.26      0.30      2777\n",
      "\n",
      "     accuracy                           0.35     12058\n",
      "    macro avg       0.34      0.23      0.18     12058\n",
      " weighted avg       0.34      0.35      0.25     12058\n",
      "\n"
     ]
    }
   ],
   "source": [
    "# Dividir el DataFrame en características (X) y etiquetas (y)\n",
    "X = result_df.drop(['character_id', 'raw_character_text', 'text_char_simplified'], axis=1) \n",
    "y = result_df['text_char_simplified']\n",
    "\n",
    "# Dividir el conjunto de datos en conjuntos de entrenamiento y prueba\n",
    "X_train, X_test, y_train, y_test = train_test_split(X, y, test_size=0.2, random_state=1989, stratify=y)\n",
    "\n",
    "# Escalar características para normalizarlas\n",
    "scaler = StandardScaler()\n",
    "X_train_scaled = scaler.fit_transform(X_train)\n",
    "X_test_scaled = scaler.transform(X_test)\n",
    "\n",
    "# Crear y entrenar el modelo de regresión logística\n",
    "model = RandomForestClassifier(class_weight='balanced')\n",
    "model.fit(X_train_scaled, y_train)\n",
    "\n",
    "# Predecir las etiquetas para el conjunto de prueba\n",
    "y_pred = model.predict(X_test_scaled)\n",
    "\n",
    "# Calcular la precisión del modelo\n",
    "accuracy = accuracy_score(y_test, y_pred)\n",
    "print(\"Accuracy:\", accuracy)\n",
    "\n",
    "# Mostrar el reporte de clasificación\n",
    "print(\"\\nClassification Report:\")\n",
    "print(classification_report(y_test, y_pred))\n"
   ]
  },
  {
   "cell_type": "code",
   "execution_count": 27,
   "metadata": {},
   "outputs": [
    {
     "data": {
      "image/png": "[encoded data removed]",
      "text/plain": [
       "<Figure size 1000x1000 with 1 Axes>"
      ]
     },
     "metadata": {},
     "output_type": "display_data"
    }
   ],
   "source": [
    "class_labels = np.unique(y_test)\n",
    "conf_matrix=confusion_matrix(y_test, y_pred, normalize='true')\n",
    "\n",
    "plt.figure(figsize=(10,10))\n",
    "sns.heatmap(conf_matrix, annot=True, cmap='Blues', fmt='.0%', cbar=False, xticklabels=class_labels, yticklabels=class_labels)\n",
    "plt.xlabel('Predicted labels')\n",
    "plt.ylabel('True labels')\n",
    "plt.title('Confusion Matrix')\n",
    "plt.show()"
   ]
  },
  {
   "cell_type": "markdown",
   "metadata": {},
   "source": [
    "# Intento red neuronal a ver si funciona mejor"
   ]
  },
  {
   "cell_type": "code",
   "execution_count": 28,
   "metadata": {},
   "outputs": [],
   "source": [
    "def scheduler(epoch, lr):\n",
    "    return lr * np.exp(-0.1)\n",
    "\n",
    "lr_schedule = LearningRateScheduler(scheduler)"
   ]
  },
  {
   "cell_type": "code",
   "execution_count": 29,
   "metadata": {},
   "outputs": [],
   "source": [
    "# Dividir el DataFrame en características (X) y etiquetas (y)\n",
    "X = result_df.drop(['character_id', 'raw_character_text', 'text_char_simplified'], axis=1) \n",
    "y = result_df['text_char_simplified']  \n",
    "label = LabelEncoder()\n",
    "y_enc = label.fit_transform(y)\n",
    "\n",
    "# Dividir el conjunto de datos en conjuntos de entrenamiento y prueba\n",
    "X_train, X_test, y_train, y_test = train_test_split(X, y_enc, test_size=0.2, random_state=1989, stratify=y_enc)\n",
    "\n",
    "# Escalar características para normalizarlas\n",
    "scaler = StandardScaler()\n",
    "X_train_scaled = scaler.fit_transform(X_train)\n",
    "X_test_scaled = scaler.transform(X_test)"
   ]
  },
  {
   "cell_type": "code",
   "execution_count": 30,
   "metadata": {},
   "outputs": [],
   "source": [
    "# random_state = 1989\n",
    "tf.random.set_seed(1989)\n",
    "np.random.seed(1989)\n",
    "\n",
    "#red neuronal:\n",
    "f_int = X_train_scaled.shape[1]\n",
    "\n",
    "modelo = Sequential()\n",
    "\n",
    "# Capa entrada\n",
    "modelo.add(Dense(1024, activation='relu', input_dim=f_int))\n",
    "# Capas intermedias (si hay):\n",
    "# modelo.add(Dense(128, activation='tanh'))\n",
    "#model_tam.add(Dropout(rate=0.3))\n",
    "#Capa salida\n",
    "nodos_salida = int(len(np.unique(y)))\n",
    "modelo.add(Dense(nodos_salida, activation=\"softmax\")) #como es clasificación multiclase la salida tiene que ser con softmax.\n",
    "\n",
    "#Aprendizaje ratio\n",
    "adam = Adam(learning_rate=.05)\n",
    "\n",
    "#Compilación\n",
    "modelo.compile(optimizer=adam, loss='sparse_categorical_crossentropy', metrics=['sparse_categorical_accuracy'])\n",
    "\n",
    "# model_tam.summary()"
   ]
  },
  {
   "cell_type": "code",
   "execution_count": 31,
   "metadata": {},
   "outputs": [],
   "source": [
    "history = modelo.fit(\n",
    "    X_train_scaled,\n",
    "    y_train,\n",
    "    batch_size=64,\n",
    "    epochs=200,\n",
    "    verbose=False,\n",
    "    validation_split=.2,\n",
    "    callbacks=[lr_schedule]\n",
    ")"
   ]
  },
  {
   "cell_type": "code",
   "execution_count": 32,
   "metadata": {},
   "outputs": [
    {
     "name": "stdout",
     "output_type": "stream",
     "text": [
      "377/377 [==============================] - 0s 357us/step\n"
     ]
    }
   ],
   "source": [
    "y_pred_prob = modelo.predict(X_test_scaled)\n",
    "y_pred = np.argmax(y_pred_prob, axis=1)"
   ]
  },
  {
   "cell_type": "code",
   "execution_count": 33,
   "metadata": {},
   "outputs": [
    {
     "name": "stdout",
     "output_type": "stream",
     "text": [
      "Accuracy: 0.3469066180129375\n",
      "              precision    recall  f1-score   support\n",
      "\n",
      "           0       0.18      0.16      0.17      1783\n",
      "           1       0.35      0.44      0.39      3990\n",
      "           2       0.19      0.16      0.17      1535\n",
      "           3       0.22      0.19      0.21      1973\n",
      "           4       0.25      0.22      0.24      2777\n",
      "\n",
      "    accuracy                           0.27     12058\n",
      "   macro avg       0.24      0.23      0.24     12058\n",
      "weighted avg       0.26      0.27      0.26     12058\n",
      "\n"
     ]
    }
   ],
   "source": [
    "print(\"Accuracy:\", accuracy)\n",
    "print(classification_report(y_test, y_pred))"
   ]
  },
  {
   "cell_type": "code",
   "execution_count": 34,
   "metadata": {},
   "outputs": [
    {
     "data": {
      "image/png": "[encoded data removed]",
      "text/plain": [
       "<Figure size 1000x1000 with 1 Axes>"
      ]
     },
     "metadata": {},
     "output_type": "display_data"
    }
   ],
   "source": [
    "class_labels = np.unique(y)\n",
    "conf_matrix=confusion_matrix(y_test, y_pred, normalize='true')\n",
    "\n",
    "plt.figure(figsize=(10,10))\n",
    "sns.heatmap(conf_matrix, annot=True, cmap='Blues', fmt='.0%', cbar=False, xticklabels=class_labels, yticklabels=class_labels)\n",
    "plt.xlabel('Predicted labels')\n",
    "plt.ylabel('True labels')\n",
    "plt.title('Confusion Matrix')\n",
    "plt.show()"
   ]
  },
  {
   "cell_type": "markdown",
   "metadata": {},
   "source": [
    "# Método Frankenstein"
   ]
  },
  {
   "cell_type": "markdown",
   "metadata": {},
   "source": [
    "## Tratamiento previo"
   ]
  },
  {
   "cell_type": "code",
   "execution_count": 28,
   "metadata": {},
   "outputs": [
    {
     "data": {
      "text/html": [
       "<div>\n",
       "<style scoped>\n",
       "    .dataframe tbody tr th:only-of-type {\n",
       "        vertical-align: middle;\n",
       "    }\n",
       "\n",
       "    .dataframe tbody tr th {\n",
       "        vertical-align: top;\n",
       "    }\n",
       "\n",
       "    .dataframe thead th {\n",
       "        text-align: right;\n",
       "    }\n",
       "</style>\n",
       "<table border=\"1\" class=\"dataframe\">\n",
       "  <thead>\n",
       "    <tr style=\"text-align: right;\">\n",
       "      <th></th>\n",
       "      <th>text_char_simplified</th>\n",
       "      <th>location_id</th>\n",
       "      <th>embedding_0</th>\n",
       "      <th>embedding_1</th>\n",
       "      <th>embedding_2</th>\n",
       "      <th>embedding_3</th>\n",
       "      <th>embedding_4</th>\n",
       "      <th>embedding_5</th>\n",
       "      <th>embedding_6</th>\n",
       "      <th>embedding_7</th>\n",
       "      <th>...</th>\n",
       "      <th>embedding_90</th>\n",
       "      <th>embedding_91</th>\n",
       "      <th>embedding_92</th>\n",
       "      <th>embedding_93</th>\n",
       "      <th>embedding_94</th>\n",
       "      <th>embedding_95</th>\n",
       "      <th>embedding_96</th>\n",
       "      <th>embedding_97</th>\n",
       "      <th>embedding_98</th>\n",
       "      <th>embedding_99</th>\n",
       "    </tr>\n",
       "  </thead>\n",
       "  <tbody>\n",
       "    <tr>\n",
       "      <th>18255</th>\n",
       "      <td>Homer Simpson</td>\n",
       "      <td>5.0</td>\n",
       "      <td>6.019449e-07</td>\n",
       "      <td>0.000908</td>\n",
       "      <td>0.000623</td>\n",
       "      <td>-0.00025</td>\n",
       "      <td>0.001426</td>\n",
       "      <td>0.000691</td>\n",
       "      <td>0.000237</td>\n",
       "      <td>-0.000998</td>\n",
       "      <td>...</td>\n",
       "      <td>0.000185</td>\n",
       "      <td>-0.00038</td>\n",
       "      <td>-0.00022</td>\n",
       "      <td>0.001222</td>\n",
       "      <td>0.00015</td>\n",
       "      <td>-0.000127</td>\n",
       "      <td>0.000646</td>\n",
       "      <td>0.000367</td>\n",
       "      <td>-0.001298</td>\n",
       "      <td>-0.00059</td>\n",
       "    </tr>\n",
       "  </tbody>\n",
       "</table>\n",
       "<p>1 rows × 102 columns</p>\n",
       "</div>"
      ],
      "text/plain": [
       "      text_char_simplified  location_id   embedding_0  embedding_1  \\\n",
       "18255        Homer Simpson          5.0  6.019449e-07     0.000908   \n",
       "\n",
       "       embedding_2  embedding_3  embedding_4  embedding_5  embedding_6  \\\n",
       "18255     0.000623     -0.00025     0.001426     0.000691     0.000237   \n",
       "\n",
       "       embedding_7  ...  embedding_90  embedding_91  embedding_92  \\\n",
       "18255    -0.000998  ...      0.000185      -0.00038      -0.00022   \n",
       "\n",
       "       embedding_93  embedding_94  embedding_95  embedding_96  embedding_97  \\\n",
       "18255      0.001222       0.00015     -0.000127      0.000646      0.000367   \n",
       "\n",
       "       embedding_98  embedding_99  \n",
       "18255     -0.001298      -0.00059  \n",
       "\n",
       "[1 rows x 102 columns]"
      ]
     },
     "execution_count": 28,
     "metadata": {},
     "output_type": "execute_result"
    }
   ],
   "source": [
    "df_frank = result_df.drop(['character_id', 'raw_character_text'], axis=1)\n",
    "df_frank.sample()"
   ]
  },
  {
   "cell_type": "code",
   "execution_count": 29,
   "metadata": {},
   "outputs": [],
   "source": [
    "def is_class(df, column, text):\n",
    "    df[f'is_{text}'] = df[f'{column}'] == text\n",
    "    return df[f'is_{text}']"
   ]
  },
  {
   "cell_type": "code",
   "execution_count": 30,
   "metadata": {},
   "outputs": [],
   "source": [
    "list_classes = list(df_frank['text_char_simplified'].unique())\n",
    "list_classes\n",
    "\n",
    "for char in list_classes:\n",
    "    is_class(df_frank, 'text_char_simplified', str(char))"
   ]
  },
  {
   "cell_type": "code",
   "execution_count": 31,
   "metadata": {},
   "outputs": [
    {
     "data": {
      "text/html": [
       "<div>\n",
       "<style scoped>\n",
       "    .dataframe tbody tr th:only-of-type {\n",
       "        vertical-align: middle;\n",
       "    }\n",
       "\n",
       "    .dataframe tbody tr th {\n",
       "        vertical-align: top;\n",
       "    }\n",
       "\n",
       "    .dataframe thead th {\n",
       "        text-align: right;\n",
       "    }\n",
       "</style>\n",
       "<table border=\"1\" class=\"dataframe\">\n",
       "  <thead>\n",
       "    <tr style=\"text-align: right;\">\n",
       "      <th></th>\n",
       "      <th>text_char_simplified</th>\n",
       "      <th>location_id</th>\n",
       "      <th>embedding_0</th>\n",
       "      <th>embedding_1</th>\n",
       "      <th>embedding_2</th>\n",
       "      <th>embedding_3</th>\n",
       "      <th>embedding_4</th>\n",
       "      <th>embedding_5</th>\n",
       "      <th>embedding_6</th>\n",
       "      <th>embedding_7</th>\n",
       "      <th>...</th>\n",
       "      <th>embedding_95</th>\n",
       "      <th>embedding_96</th>\n",
       "      <th>embedding_97</th>\n",
       "      <th>embedding_98</th>\n",
       "      <th>embedding_99</th>\n",
       "      <th>is_Lisa Simpson</th>\n",
       "      <th>is_Bart Simpson</th>\n",
       "      <th>is_Others</th>\n",
       "      <th>is_Homer Simpson</th>\n",
       "      <th>is_Marge Simpson</th>\n",
       "    </tr>\n",
       "  </thead>\n",
       "  <tbody>\n",
       "    <tr>\n",
       "      <th>43877</th>\n",
       "      <td>Lisa Simpson</td>\n",
       "      <td>270.0</td>\n",
       "      <td>-0.000504</td>\n",
       "      <td>-0.000332</td>\n",
       "      <td>-0.001626</td>\n",
       "      <td>0.001278</td>\n",
       "      <td>-0.001596</td>\n",
       "      <td>0.000442</td>\n",
       "      <td>0.000685</td>\n",
       "      <td>-0.001722</td>\n",
       "      <td>...</td>\n",
       "      <td>-0.001364</td>\n",
       "      <td>-0.002397</td>\n",
       "      <td>-0.002801</td>\n",
       "      <td>-0.000163</td>\n",
       "      <td>-0.002827</td>\n",
       "      <td>True</td>\n",
       "      <td>False</td>\n",
       "      <td>False</td>\n",
       "      <td>False</td>\n",
       "      <td>False</td>\n",
       "    </tr>\n",
       "  </tbody>\n",
       "</table>\n",
       "<p>1 rows × 107 columns</p>\n",
       "</div>"
      ],
      "text/plain": [
       "      text_char_simplified  location_id  embedding_0  embedding_1  \\\n",
       "43877         Lisa Simpson        270.0    -0.000504    -0.000332   \n",
       "\n",
       "       embedding_2  embedding_3  embedding_4  embedding_5  embedding_6  \\\n",
       "43877    -0.001626     0.001278    -0.001596     0.000442     0.000685   \n",
       "\n",
       "       embedding_7  ...  embedding_95  embedding_96  embedding_97  \\\n",
       "43877    -0.001722  ...     -0.001364     -0.002397     -0.002801   \n",
       "\n",
       "       embedding_98  embedding_99  is_Lisa Simpson  is_Bart Simpson  \\\n",
       "43877     -0.000163     -0.002827             True            False   \n",
       "\n",
       "       is_Others  is_Homer Simpson  is_Marge Simpson  \n",
       "43877      False             False             False  \n",
       "\n",
       "[1 rows x 107 columns]"
      ]
     },
     "execution_count": 31,
     "metadata": {},
     "output_type": "execute_result"
    }
   ],
   "source": [
    "df_frank.sample()"
   ]
  },
  {
   "cell_type": "code",
   "execution_count": 32,
   "metadata": {},
   "outputs": [
    {
     "name": "stdout",
     "output_type": "stream",
     "text": [
      "is_Lisa Simpson\n",
      "False    52612\n",
      "True      7676\n",
      "Name: count, dtype: int64 \n",
      "\n",
      "is_Bart Simpson\n",
      "False    51375\n",
      "True      8913\n",
      "Name: count, dtype: int64 \n",
      "\n",
      "is_Others\n",
      "False    46403\n",
      "True     13885\n",
      "Name: count, dtype: int64 \n",
      "\n",
      "is_Homer Simpson\n",
      "False    40338\n",
      "True     19950\n",
      "Name: count, dtype: int64 \n",
      "\n",
      "is_Marge Simpson\n",
      "False    50424\n",
      "True      9864\n",
      "Name: count, dtype: int64 \n",
      "\n"
     ]
    }
   ],
   "source": [
    "for char in list_classes:\n",
    "    print(df_frank[f'is_{char}'].value_counts(), '\\n')"
   ]
  },
  {
   "cell_type": "markdown",
   "metadata": {},
   "source": [
    "## Entrenamiento"
   ]
  },
  {
   "cell_type": "code",
   "execution_count": 90,
   "metadata": {},
   "outputs": [],
   "source": [
    "X = df_frank.drop(['is_Lisa Simpson', 'is_Bart Simpson', 'is_Homer Simpson', 'is_Marge Simpson', 'is_Others', 'text_char_simplified'], axis=1)\n",
    "y = df_frank[['is_Lisa Simpson', 'is_Bart Simpson', 'is_Homer Simpson', 'is_Marge Simpson', 'is_Others', 'text_char_simplified']]\n",
    "\n",
    "# Dividir el conjunto de datos en conjuntos de entrenamiento y prueba\n",
    "X_train, X_test, y_train, y_test = train_test_split(X, y, test_size=0.2, random_state=1989, stratify=y)\n",
    "\n",
    "# Escalar características para normalizarlas\n",
    "scaler = StandardScaler()\n",
    "X_train_scaled = scaler.fit_transform(X_train)\n",
    "X_test_scaled = scaler.transform(X_test)"
   ]
  },
  {
   "cell_type": "code",
   "execution_count": 92,
   "metadata": {},
   "outputs": [
    {
     "name": "stdout",
     "output_type": "stream",
     "text": [
      "Accuracy score for is_Lisa Simpson: 0.5603748548681373 in Logistic Regression\n",
      "Accuracy score for is_Bart Simpson: 0.563940952065019 in Logistic Regression\n",
      "Accuracy score for is_Homer Simpson: 0.532924199701443 in Logistic Regression\n",
      "Accuracy score for is_Marge Simpson: 0.5749709736274673 in Logistic Regression\n",
      "Accuracy score for is_Others: 0.5276165201525957 in Logistic Regression\n"
     ]
    },
    {
     "data": {
      "image/png": "[encoded data removed]",
      "text/plain": [
       "<Figure size 640x480 with 1 Axes>"
      ]
     },
     "metadata": {},
     "output_type": "display_data"
    },
    {
     "data": {
      "image/png": "[encoded data removed]",
      "text/plain": [
       "<Figure size 640x480 with 1 Axes>"
      ]
     },
     "metadata": {},
     "output_type": "display_data"
    },
    {
     "data": {
      "image/png": "[encoded data removed]",
      "text/plain": [
       "<Figure size 640x480 with 1 Axes>"
      ]
     },
     "metadata": {},
     "output_type": "display_data"
    },
    {
     "data": {
      "image/png": "[encoded data removed]",
      "text/plain": [
       "<Figure size 640x480 with 1 Axes>"
      ]
     },
     "metadata": {},
     "output_type": "display_data"
    },
    {
     "data": {
      "image/png": "[encoded data removed]",
      "text/plain": [
       "<Figure size 640x480 with 1 Axes>"
      ]
     },
     "metadata": {},
     "output_type": "display_data"
    }
   ],
   "source": [
    "# Dictionary to store trained models\n",
    "trained_models = {}\n",
    "\n",
    "scores = []\n",
    "confusion_matrices = []\n",
    "\n",
    "for column in y.iloc[:, :-1].columns:\n",
    "    # Train a model\n",
    "    m = 'Logistic Regression'\n",
    "    model = LogisticRegression(class_weight='balanced')\n",
    "    model.fit(X_train_scaled, y_train[column])\n",
    "    \n",
    "    # Store the trained model\n",
    "    trained_models[column] = model\n",
    "    \n",
    "    # Make predictions\n",
    "    y_pred = model.predict(X_test_scaled)\n",
    "    \n",
    "    # Evaluate the model\n",
    "    score = accuracy_score(y_test[column], y_pred)\n",
    "    \n",
    "    # Store the score\n",
    "    scores.append((column, score))\n",
    "    \n",
    "    # Calculate confusion matrix\n",
    "    cm = confusion_matrix(y_test[column], y_pred, normalize='true')\n",
    "    \n",
    "    # Store the confusion matrix\n",
    "    confusion_matrices.append((column, cm, m))\n",
    "\n",
    "# Print the scores\n",
    "for column, score in scores:\n",
    "    print(f'Accuracy score for {column}: {score} in Logistic Regression')\n",
    "\n",
    "# Plot the confusion matrices\n",
    "for column, cm, m in confusion_matrices:\n",
    "    plt.figure()\n",
    "    sns.heatmap(cm, annot=True, fmt='.0%', cmap='Blues', cbar=False)\n",
    "    plt.xlabel('Predicted')\n",
    "    plt.ylabel('True')\n",
    "    plt.title(f'Confusion matrix for {column} with {m}')\n",
    "    plt.show()\n"
   ]
  },
  {
   "cell_type": "code",
   "execution_count": 93,
   "metadata": {},
   "outputs": [
    {
     "data": {
      "text/plain": [
       "{'is_Lisa Simpson': LogisticRegression(class_weight='balanced'),\n",
       " 'is_Bart Simpson': LogisticRegression(class_weight='balanced'),\n",
       " 'is_Homer Simpson': LogisticRegression(class_weight='balanced'),\n",
       " 'is_Marge Simpson': LogisticRegression(class_weight='balanced'),\n",
       " 'is_Others': LogisticRegression(class_weight='balanced')}"
      ]
     },
     "execution_count": 93,
     "metadata": {},
     "output_type": "execute_result"
    }
   ],
   "source": [
    "trained_models"
   ]
  },
  {
   "cell_type": "code",
   "execution_count": 94,
   "metadata": {},
   "outputs": [],
   "source": [
    "model_lisa = trained_models['is_Lisa Simpson']\n",
    "model_bart = trained_models['is_Bart Simpson']\n",
    "model_marge = trained_models['is_Marge Simpson']\n",
    "model_homer = trained_models['is_Homer Simpson']\n",
    "model_others = trained_models['is_Others']"
   ]
  },
  {
   "cell_type": "markdown",
   "metadata": {},
   "source": [
    "## Predicciones"
   ]
  },
  {
   "cell_type": "code",
   "execution_count": 95,
   "metadata": {},
   "outputs": [
    {
     "data": {
      "text/plain": [
       "['Lisa Simpson', 'Bart Simpson', 'Others', 'Homer Simpson', 'Marge Simpson']"
      ]
     },
     "execution_count": 95,
     "metadata": {},
     "output_type": "execute_result"
    }
   ],
   "source": [
    "list_classes"
   ]
  },
  {
   "cell_type": "code",
   "execution_count": 96,
   "metadata": {},
   "outputs": [
    {
     "data": {
      "text/html": [
       "<div>\n",
       "<style scoped>\n",
       "    .dataframe tbody tr th:only-of-type {\n",
       "        vertical-align: middle;\n",
       "    }\n",
       "\n",
       "    .dataframe tbody tr th {\n",
       "        vertical-align: top;\n",
       "    }\n",
       "\n",
       "    .dataframe thead th {\n",
       "        text-align: right;\n",
       "    }\n",
       "</style>\n",
       "<table border=\"1\" class=\"dataframe\">\n",
       "  <thead>\n",
       "    <tr style=\"text-align: right;\">\n",
       "      <th></th>\n",
       "      <th>Lisa Simpson</th>\n",
       "      <th>Bart Simpson</th>\n",
       "      <th>Others</th>\n",
       "      <th>Homer Simpson</th>\n",
       "      <th>Marge Simpson</th>\n",
       "    </tr>\n",
       "  </thead>\n",
       "  <tbody>\n",
       "    <tr>\n",
       "      <th>0</th>\n",
       "      <td>0.518799</td>\n",
       "      <td>4.676323e-01</td>\n",
       "      <td>0.515346</td>\n",
       "      <td>0.522499</td>\n",
       "      <td>3.916381e-01</td>\n",
       "    </tr>\n",
       "    <tr>\n",
       "      <th>1</th>\n",
       "      <td>0.828994</td>\n",
       "      <td>2.688622e-01</td>\n",
       "      <td>0.766316</td>\n",
       "      <td>0.709863</td>\n",
       "      <td>2.399869e-02</td>\n",
       "    </tr>\n",
       "    <tr>\n",
       "      <th>2</th>\n",
       "      <td>0.518749</td>\n",
       "      <td>4.677200e-01</td>\n",
       "      <td>0.515349</td>\n",
       "      <td>0.522513</td>\n",
       "      <td>3.915725e-01</td>\n",
       "    </tr>\n",
       "    <tr>\n",
       "      <th>3</th>\n",
       "      <td>0.950000</td>\n",
       "      <td>7.286190e-39</td>\n",
       "      <td>0.970000</td>\n",
       "      <td>1.000000</td>\n",
       "      <td>8.218948e-144</td>\n",
       "    </tr>\n",
       "    <tr>\n",
       "      <th>4</th>\n",
       "      <td>0.950000</td>\n",
       "      <td>1.018493e-11</td>\n",
       "      <td>0.970000</td>\n",
       "      <td>1.000000</td>\n",
       "      <td>5.947549e-42</td>\n",
       "    </tr>\n",
       "    <tr>\n",
       "      <th>...</th>\n",
       "      <td>...</td>\n",
       "      <td>...</td>\n",
       "      <td>...</td>\n",
       "      <td>...</td>\n",
       "      <td>...</td>\n",
       "    </tr>\n",
       "    <tr>\n",
       "      <th>12053</th>\n",
       "      <td>0.923136</td>\n",
       "      <td>1.409598e-01</td>\n",
       "      <td>0.891993</td>\n",
       "      <td>0.837802</td>\n",
       "      <td>1.188292e-03</td>\n",
       "    </tr>\n",
       "    <tr>\n",
       "      <th>12054</th>\n",
       "      <td>0.518777</td>\n",
       "      <td>4.676350e-01</td>\n",
       "      <td>0.515480</td>\n",
       "      <td>0.522489</td>\n",
       "      <td>3.915252e-01</td>\n",
       "    </tr>\n",
       "    <tr>\n",
       "      <th>12055</th>\n",
       "      <td>0.950000</td>\n",
       "      <td>3.473454e-37</td>\n",
       "      <td>0.970000</td>\n",
       "      <td>1.000000</td>\n",
       "      <td>1.630281e-137</td>\n",
       "    </tr>\n",
       "    <tr>\n",
       "      <th>12056</th>\n",
       "      <td>0.837723</td>\n",
       "      <td>2.606222e-01</td>\n",
       "      <td>0.775454</td>\n",
       "      <td>0.718074</td>\n",
       "      <td>2.051595e-02</td>\n",
       "    </tr>\n",
       "    <tr>\n",
       "      <th>12057</th>\n",
       "      <td>0.518796</td>\n",
       "      <td>4.676917e-01</td>\n",
       "      <td>0.515289</td>\n",
       "      <td>0.522577</td>\n",
       "      <td>3.915462e-01</td>\n",
       "    </tr>\n",
       "  </tbody>\n",
       "</table>\n",
       "<p>12058 rows × 5 columns</p>\n",
       "</div>"
      ],
      "text/plain": [
       "       Lisa Simpson  Bart Simpson    Others  Homer Simpson  Marge Simpson\n",
       "0          0.518799  4.676323e-01  0.515346       0.522499   3.916381e-01\n",
       "1          0.828994  2.688622e-01  0.766316       0.709863   2.399869e-02\n",
       "2          0.518749  4.677200e-01  0.515349       0.522513   3.915725e-01\n",
       "3          0.950000  7.286190e-39  0.970000       1.000000  8.218948e-144\n",
       "4          0.950000  1.018493e-11  0.970000       1.000000   5.947549e-42\n",
       "...             ...           ...       ...            ...            ...\n",
       "12053      0.923136  1.409598e-01  0.891993       0.837802   1.188292e-03\n",
       "12054      0.518777  4.676350e-01  0.515480       0.522489   3.915252e-01\n",
       "12055      0.950000  3.473454e-37  0.970000       1.000000  1.630281e-137\n",
       "12056      0.837723  2.606222e-01  0.775454       0.718074   2.051595e-02\n",
       "12057      0.518796  4.676917e-01  0.515289       0.522577   3.915462e-01\n",
       "\n",
       "[12058 rows x 5 columns]"
      ]
     },
     "execution_count": 96,
     "metadata": {},
     "output_type": "execute_result"
    }
   ],
   "source": [
    "y_pred_lisa = model_lisa.predict_proba(X_test)[:,1]*0.95\n",
    "y_pred_df = pd.DataFrame(y_pred_lisa, columns=['Lisa Simpson'])\n",
    "\n",
    "y_pred_df['Bart Simpson'] = model_bart.predict_proba(X_test)[:,1]\n",
    "y_pred_df['Others'] = model_others.predict_proba(X_test)[:,1]*0.97\n",
    "y_pred_df['Homer Simpson'] = model_homer.predict_proba(X_test)[:,1]\n",
    "y_pred_df['Marge Simpson'] = model_marge.predict_proba(X_test)[:,1]\n",
    "\n",
    "y_pred_df"
   ]
  },
  {
   "cell_type": "code",
   "execution_count": 97,
   "metadata": {},
   "outputs": [
    {
     "data": {
      "text/html": [
       "<div>\n",
       "<style scoped>\n",
       "    .dataframe tbody tr th:only-of-type {\n",
       "        vertical-align: middle;\n",
       "    }\n",
       "\n",
       "    .dataframe tbody tr th {\n",
       "        vertical-align: top;\n",
       "    }\n",
       "\n",
       "    .dataframe thead th {\n",
       "        text-align: right;\n",
       "    }\n",
       "</style>\n",
       "<table border=\"1\" class=\"dataframe\">\n",
       "  <thead>\n",
       "    <tr style=\"text-align: right;\">\n",
       "      <th></th>\n",
       "      <th>Others</th>\n",
       "      <th>Homer Simpson</th>\n",
       "      <th>Marge Simpson</th>\n",
       "      <th>Bart Simpson</th>\n",
       "      <th>Lisa Simpson</th>\n",
       "      <th>Max_Probability_Class</th>\n",
       "    </tr>\n",
       "  </thead>\n",
       "  <tbody>\n",
       "    <tr>\n",
       "      <th>0</th>\n",
       "      <td>0.515346</td>\n",
       "      <td>0.522499</td>\n",
       "      <td>3.916381e-01</td>\n",
       "      <td>4.676323e-01</td>\n",
       "      <td>0.518799</td>\n",
       "      <td>Homer Simpson</td>\n",
       "    </tr>\n",
       "    <tr>\n",
       "      <th>1</th>\n",
       "      <td>0.766316</td>\n",
       "      <td>0.709863</td>\n",
       "      <td>2.399869e-02</td>\n",
       "      <td>2.688622e-01</td>\n",
       "      <td>0.828994</td>\n",
       "      <td>Lisa Simpson</td>\n",
       "    </tr>\n",
       "    <tr>\n",
       "      <th>2</th>\n",
       "      <td>0.515349</td>\n",
       "      <td>0.522513</td>\n",
       "      <td>3.915725e-01</td>\n",
       "      <td>4.677200e-01</td>\n",
       "      <td>0.518749</td>\n",
       "      <td>Homer Simpson</td>\n",
       "    </tr>\n",
       "    <tr>\n",
       "      <th>3</th>\n",
       "      <td>0.970000</td>\n",
       "      <td>1.000000</td>\n",
       "      <td>8.218948e-144</td>\n",
       "      <td>7.286190e-39</td>\n",
       "      <td>0.950000</td>\n",
       "      <td>Homer Simpson</td>\n",
       "    </tr>\n",
       "    <tr>\n",
       "      <th>4</th>\n",
       "      <td>0.970000</td>\n",
       "      <td>1.000000</td>\n",
       "      <td>5.947549e-42</td>\n",
       "      <td>1.018493e-11</td>\n",
       "      <td>0.950000</td>\n",
       "      <td>Homer Simpson</td>\n",
       "    </tr>\n",
       "    <tr>\n",
       "      <th>...</th>\n",
       "      <td>...</td>\n",
       "      <td>...</td>\n",
       "      <td>...</td>\n",
       "      <td>...</td>\n",
       "      <td>...</td>\n",
       "      <td>...</td>\n",
       "    </tr>\n",
       "    <tr>\n",
       "      <th>12053</th>\n",
       "      <td>0.891993</td>\n",
       "      <td>0.837802</td>\n",
       "      <td>1.188292e-03</td>\n",
       "      <td>1.409598e-01</td>\n",
       "      <td>0.923136</td>\n",
       "      <td>Lisa Simpson</td>\n",
       "    </tr>\n",
       "    <tr>\n",
       "      <th>12054</th>\n",
       "      <td>0.515480</td>\n",
       "      <td>0.522489</td>\n",
       "      <td>3.915252e-01</td>\n",
       "      <td>4.676350e-01</td>\n",
       "      <td>0.518777</td>\n",
       "      <td>Homer Simpson</td>\n",
       "    </tr>\n",
       "    <tr>\n",
       "      <th>12055</th>\n",
       "      <td>0.970000</td>\n",
       "      <td>1.000000</td>\n",
       "      <td>1.630281e-137</td>\n",
       "      <td>3.473454e-37</td>\n",
       "      <td>0.950000</td>\n",
       "      <td>Homer Simpson</td>\n",
       "    </tr>\n",
       "    <tr>\n",
       "      <th>12056</th>\n",
       "      <td>0.775454</td>\n",
       "      <td>0.718074</td>\n",
       "      <td>2.051595e-02</td>\n",
       "      <td>2.606222e-01</td>\n",
       "      <td>0.837723</td>\n",
       "      <td>Lisa Simpson</td>\n",
       "    </tr>\n",
       "    <tr>\n",
       "      <th>12057</th>\n",
       "      <td>0.515289</td>\n",
       "      <td>0.522577</td>\n",
       "      <td>3.915462e-01</td>\n",
       "      <td>4.676917e-01</td>\n",
       "      <td>0.518796</td>\n",
       "      <td>Homer Simpson</td>\n",
       "    </tr>\n",
       "  </tbody>\n",
       "</table>\n",
       "<p>12058 rows × 6 columns</p>\n",
       "</div>"
      ],
      "text/plain": [
       "         Others  Homer Simpson  Marge Simpson  Bart Simpson  Lisa Simpson  \\\n",
       "0      0.515346       0.522499   3.916381e-01  4.676323e-01      0.518799   \n",
       "1      0.766316       0.709863   2.399869e-02  2.688622e-01      0.828994   \n",
       "2      0.515349       0.522513   3.915725e-01  4.677200e-01      0.518749   \n",
       "3      0.970000       1.000000  8.218948e-144  7.286190e-39      0.950000   \n",
       "4      0.970000       1.000000   5.947549e-42  1.018493e-11      0.950000   \n",
       "...         ...            ...            ...           ...           ...   \n",
       "12053  0.891993       0.837802   1.188292e-03  1.409598e-01      0.923136   \n",
       "12054  0.515480       0.522489   3.915252e-01  4.676350e-01      0.518777   \n",
       "12055  0.970000       1.000000  1.630281e-137  3.473454e-37      0.950000   \n",
       "12056  0.775454       0.718074   2.051595e-02  2.606222e-01      0.837723   \n",
       "12057  0.515289       0.522577   3.915462e-01  4.676917e-01      0.518796   \n",
       "\n",
       "      Max_Probability_Class  \n",
       "0             Homer Simpson  \n",
       "1              Lisa Simpson  \n",
       "2             Homer Simpson  \n",
       "3             Homer Simpson  \n",
       "4             Homer Simpson  \n",
       "...                     ...  \n",
       "12053          Lisa Simpson  \n",
       "12054         Homer Simpson  \n",
       "12055         Homer Simpson  \n",
       "12056          Lisa Simpson  \n",
       "12057         Homer Simpson  \n",
       "\n",
       "[12058 rows x 6 columns]"
      ]
     },
     "execution_count": 97,
     "metadata": {},
     "output_type": "execute_result"
    }
   ],
   "source": [
    "y_pred_df = y_pred_df[['Others', 'Homer Simpson', 'Marge Simpson', 'Bart Simpson', 'Lisa Simpson']]\n",
    "y_pred_df['Max_Probability_Class'] = y_pred_df.idxmax(axis=1)\n",
    "y_pred_df"
   ]
  },
  {
   "cell_type": "code",
   "execution_count": 98,
   "metadata": {},
   "outputs": [
    {
     "data": {
      "text/plain": [
       "0.2872781555813568"
      ]
     },
     "execution_count": 98,
     "metadata": {},
     "output_type": "execute_result"
    }
   ],
   "source": [
    "y_pred_frank = y_pred_df['Max_Probability_Class']\n",
    "y_test_frank = y_test['text_char_simplified']\n",
    "accuracy_score(y_test_frank, y_pred_frank)"
   ]
  },
  {
   "cell_type": "code",
   "execution_count": 99,
   "metadata": {},
   "outputs": [
    {
     "data": {
      "image/png": "[encoded data removed]",
      "text/plain": [
       "<Figure size 1000x1000 with 1 Axes>"
      ]
     },
     "metadata": {},
     "output_type": "display_data"
    }
   ],
   "source": [
    "class_labels = np.unique(y_test_frank)\n",
    "\n",
    "conf_matrix=confusion_matrix(y_test_frank, y_pred_frank, normalize='true')\n",
    "\n",
    "plt.figure(figsize=(10,10))\n",
    "sns.heatmap(conf_matrix, annot=True, cmap='Blues', fmt='.0%', cbar=False, xticklabels=class_labels, yticklabels=class_labels)\n",
    "plt.xlabel('Predicted labels')\n",
    "plt.ylabel('True labels')\n",
    "plt.title('Confusion Matrix')\n",
    "plt.show()"
   ]
  },
  {
   "cell_type": "markdown",
   "metadata": {},
   "source": [
    "# Clasificación con reducción de componentes"
   ]
  },
  {
   "cell_type": "code",
   "execution_count": 54,
   "metadata": {},
   "outputs": [],
   "source": [
    "# Dividir el DataFrame en características (X) y etiquetas (y)\n",
    "X = result_df.drop(['character_id', 'raw_character_text', 'text_char_simplified'], axis=1) \n",
    "y = result_df['text_char_simplified']"
   ]
  },
  {
   "cell_type": "markdown",
   "metadata": {},
   "source": [
    "## Optimizaciones"
   ]
  },
  {
   "cell_type": "code",
   "execution_count": 55,
   "metadata": {},
   "outputs": [],
   "source": [
    "pipe_rfc = Pipeline([('pca', PCA(n_components=0.75)),('scaler', StandardScaler()), ('rfc', RandomForestClassifier(class_weight='balanced'))])\n",
    "grid_params_rfc = {\n",
    "    'rfc__n_estimators' : [10, 20, 30, 40, 50, 60, 70, 80, 90, 100, 110, 130, 150],\n",
    "    'rfc__max_depth': [5]#[1, 2, 3, 4, 5, 6, 7, 8, 9, 10]\n",
    "}\n",
    "gs_rfc = GridSearchCV(pipe_rfc, grid_params_rfc, cv = 5, verbose=1, scoring= 'accuracy',return_train_score=True)"
   ]
  },
  {
   "cell_type": "code",
   "execution_count": 56,
   "metadata": {},
   "outputs": [
    {
     "name": "stdout",
     "output_type": "stream",
     "text": [
      "Fitting 5 folds for each of 13 candidates, totalling 65 fits\n"
     ]
    },
    {
     "data": {
      "text/html": [
       "<style>#sk-container-id-1 {color: black;}#sk-container-id-1 pre{padding: 0;}#sk-container-id-1 div.sk-toggleable {background-color: white;}#sk-container-id-1 label.sk-toggleable__label {cursor: pointer;display: block;width: 100%;margin-bottom: 0;padding: 0.3em;box-sizing: border-box;text-align: center;}#sk-container-id-1 label.sk-toggleable__label-arrow:before {content: \"▸\";float: left;margin-right: 0.25em;color: #696969;}#sk-container-id-1 label.sk-toggleable__label-arrow:hover:before {color: black;}#sk-container-id-1 div.sk-estimator:hover label.sk-toggleable__label-arrow:before {color: black;}#sk-container-id-1 div.sk-toggleable__content {max-height: 0;max-width: 0;overflow: hidden;text-align: left;background-color: #f0f8ff;}#sk-container-id-1 div.sk-toggleable__content pre {margin: 0.2em;color: black;border-radius: 0.25em;background-color: #f0f8ff;}#sk-container-id-1 input.sk-toggleable__control:checked~div.sk-toggleable__content {max-height: 200px;max-width: 100%;overflow: auto;}#sk-container-id-1 input.sk-toggleable__control:checked~label.sk-toggleable__label-arrow:before {content: \"▾\";}#sk-container-id-1 div.sk-estimator input.sk-toggleable__control:checked~label.sk-toggleable__label {background-color: #d4ebff;}#sk-container-id-1 div.sk-label input.sk-toggleable__control:checked~label.sk-toggleable__label {background-color: #d4ebff;}#sk-container-id-1 input.sk-hidden--visually {border: 0;clip: rect(1px 1px 1px 1px);clip: rect(1px, 1px, 1px, 1px);height: 1px;margin: -1px;overflow: hidden;padding: 0;position: absolute;width: 1px;}#sk-container-id-1 div.sk-estimator {font-family: monospace;background-color: #f0f8ff;border: 1px dotted black;border-radius: 0.25em;box-sizing: border-box;margin-bottom: 0.5em;}#sk-container-id-1 div.sk-estimator:hover {background-color: #d4ebff;}#sk-container-id-1 div.sk-parallel-item::after {content: \"\";width: 100%;border-bottom: 1px solid gray;flex-grow: 1;}#sk-container-id-1 div.sk-label:hover label.sk-toggleable__label {background-color: #d4ebff;}#sk-container-id-1 div.sk-serial::before {content: \"\";position: absolute;border-left: 1px solid gray;box-sizing: border-box;top: 0;bottom: 0;left: 50%;z-index: 0;}#sk-container-id-1 div.sk-serial {display: flex;flex-direction: column;align-items: center;background-color: white;padding-right: 0.2em;padding-left: 0.2em;position: relative;}#sk-container-id-1 div.sk-item {position: relative;z-index: 1;}#sk-container-id-1 div.sk-parallel {display: flex;align-items: stretch;justify-content: center;background-color: white;position: relative;}#sk-container-id-1 div.sk-item::before, #sk-container-id-1 div.sk-parallel-item::before {content: \"\";position: absolute;border-left: 1px solid gray;box-sizing: border-box;top: 0;bottom: 0;left: 50%;z-index: -1;}#sk-container-id-1 div.sk-parallel-item {display: flex;flex-direction: column;z-index: 1;position: relative;background-color: white;}#sk-container-id-1 div.sk-parallel-item:first-child::after {align-self: flex-end;width: 50%;}#sk-container-id-1 div.sk-parallel-item:last-child::after {align-self: flex-start;width: 50%;}#sk-container-id-1 div.sk-parallel-item:only-child::after {width: 0;}#sk-container-id-1 div.sk-dashed-wrapped {border: 1px dashed gray;margin: 0 0.4em 0.5em 0.4em;box-sizing: border-box;padding-bottom: 0.4em;background-color: white;}#sk-container-id-1 div.sk-label label {font-family: monospace;font-weight: bold;display: inline-block;line-height: 1.2em;}#sk-container-id-1 div.sk-label-container {text-align: center;}#sk-container-id-1 div.sk-container {/* jupyter's `normalize.less` sets `[hidden] { display: none; }` but bootstrap.min.css set `[hidden] { display: none !important; }` so we also need the `!important` here to be able to override the default hidden behavior on the sphinx rendered scikit-learn.org. See: https://github.com/scikit-learn/scikit-learn/issues/21755 */display: inline-block !important;position: relative;}#sk-container-id-1 div.sk-text-repr-fallback {display: none;}</style><div id=\"sk-container-id-1\" class=\"sk-top-container\"><div class=\"sk-text-repr-fallback\"><pre>GridSearchCV(cv=5,\n",
       "             estimator=Pipeline(steps=[(&#x27;pca&#x27;, PCA(n_components=0.75)),\n",
       "                                       (&#x27;scaler&#x27;, StandardScaler()),\n",
       "                                       (&#x27;rfc&#x27;,\n",
       "                                        RandomForestClassifier(class_weight=&#x27;balanced&#x27;))]),\n",
       "             param_grid={&#x27;rfc__max_depth&#x27;: [5],\n",
       "                         &#x27;rfc__n_estimators&#x27;: [10, 20, 30, 40, 50, 60, 70, 80,\n",
       "                                               90, 100, 110, 130, 150]},\n",
       "             return_train_score=True, scoring=&#x27;accuracy&#x27;, verbose=1)</pre><b>In a Jupyter environment, please rerun this cell to show the HTML representation or trust the notebook. <br />On GitHub, the HTML representation is unable to render, please try loading this page with nbviewer.org.</b></div><div class=\"sk-container\" hidden><div class=\"sk-item sk-dashed-wrapped\"><div class=\"sk-label-container\"><div class=\"sk-label sk-toggleable\"><input class=\"sk-toggleable__control sk-hidden--visually\" id=\"sk-estimator-id-1\" type=\"checkbox\" ><label for=\"sk-estimator-id-1\" class=\"sk-toggleable__label sk-toggleable__label-arrow\">GridSearchCV</label><div class=\"sk-toggleable__content\"><pre>GridSearchCV(cv=5,\n",
       "             estimator=Pipeline(steps=[(&#x27;pca&#x27;, PCA(n_components=0.75)),\n",
       "                                       (&#x27;scaler&#x27;, StandardScaler()),\n",
       "                                       (&#x27;rfc&#x27;,\n",
       "                                        RandomForestClassifier(class_weight=&#x27;balanced&#x27;))]),\n",
       "             param_grid={&#x27;rfc__max_depth&#x27;: [5],\n",
       "                         &#x27;rfc__n_estimators&#x27;: [10, 20, 30, 40, 50, 60, 70, 80,\n",
       "                                               90, 100, 110, 130, 150]},\n",
       "             return_train_score=True, scoring=&#x27;accuracy&#x27;, verbose=1)</pre></div></div></div><div class=\"sk-parallel\"><div class=\"sk-parallel-item\"><div class=\"sk-item\"><div class=\"sk-label-container\"><div class=\"sk-label sk-toggleable\"><input class=\"sk-toggleable__control sk-hidden--visually\" id=\"sk-estimator-id-2\" type=\"checkbox\" ><label for=\"sk-estimator-id-2\" class=\"sk-toggleable__label sk-toggleable__label-arrow\">estimator: Pipeline</label><div class=\"sk-toggleable__content\"><pre>Pipeline(steps=[(&#x27;pca&#x27;, PCA(n_components=0.75)), (&#x27;scaler&#x27;, StandardScaler()),\n",
       "                (&#x27;rfc&#x27;, RandomForestClassifier(class_weight=&#x27;balanced&#x27;))])</pre></div></div></div><div class=\"sk-serial\"><div class=\"sk-item\"><div class=\"sk-serial\"><div class=\"sk-item\"><div class=\"sk-estimator sk-toggleable\"><input class=\"sk-toggleable__control sk-hidden--visually\" id=\"sk-estimator-id-3\" type=\"checkbox\" ><label for=\"sk-estimator-id-3\" class=\"sk-toggleable__label sk-toggleable__label-arrow\">PCA</label><div class=\"sk-toggleable__content\"><pre>PCA(n_components=0.75)</pre></div></div></div><div class=\"sk-item\"><div class=\"sk-estimator sk-toggleable\"><input class=\"sk-toggleable__control sk-hidden--visually\" id=\"sk-estimator-id-4\" type=\"checkbox\" ><label for=\"sk-estimator-id-4\" class=\"sk-toggleable__label sk-toggleable__label-arrow\">StandardScaler</label><div class=\"sk-toggleable__content\"><pre>StandardScaler()</pre></div></div></div><div class=\"sk-item\"><div class=\"sk-estimator sk-toggleable\"><input class=\"sk-toggleable__control sk-hidden--visually\" id=\"sk-estimator-id-5\" type=\"checkbox\" ><label for=\"sk-estimator-id-5\" class=\"sk-toggleable__label sk-toggleable__label-arrow\">RandomForestClassifier</label><div class=\"sk-toggleable__content\"><pre>RandomForestClassifier(class_weight=&#x27;balanced&#x27;)</pre></div></div></div></div></div></div></div></div></div></div></div></div>"
      ],
      "text/plain": [
       "GridSearchCV(cv=5,\n",
       "             estimator=Pipeline(steps=[('pca', PCA(n_components=0.75)),\n",
       "                                       ('scaler', StandardScaler()),\n",
       "                                       ('rfc',\n",
       "                                        RandomForestClassifier(class_weight='balanced'))]),\n",
       "             param_grid={'rfc__max_depth': [5],\n",
       "                         'rfc__n_estimators': [10, 20, 30, 40, 50, 60, 70, 80,\n",
       "                                               90, 100, 110, 130, 150]},\n",
       "             return_train_score=True, scoring='accuracy', verbose=1)"
      ]
     },
     "execution_count": 56,
     "metadata": {},
     "output_type": "execute_result"
    }
   ],
   "source": [
    "gs_rfc.fit(X,y)"
   ]
  },
  {
   "cell_type": "code",
   "execution_count": 57,
   "metadata": {},
   "outputs": [
    {
     "data": {
      "text/html": [
       "<div>\n",
       "<style scoped>\n",
       "    .dataframe tbody tr th:only-of-type {\n",
       "        vertical-align: middle;\n",
       "    }\n",
       "\n",
       "    .dataframe tbody tr th {\n",
       "        vertical-align: top;\n",
       "    }\n",
       "\n",
       "    .dataframe thead th {\n",
       "        text-align: right;\n",
       "    }\n",
       "</style>\n",
       "<table border=\"1\" class=\"dataframe\">\n",
       "  <thead>\n",
       "    <tr style=\"text-align: right;\">\n",
       "      <th></th>\n",
       "      <th>rfc__max_depth</th>\n",
       "      <th>rfc__n_estimators</th>\n",
       "      <th>test_result</th>\n",
       "      <th>train_result</th>\n",
       "    </tr>\n",
       "  </thead>\n",
       "  <tbody>\n",
       "    <tr>\n",
       "      <th>0</th>\n",
       "      <td>5</td>\n",
       "      <td>10</td>\n",
       "      <td>0.281382</td>\n",
       "      <td>0.291381</td>\n",
       "    </tr>\n",
       "    <tr>\n",
       "      <th>1</th>\n",
       "      <td>5</td>\n",
       "      <td>20</td>\n",
       "      <td>0.281830</td>\n",
       "      <td>0.289104</td>\n",
       "    </tr>\n",
       "    <tr>\n",
       "      <th>2</th>\n",
       "      <td>5</td>\n",
       "      <td>30</td>\n",
       "      <td>0.282344</td>\n",
       "      <td>0.292853</td>\n",
       "    </tr>\n",
       "  </tbody>\n",
       "</table>\n",
       "</div>"
      ],
      "text/plain": [
       "   rfc__max_depth  rfc__n_estimators  test_result  train_result\n",
       "0               5                 10     0.281382      0.291381\n",
       "1               5                 20     0.281830      0.289104\n",
       "2               5                 30     0.282344      0.292853"
      ]
     },
     "execution_count": 57,
     "metadata": {},
     "output_type": "execute_result"
    }
   ],
   "source": [
    "df_gs_rfc = pd.DataFrame(gs_rfc.cv_results_['params'])\n",
    "df_gs_rfc['test_result'] = gs_rfc.cv_results_['mean_test_score']\n",
    "df_gs_rfc['train_result'] = gs_rfc.cv_results_['mean_train_score']\n",
    "df_gs_rfc.head(3)"
   ]
  },
  {
   "cell_type": "code",
   "execution_count": 83,
   "metadata": {},
   "outputs": [
    {
     "data": {
      "text/plain": [
       "<matplotlib.legend.Legend at 0x326dd6d10>"
      ]
     },
     "execution_count": 83,
     "metadata": {},
     "output_type": "execute_result"
    },
    {
     "data": {
      "image/png": "[encoded data removed]",
      "text/plain": [
       "<Figure size 1000x600 with 1 Axes>"
      ]
     },
     "metadata": {},
     "output_type": "display_data"
    }
   ],
   "source": [
    "fig, ax = plt.subplots(figsize=(10,6))\n",
    "df_gs_rfc.plot.scatter('rfc__n_estimators', 'test_result', label='test', ax=ax, color='blue')\n",
    "df_gs_rfc.plot.scatter('rfc__n_estimators', 'train_result', label='train', ax=ax, color='red')\n",
    "plt.legend()"
   ]
  },
  {
   "cell_type": "markdown",
   "metadata": {},
   "source": [
    "De max_depth = [1, 2, 3, 4, 5, 6, 7, 8, 9, 10] para n_estimators = 30 el mejor ha sido: 5"
   ]
  },
  {
   "cell_type": "markdown",
   "metadata": {},
   "source": [
    "De n_estimators = [10, 20, 30, 40, 50, 60, 70, 80, 90, 100, 110, 130, 150] para max_depth = 5 el mejor ha sido: 20"
   ]
  },
  {
   "cell_type": "markdown",
   "metadata": {},
   "source": [
    "## Métricas"
   ]
  },
  {
   "cell_type": "code",
   "execution_count": 76,
   "metadata": {},
   "outputs": [
    {
     "name": "stdout",
     "output_type": "stream",
     "text": [
      "Accuracy: 0.36880079615193234\n",
      "\n",
      "Classification Report:\n",
      "               precision    recall  f1-score   support\n",
      "\n",
      " Bart Simpson       0.28      0.02      0.04      1808\n",
      "Homer Simpson       0.35      0.89      0.51      4029\n",
      " Lisa Simpson       0.49      0.02      0.05      1504\n",
      "Marge Simpson       0.00      0.00      0.00      2012\n",
      "       Others       0.46      0.29      0.36      2705\n",
      "\n",
      "     accuracy                           0.37     12058\n",
      "    macro avg       0.32      0.25      0.19     12058\n",
      " weighted avg       0.32      0.37      0.26     12058\n",
      "\n"
     ]
    }
   ],
   "source": [
    "## Aplicando PCA\n",
    "pca = PCA(n_components=0.8)  \n",
    "X_pca = pca.fit_transform(X)\n",
    "\n",
    "# Dividir el conjunto de datos en conjuntos de entrenamiento y prueba\n",
    "X_train, X_test, y_train, y_test = train_test_split(X_pca, y, test_size=0.2, random_state=1989)\n",
    "\n",
    "# Escalar características para normalizarlas\n",
    "scaler = StandardScaler()\n",
    "X_train_scaled = scaler.fit_transform(X_train)\n",
    "X_test_scaled = scaler.transform(X_test)\n",
    "\n",
    "# Crear y entrenar el model_rfco de regresión logística\n",
    "model_rfc = RandomForestClassifier(n_estimators=20, max_depth=5)\n",
    "model_rfc.fit(X_train_scaled, y_train)\n",
    "\n",
    "# Predecir las etiquetas para el conjunto de prueba\n",
    "y_pred = model_rfc.predict(X_test_scaled)\n",
    "\n",
    "# Calcular la precisión del model_rfco\n",
    "accuracy = accuracy_score(y_test, y_pred)\n",
    "print(\"Accuracy:\", accuracy)\n",
    "\n",
    "# Mostrar el reporte de clasificación\n",
    "print(\"\\nClassification Report:\")\n",
    "print(classification_report(y_test, y_pred))"
   ]
  },
  {
   "cell_type": "code",
   "execution_count": 77,
   "metadata": {},
   "outputs": [
    {
     "data": {
      "image/png": "[encoded data removed]",
      "text/plain": [
       "<Figure size 1000x1000 with 1 Axes>"
      ]
     },
     "metadata": {},
     "output_type": "display_data"
    }
   ],
   "source": [
    "class_labels = np.unique(y_test)\n",
    "conf_matrix=confusion_matrix(y_test, y_pred, normalize='true')\n",
    "\n",
    "plt.figure(figsize=(10,10))\n",
    "sns.heatmap(conf_matrix, annot=True, cmap='Blues', fmt='.0%', cbar=False, xticklabels=class_labels, yticklabels=class_labels)\n",
    "plt.xlabel('Predicted labels')\n",
    "plt.ylabel('True labels')\n",
    "plt.title('Confusion Matrix')\n",
    "plt.show()"
   ]
  },
  {
   "cell_type": "markdown",
   "metadata": {},
   "source": [
    "# Exportando Modelos usados:"
   ]
  },
  {
   "cell_type": "markdown",
   "metadata": {},
   "source": [
    "## PCA"
   ]
  },
  {
   "cell_type": "code",
   "execution_count": 78,
   "metadata": {},
   "outputs": [],
   "source": [
    "Xpca = pca.fit_transform(X)"
   ]
  },
  {
   "cell_type": "code",
   "execution_count": 79,
   "metadata": {},
   "outputs": [],
   "source": [
    "with open('Modelos/Clasificación/pca.pkl', 'wb') as file:\n",
    "    pickle.dump(pca, file)"
   ]
  },
  {
   "cell_type": "code",
   "execution_count": 80,
   "metadata": {},
   "outputs": [
    {
     "data": {
      "text/plain": [
       "['Modelos/Clasificación/pca.bin']"
      ]
     },
     "execution_count": 80,
     "metadata": {},
     "output_type": "execute_result"
    }
   ],
   "source": [
    "joblib.dump(pca, 'Modelos/Clasificación/pca.bin', compress=True)"
   ]
  },
  {
   "cell_type": "markdown",
   "metadata": {},
   "source": [
    "## Scaler"
   ]
  },
  {
   "cell_type": "code",
   "execution_count": 81,
   "metadata": {},
   "outputs": [],
   "source": [
    "X_scaled = scaler.fit_transform(Xpca)"
   ]
  },
  {
   "cell_type": "code",
   "execution_count": 82,
   "metadata": {},
   "outputs": [],
   "source": [
    "X.to_csv('The Saimpsons Archive/in_use/data_classification_training_scaler.csv', index=False)"
   ]
  },
  {
   "cell_type": "code",
   "execution_count": 83,
   "metadata": {},
   "outputs": [],
   "source": [
    "with open('Modelos/Clasificación/standard_scaler.pkl', 'wb') as file:\n",
    "    pickle.dump(scaler, file)"
   ]
  },
  {
   "cell_type": "code",
   "execution_count": 84,
   "metadata": {},
   "outputs": [
    {
     "data": {
      "text/plain": [
       "['Modelos/Clasificación/standard_scaler.bin']"
      ]
     },
     "execution_count": 84,
     "metadata": {},
     "output_type": "execute_result"
    }
   ],
   "source": [
    "joblib.dump(scaler, 'Modelos/Clasificación/standard_scaler.bin', compress=True)"
   ]
  },
  {
   "cell_type": "markdown",
   "metadata": {},
   "source": [
    "## Random Forest"
   ]
  },
  {
   "cell_type": "code",
   "execution_count": 85,
   "metadata": {},
   "outputs": [
    {
     "data": {
      "text/html": [
       "<style>#sk-container-id-2 {color: black;}#sk-container-id-2 pre{padding: 0;}#sk-container-id-2 div.sk-toggleable {background-color: white;}#sk-container-id-2 label.sk-toggleable__label {cursor: pointer;display: block;width: 100%;margin-bottom: 0;padding: 0.3em;box-sizing: border-box;text-align: center;}#sk-container-id-2 label.sk-toggleable__label-arrow:before {content: \"▸\";float: left;margin-right: 0.25em;color: #696969;}#sk-container-id-2 label.sk-toggleable__label-arrow:hover:before {color: black;}#sk-container-id-2 div.sk-estimator:hover label.sk-toggleable__label-arrow:before {color: black;}#sk-container-id-2 div.sk-toggleable__content {max-height: 0;max-width: 0;overflow: hidden;text-align: left;background-color: #f0f8ff;}#sk-container-id-2 div.sk-toggleable__content pre {margin: 0.2em;color: black;border-radius: 0.25em;background-color: #f0f8ff;}#sk-container-id-2 input.sk-toggleable__control:checked~div.sk-toggleable__content {max-height: 200px;max-width: 100%;overflow: auto;}#sk-container-id-2 input.sk-toggleable__control:checked~label.sk-toggleable__label-arrow:before {content: \"▾\";}#sk-container-id-2 div.sk-estimator input.sk-toggleable__control:checked~label.sk-toggleable__label {background-color: #d4ebff;}#sk-container-id-2 div.sk-label input.sk-toggleable__control:checked~label.sk-toggleable__label {background-color: #d4ebff;}#sk-container-id-2 input.sk-hidden--visually {border: 0;clip: rect(1px 1px 1px 1px);clip: rect(1px, 1px, 1px, 1px);height: 1px;margin: -1px;overflow: hidden;padding: 0;position: absolute;width: 1px;}#sk-container-id-2 div.sk-estimator {font-family: monospace;background-color: #f0f8ff;border: 1px dotted black;border-radius: 0.25em;box-sizing: border-box;margin-bottom: 0.5em;}#sk-container-id-2 div.sk-estimator:hover {background-color: #d4ebff;}#sk-container-id-2 div.sk-parallel-item::after {content: \"\";width: 100%;border-bottom: 1px solid gray;flex-grow: 1;}#sk-container-id-2 div.sk-label:hover label.sk-toggleable__label {background-color: #d4ebff;}#sk-container-id-2 div.sk-serial::before {content: \"\";position: absolute;border-left: 1px solid gray;box-sizing: border-box;top: 0;bottom: 0;left: 50%;z-index: 0;}#sk-container-id-2 div.sk-serial {display: flex;flex-direction: column;align-items: center;background-color: white;padding-right: 0.2em;padding-left: 0.2em;position: relative;}#sk-container-id-2 div.sk-item {position: relative;z-index: 1;}#sk-container-id-2 div.sk-parallel {display: flex;align-items: stretch;justify-content: center;background-color: white;position: relative;}#sk-container-id-2 div.sk-item::before, #sk-container-id-2 div.sk-parallel-item::before {content: \"\";position: absolute;border-left: 1px solid gray;box-sizing: border-box;top: 0;bottom: 0;left: 50%;z-index: -1;}#sk-container-id-2 div.sk-parallel-item {display: flex;flex-direction: column;z-index: 1;position: relative;background-color: white;}#sk-container-id-2 div.sk-parallel-item:first-child::after {align-self: flex-end;width: 50%;}#sk-container-id-2 div.sk-parallel-item:last-child::after {align-self: flex-start;width: 50%;}#sk-container-id-2 div.sk-parallel-item:only-child::after {width: 0;}#sk-container-id-2 div.sk-dashed-wrapped {border: 1px dashed gray;margin: 0 0.4em 0.5em 0.4em;box-sizing: border-box;padding-bottom: 0.4em;background-color: white;}#sk-container-id-2 div.sk-label label {font-family: monospace;font-weight: bold;display: inline-block;line-height: 1.2em;}#sk-container-id-2 div.sk-label-container {text-align: center;}#sk-container-id-2 div.sk-container {/* jupyter's `normalize.less` sets `[hidden] { display: none; }` but bootstrap.min.css set `[hidden] { display: none !important; }` so we also need the `!important` here to be able to override the default hidden behavior on the sphinx rendered scikit-learn.org. See: https://github.com/scikit-learn/scikit-learn/issues/21755 */display: inline-block !important;position: relative;}#sk-container-id-2 div.sk-text-repr-fallback {display: none;}</style><div id=\"sk-container-id-2\" class=\"sk-top-container\"><div class=\"sk-text-repr-fallback\"><pre>RandomForestClassifier(max_depth=5, n_estimators=20)</pre><b>In a Jupyter environment, please rerun this cell to show the HTML representation or trust the notebook. <br />On GitHub, the HTML representation is unable to render, please try loading this page with nbviewer.org.</b></div><div class=\"sk-container\" hidden><div class=\"sk-item\"><div class=\"sk-estimator sk-toggleable\"><input class=\"sk-toggleable__control sk-hidden--visually\" id=\"sk-estimator-id-6\" type=\"checkbox\" checked><label for=\"sk-estimator-id-6\" class=\"sk-toggleable__label sk-toggleable__label-arrow\">RandomForestClassifier</label><div class=\"sk-toggleable__content\"><pre>RandomForestClassifier(max_depth=5, n_estimators=20)</pre></div></div></div></div></div>"
      ],
      "text/plain": [
       "RandomForestClassifier(max_depth=5, n_estimators=20)"
      ]
     },
     "execution_count": 85,
     "metadata": {},
     "output_type": "execute_result"
    }
   ],
   "source": [
    "model_rfc.fit(X_scaled, y)"
   ]
  },
  {
   "cell_type": "code",
   "execution_count": 86,
   "metadata": {},
   "outputs": [],
   "source": [
    "with open('Modelos/Clasificación/random_forest.pkl', 'wb') as file:\n",
    "    pickle.dump(model_rfc, file)"
   ]
  },
  {
   "cell_type": "code",
   "execution_count": 87,
   "metadata": {},
   "outputs": [
    {
     "data": {
      "text/plain": [
       "['Modelos/Clasificación/random_forest.bin']"
      ]
     },
     "execution_count": 87,
     "metadata": {},
     "output_type": "execute_result"
    }
   ],
   "source": [
    "joblib.dump(model_rfc, 'Modelos/Clasificación/random_forest.bin', compress=True)"
   ]
  },
  {
   "cell_type": "markdown",
   "metadata": {},
   "source": [
    "## Diferencia character_id vs raw_character"
   ]
  },
  {
   "cell_type": "code",
   "execution_count": 88,
   "metadata": {},
   "outputs": [
    {
     "data": {
      "text/html": [
       "<div>\n",
       "<style scoped>\n",
       "    .dataframe tbody tr th:only-of-type {\n",
       "        vertical-align: middle;\n",
       "    }\n",
       "\n",
       "    .dataframe tbody tr th {\n",
       "        vertical-align: top;\n",
       "    }\n",
       "\n",
       "    .dataframe thead th {\n",
       "        text-align: right;\n",
       "    }\n",
       "</style>\n",
       "<table border=\"1\" class=\"dataframe\">\n",
       "  <thead>\n",
       "    <tr style=\"text-align: right;\">\n",
       "      <th></th>\n",
       "      <th>episode_id</th>\n",
       "      <th>character_id</th>\n",
       "      <th>raw_character_text</th>\n",
       "      <th>location_id</th>\n",
       "      <th>spoken_words</th>\n",
       "      <th>spoken_words_count</th>\n",
       "      <th>text_char_simplified</th>\n",
       "    </tr>\n",
       "  </thead>\n",
       "  <tbody>\n",
       "    <tr>\n",
       "      <th>25548</th>\n",
       "      <td>268</td>\n",
       "      <td>8.0</td>\n",
       "      <td>Bart Simpson</td>\n",
       "      <td>27.0</td>\n",
       "      <td>But the black man said...</td>\n",
       "      <td>5</td>\n",
       "      <td>Bart Simpson</td>\n",
       "    </tr>\n",
       "  </tbody>\n",
       "</table>\n",
       "</div>"
      ],
      "text/plain": [
       "       episode_id  character_id raw_character_text  location_id  \\\n",
       "25548         268           8.0       Bart Simpson         27.0   \n",
       "\n",
       "                    spoken_words  spoken_words_count text_char_simplified  \n",
       "25548  But the black man said...                   5         Bart Simpson  "
      ]
     },
     "execution_count": 88,
     "metadata": {},
     "output_type": "execute_result"
    }
   ],
   "source": [
    "df.sample()"
   ]
  },
  {
   "cell_type": "code",
   "execution_count": 89,
   "metadata": {},
   "outputs": [
    {
     "data": {
      "text/plain": [
       "array(['Homer Simpson', 'Young Homer', 'Teenage Homer', \"Homer's Brain\",\n",
       "       \"Homer's Thoughts\"], dtype=object)"
      ]
     },
     "execution_count": 89,
     "metadata": {},
     "output_type": "execute_result"
    }
   ],
   "source": [
    "df[df['character_id']==2]['raw_character_text'].unique()"
   ]
  },
  {
   "cell_type": "code",
   "execution_count": null,
   "metadata": {},
   "outputs": [],
   "source": []
  }
 ],
 "metadata": {
  "kernelspec": {
   "display_name": "Python 3",
   "language": "python",
   "name": "python3"
  },
  "language_info": {
   "codemirror_mode": {
    "name": "ipython",
    "version": 3
   },
   "file_extension": ".py",
   "mimetype": "text/x-python",
   "name": "python",
   "nbconvert_exporter": "python",
   "pygments_lexer": "ipython3",
   "version": "3.11.1"
  }
 },
 "nbformat": 4,
 "nbformat_minor": 2
}
