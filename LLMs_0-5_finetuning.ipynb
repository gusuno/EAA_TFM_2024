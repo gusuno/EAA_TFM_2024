{
 "cells": [
  {
   "cell_type": "markdown",
   "metadata": {},
   "source": [
    "# Librerías"
   ]
  },
  {
   "cell_type": "code",
   "execution_count": 20,
   "metadata": {},
   "outputs": [],
   "source": [
    "import numpy\n",
    "import pandas as pd\n",
    "import openai\n",
    "from openai import OpenAI\n",
    "import csv\n",
    "import json"
   ]
  },
  {
   "cell_type": "markdown",
   "metadata": {},
   "source": [
    "# Formateo de csv a jsonl y guardado de los datos"
   ]
  },
  {
   "cell_type": "markdown",
   "metadata": {},
   "source": [
    "## Formateo de los datos a forma correcta a partir de csv"
   ]
  },
  {
   "cell_type": "code",
   "execution_count": 5,
   "metadata": {},
   "outputs": [],
   "source": [
    "def csv_to_txt(csv_file, txt_file):\n",
    "    with open(csv_file, 'r', newline='', encoding='utf-8') as csvfile:\n",
    "        csvreader = csv.DictReader(csvfile)\n",
    "        \n",
    "        with open(txt_file, 'w', encoding='utf-8') as txtfile:\n",
    "            for row in csvreader:\n",
    "                # Write prompt and completion to the text file in the desired format\n",
    "                txtfile.write(f\"user:: {row['prompt']}\\n\")\n",
    "                txtfile.write(f\"assistant:: {row['completion']}\\n\")\n",
    "                txtfile.write(\"-\\n\")\n",
    "\n",
    "# Example usage:\n",
    "csv_file_path = 'Modelos/archivos_jsonl/prompts_example.csv'\n",
    "txt_file_path = 'Modelos/archivos_jsonl/prompts_example.txt'\n",
    "csv_to_txt(csv_file_path, txt_file_path)\n"
   ]
  },
  {
   "cell_type": "code",
   "execution_count": 6,
   "metadata": {},
   "outputs": [],
   "source": [
    "with open('Modelos/archivos_jsonl/prompts_example.txt') as f:\n",
    "    text = [line for line in f]"
   ]
  },
  {
   "cell_type": "code",
   "execution_count": 7,
   "metadata": {},
   "outputs": [
    {
     "data": {
      "text/plain": [
       "['user:: Generate a scene in Street with the characters: Homer Simpson, Voice.\\n',\n",
       " \"assistant:: (Street: ext. street - establishing - night) (Street: ext. street - night) Voice: Hey, you. What do you think you're doing? Homer Simpson: Uh-oh. Voice: Hey, hey! Come back here.\\n\",\n",
       " '-\\n',\n",
       " 'user:: Generate a scene in Car with the characters: Marge Simpson, Homer Simpson.\\n',\n",
       " \"assistant:: (Car: int. car - night) Marge Simpson: Ooo, careful, Homer. Homer Simpson: There's no time to be careful. Homer Simpson: We're late.\\n\",\n",
       " '-\\n',\n",
       " 'user:: Generate a scene in Springfield Elementary School.\\n',\n",
       " 'assistant:: (Springfield Elementary School: Ext. springfield elementary school - establishing - night)\\n',\n",
       " '-\\n',\n",
       " 'user:: Generate a scene in Auditorium with the characters: Homer Simpson, Dewey Largo, Todd Flanders, Seymour Skinner, Children, Bart Simpson, JANEY, Marge Simpson.\\n']"
      ]
     },
     "execution_count": 7,
     "metadata": {},
     "output_type": "execute_result"
    }
   ],
   "source": [
    "text[:10]"
   ]
  },
  {
   "cell_type": "markdown",
   "metadata": {},
   "source": [
    "#### Cambio de formato al que debe ser:\n",
    "{\n",
    "  \n",
    "  \"messages\": [\n",
    "\n",
    "    { \"role\": \"system\", \"content\": \"You are an assistant that occasionally misspells words\" },\n",
    "\n",
    "    { \"role\": \"user\", \"content\": \"Tell me a story.\" },\n",
    "\n",
    "    { \"role\": \"assistant\", \"content\": \"One day a student went to schoool.\" }\n",
    "\n",
    "  ]\n",
    "\n",
    "}"
   ]
  },
  {
   "cell_type": "code",
   "execution_count": 8,
   "metadata": {},
   "outputs": [],
   "source": [
    "def formatear_ejemplo(lista_mensajes, system_message=None):\n",
    "    messages = []\n",
    "\n",
    "    # Incluir primero el mensaje de sistema\n",
    "    if system_message:\n",
    "        messages.append({\n",
    "            \"role\": \"system\",\n",
    "            \"content\": system_message\n",
    "        })\n",
    "\n",
    "    # Iterar por la lista de mensajes\n",
    "    for mensaje in lista_mensajes:\n",
    "        # Separar los mensajes por los dos puntos y el espacio\n",
    "        partes = mensaje.split(':: ', maxsplit=1)\n",
    "\n",
    "        #Controlar si alguna línea no cumple el patrón\n",
    "        if len(partes) < 2:\n",
    "            continue\n",
    "\n",
    "        # Identificar el rol y content\n",
    "        role = partes[0].strip()\n",
    "        content = partes[1].strip()\n",
    "\n",
    "        # Formatear el mensaje\n",
    "        message = {\n",
    "            \"role\": role,\n",
    "            \"content\": content\n",
    "        }\n",
    "\n",
    "        #Agregar el mensaje a la lista\n",
    "        messages.append(message)\n",
    "\n",
    "    # Crear diccionario final\n",
    "    dict_final = {\n",
    "        \"messages\": messages\n",
    "    }\n",
    "\n",
    "    return dict_final"
   ]
  },
  {
   "cell_type": "code",
   "execution_count": 9,
   "metadata": {},
   "outputs": [],
   "source": [
    "system_message = \"You are a skilled scriptwriter for TV shows, much like The Simpsons.\"\n",
    "\n",
    "dataset = []\n",
    "\n",
    "ejemplo = []\n",
    "for line in text:\n",
    "    if line == '-\\n':\n",
    "        ejemplo_formateado = formatear_ejemplo(lista_mensajes=ejemplo,\n",
    "                                                system_message=system_message)\n",
    "\n",
    "        dataset.append(ejemplo_formateado)\n",
    "        ejemplo = []\n",
    "        continue\n",
    "\n",
    "    ejemplo.append(line)"
   ]
  },
  {
   "cell_type": "markdown",
   "metadata": {},
   "source": [
    "### Validar formato y errores"
   ]
  },
  {
   "cell_type": "code",
   "execution_count": 10,
   "metadata": {},
   "outputs": [
    {
     "name": "stdout",
     "output_type": "stream",
     "text": [
      "No errors found\n"
     ]
    }
   ],
   "source": [
    "# Format error checks\n",
    "from collections import defaultdict\n",
    "format_errors = defaultdict(int)\n",
    "\n",
    "for ex in dataset:\n",
    "    if not isinstance(ex, dict):\n",
    "        format_errors[\"data_type\"] += 1\n",
    "        continue\n",
    "\n",
    "    messages = ex.get(\"messages\", None)\n",
    "    if not messages:\n",
    "        format_errors[\"missing_messages_list\"] += 1\n",
    "        continue\n",
    "\n",
    "    for message in messages:\n",
    "        if \"role\" not in message or \"content\" not in message:\n",
    "            format_errors[\"message_missing_key\"] += 1\n",
    "\n",
    "        if any(k not in (\"role\", \"content\", \"name\") for k in message):\n",
    "            format_errors[\"message_unrecognized_key\"] += 1\n",
    "\n",
    "        if message.get(\"role\", None) not in (\"system\", \"user\", \"assistant\"):\n",
    "            format_errors[\"unrecognized_role\"] += 1\n",
    "\n",
    "        content = message.get(\"content\", None)\n",
    "        if not content or not isinstance(content, str):\n",
    "            format_errors[\"missing_content\"] += 1\n",
    "\n",
    "    if not any(message.get(\"role\", None) == \"assistant\" for message in messages):\n",
    "        format_errors[\"example_missing_assistant_message\"] += 1\n",
    "\n",
    "if format_errors:\n",
    "    print(\"Found errors:\")\n",
    "    for k, v in format_errors.items():\n",
    "        print(f\"{k}: {v}\")\n",
    "else:\n",
    "    print(\"No errors found\")"
   ]
  },
  {
   "cell_type": "markdown",
   "metadata": {},
   "source": [
    "## Conteo de Tokens y estimación de precio"
   ]
  },
  {
   "cell_type": "code",
   "execution_count": 11,
   "metadata": {},
   "outputs": [],
   "source": [
    "import tiktoken\n",
    "import numpy as np\n",
    "encoding = tiktoken.get_encoding(\"cl100k_base\")\n",
    "\n",
    "# not exact!\n",
    "# simplified from https://github.com/openai/openai-cookbook/blob/main/examples/How_to_count_tokens_with_tiktoken.ipynb\n",
    "def num_tokens_from_messages(messages, tokens_per_message=3, tokens_per_name=1):\n",
    "    num_tokens = 0\n",
    "    for message in messages:\n",
    "        num_tokens += tokens_per_message\n",
    "        for key, value in message.items():\n",
    "            num_tokens += len(encoding.encode(value))\n",
    "            if key == \"name\":\n",
    "                num_tokens += tokens_per_name\n",
    "    num_tokens += 3\n",
    "    return num_tokens\n",
    "\n",
    "def num_assistant_tokens_from_messages(messages):\n",
    "    num_tokens = 0\n",
    "    for message in messages:\n",
    "        if message[\"role\"] == \"assistant\":\n",
    "            num_tokens += len(encoding.encode(message[\"content\"]))\n",
    "    return num_tokens\n",
    "\n",
    "def print_distribution(values, name):\n",
    "    print(f\"\\n#### Distribución de {name}:\")\n",
    "    print(f\"min / max: {min(values)}, {max(values)}\")\n",
    "    print(f\"media / mediana: {np.mean(values)}, {np.median(values)}\")\n",
    "    print(f\"p5 / p95: {np.quantile(values, 0.1)}, {np.quantile(values, 0.9)}\")\n"
   ]
  },
  {
   "cell_type": "code",
   "execution_count": 12,
   "metadata": {},
   "outputs": [
    {
     "name": "stdout",
     "output_type": "stream",
     "text": [
      "Num de ejemplos sin el system message: 0\n",
      "Num de ejemplos sin el user message: 0\n",
      "\n",
      "#### Distribución de num_mensajes_por_ejemplo:\n",
      "min / max: 3, 3\n",
      "media / mediana: 3.0, 3.0\n",
      "p5 / p95: 3.0, 3.0\n",
      "\n",
      "#### Distribución de num_total_tokens_por_ejemplo:\n",
      "min / max: 42, 4092\n",
      "media / mediana: 327.85231841329403, 201.0\n",
      "p5 / p95: 67.0, 692.0\n",
      "\n",
      "#### Distribución de num_assistant_tokens_por_ejemplo:\n",
      "min / max: 6, 3985\n",
      "media / mediana: 271.28276601447334, 147.0\n",
      "p5 / p95: 24.0, 621.8000000000011\n",
      "\n",
      "0 ejemplos que excedan el límite de tokenes de 4096, ellos serán truncados durante el fine-tuning\n"
     ]
    }
   ],
   "source": [
    "# Last, we can look at the results of the different formatting operations before proceeding with creating a fine-tuning job:\n",
    "\n",
    "# Warnings and tokens counts\n",
    "n_missing_system = 0\n",
    "n_missing_user = 0\n",
    "n_messages = []\n",
    "convo_lens = []\n",
    "assistant_message_lens = []\n",
    "\n",
    "for ex in dataset:\n",
    "    messages = ex[\"messages\"]\n",
    "    if not any(message[\"role\"] == \"system\" for message in messages):\n",
    "        n_missing_system += 1\n",
    "    if not any(message[\"role\"] == \"user\" for message in messages):\n",
    "        n_missing_user += 1\n",
    "    n_messages.append(len(messages))\n",
    "    convo_lens.append(num_tokens_from_messages(messages))\n",
    "    assistant_message_lens.append(num_assistant_tokens_from_messages(messages))\n",
    "\n",
    "print(\"Num de ejemplos sin el system message:\", n_missing_system)\n",
    "print(\"Num de ejemplos sin el user message:\", n_missing_user)\n",
    "print_distribution(n_messages, \"num_mensajes_por_ejemplo\")\n",
    "print_distribution(convo_lens, \"num_total_tokens_por_ejemplo\")\n",
    "print_distribution(assistant_message_lens, \"num_assistant_tokens_por_ejemplo\")\n",
    "n_too_long = sum(l > 4096 for l in convo_lens)\n",
    "print(f\"\\n{n_too_long} ejemplos que excedan el límite de tokenes de 4096, ellos serán truncados durante el fine-tuning\")\n"
   ]
  },
  {
   "cell_type": "code",
   "execution_count": 13,
   "metadata": {},
   "outputs": [
    {
     "name": "stdout",
     "output_type": "stream",
     "text": [
      "El conjunto de datos tiene ~3669651 tokens que serán cargados durante el entrenamiento\n",
      "Por defecto, entrenarás para 2 epochs en este conjunto de datos\n",
      "Por defecto, serás cargado con ~7339302 tokens\n",
      "Revisa la página para estimar el costo total\n"
     ]
    }
   ],
   "source": [
    "# Pricing and default n_epochs estimate\n",
    "MAX_TOKENS_PER_EXAMPLE = 4096\n",
    "\n",
    "MIN_TARGET_EXAMPLES = 100\n",
    "MAX_TARGET_EXAMPLES = 25000\n",
    "TARGET_EPOCHS = 4\n",
    "MIN_EPOCHS = 1\n",
    "MAX_EPOCHS = 25\n",
    "\n",
    "n_epochs = TARGET_EPOCHS\n",
    "n_train_examples = len(dataset)\n",
    "if n_train_examples * TARGET_EPOCHS < MIN_TARGET_EXAMPLES:\n",
    "    n_epochs = min(MAX_EPOCHS, MIN_TARGET_EXAMPLES // n_train_examples)\n",
    "elif n_train_examples * TARGET_EPOCHS > MAX_TARGET_EXAMPLES:\n",
    "    n_epochs = max(MIN_EPOCHS, MAX_TARGET_EXAMPLES // n_train_examples)\n",
    "\n",
    "n_billing_tokens_in_dataset = sum(min(MAX_TOKENS_PER_EXAMPLE, length) for length in convo_lens)\n",
    "print(f\"El conjunto de datos tiene ~{n_billing_tokens_in_dataset} tokens que serán cargados durante el entrenamiento\")\n",
    "print(f\"Por defecto, entrenarás para {n_epochs} epochs en este conjunto de datos\")\n",
    "print(f\"Por defecto, serás cargado con ~{n_epochs * n_billing_tokens_in_dataset} tokens\")\n",
    "print(\"Revisa la página para estimar el costo total\")"
   ]
  },
  {
   "cell_type": "markdown",
   "metadata": {},
   "source": [
    "Como los precios de GPT-3.5-turbo son para entreno 8 USD$ por cada millón de tokens:"
   ]
  },
  {
   "cell_type": "code",
   "execution_count": 14,
   "metadata": {},
   "outputs": [
    {
     "name": "stdout",
     "output_type": "stream",
     "text": [
      "Estimado de costo: 58.714416$\n"
     ]
    }
   ],
   "source": [
    "precio_por_token = 8/1e6\n",
    "print(f\"Estimado de costo: {n_epochs * n_billing_tokens_in_dataset * precio_por_token}$\")"
   ]
  },
  {
   "cell_type": "markdown",
   "metadata": {},
   "source": [
    "## Guardar datos formateados"
   ]
  },
  {
   "cell_type": "code",
   "execution_count": 16,
   "metadata": {},
   "outputs": [],
   "source": [
    "def save_to_jsonl(dataset, file_path):\n",
    "    with open(file_path, 'w') as file:\n",
    "        for ejemplo in dataset:\n",
    "            json_line = json.dumps(ejemplo, ensure_ascii=False)\n",
    "            file.write(json_line + '\\n')"
   ]
  },
  {
   "cell_type": "code",
   "execution_count": 17,
   "metadata": {},
   "outputs": [],
   "source": [
    "# Guardar train full\n",
    "save_to_jsonl(dataset, 'Modelos/archivos_jsonl/prompts_example.jsonl')"
   ]
  },
  {
   "cell_type": "markdown",
   "metadata": {},
   "source": [
    "# Cargar datos a API de Open AI"
   ]
  },
  {
   "cell_type": "code",
   "execution_count": 25,
   "metadata": {},
   "outputs": [],
   "source": [
    "# client = OpenAI(api_key='...')\n",
    "\n",
    "# client.files.create(\n",
    "#     file=open(\"Modelos/archivos_jsonl/prompts_example.jsonl\", \"rb\"),\n",
    "#     purpose=\"fine-tune\"\n",
    "# )"
   ]
  },
  {
   "cell_type": "markdown",
   "metadata": {},
   "source": [
    "# Comenzar proceso de Fine Tuning"
   ]
  },
  {
   "cell_type": "markdown",
   "metadata": {},
   "source": [
    "Esto se ha realizado en la web de Open AI."
   ]
  },
  {
   "cell_type": "markdown",
   "metadata": {},
   "source": []
  }
 ],
 "metadata": {
  "kernelspec": {
   "display_name": "Python 3",
   "language": "python",
   "name": "python3"
  },
  "language_info": {
   "codemirror_mode": {
    "name": "ipython",
    "version": 3
   },
   "file_extension": ".py",
   "mimetype": "text/x-python",
   "name": "python",
   "nbconvert_exporter": "python",
   "pygments_lexer": "ipython3",
   "version": "3.11.1"
  }
 },
 "nbformat": 4,
 "nbformat_minor": 2
}
