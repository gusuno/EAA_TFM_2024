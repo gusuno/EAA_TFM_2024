{
 "cells": [
  {
   "cell_type": "markdown",
   "metadata": {},
   "source": [
    "# EDA + Evolución del lenguaje personajes EDA\n",
    "\n",
    "Para determinar los personajes principales, como es lógico, hay que determinar la cantidad de palabras que usan los personajes en general, y de ahí al contar estimaré que los que más palabras han dicho, son los personajes principales."
   ]
  },
  {
   "cell_type": "markdown",
   "metadata": {},
   "source": [
    "## Librerías a utilizar:"
   ]
  },
  {
   "cell_type": "markdown",
   "metadata": {},
   "source": [
    "### Generales"
   ]
  },
  {
   "cell_type": "code",
   "execution_count": 31,
   "metadata": {},
   "outputs": [],
   "source": [
    "import numpy as np\n",
    "import pandas as pd\n",
    "import matplotlib.pyplot as plt"
   ]
  },
  {
   "cell_type": "markdown",
   "metadata": {},
   "source": [
    "## Carga Datos"
   ]
  },
  {
   "cell_type": "code",
   "execution_count": 32,
   "metadata": {},
   "outputs": [
    {
     "data": {
      "text/html": [
       "<div>\n",
       "<style scoped>\n",
       "    .dataframe tbody tr th:only-of-type {\n",
       "        vertical-align: middle;\n",
       "    }\n",
       "\n",
       "    .dataframe tbody tr th {\n",
       "        vertical-align: top;\n",
       "    }\n",
       "\n",
       "    .dataframe thead th {\n",
       "        text-align: right;\n",
       "    }\n",
       "</style>\n",
       "<table border=\"1\" class=\"dataframe\">\n",
       "  <thead>\n",
       "    <tr style=\"text-align: right;\">\n",
       "      <th></th>\n",
       "      <th>id</th>\n",
       "      <th>image_url</th>\n",
       "      <th>imdb_rating</th>\n",
       "      <th>imdb_votes</th>\n",
       "      <th>number_in_season</th>\n",
       "      <th>number_in_series</th>\n",
       "      <th>original_air_date</th>\n",
       "      <th>original_air_year</th>\n",
       "      <th>production_code</th>\n",
       "      <th>season</th>\n",
       "      <th>title</th>\n",
       "      <th>us_viewers_in_millions</th>\n",
       "      <th>video_url</th>\n",
       "      <th>views</th>\n",
       "    </tr>\n",
       "  </thead>\n",
       "  <tbody>\n",
       "    <tr>\n",
       "      <th>206</th>\n",
       "      <td>543</td>\n",
       "      <td>http://static-media.fxx.com/img/FX_Networks_-_...</td>\n",
       "      <td>6.7</td>\n",
       "      <td>468.0</td>\n",
       "      <td>13</td>\n",
       "      <td>543</td>\n",
       "      <td>2014-03-09</td>\n",
       "      <td>2014</td>\n",
       "      <td>SABF07</td>\n",
       "      <td>25</td>\n",
       "      <td>The Man Who Grew Too Much</td>\n",
       "      <td>3.75</td>\n",
       "      <td>http://www.simpsonsworld.com/video/307207235909</td>\n",
       "      <td>44512.0</td>\n",
       "    </tr>\n",
       "  </tbody>\n",
       "</table>\n",
       "</div>"
      ],
      "text/plain": [
       "      id                                          image_url  imdb_rating  \\\n",
       "206  543  http://static-media.fxx.com/img/FX_Networks_-_...          6.7   \n",
       "\n",
       "     imdb_votes  number_in_season  number_in_series original_air_date  \\\n",
       "206       468.0                13               543        2014-03-09   \n",
       "\n",
       "     original_air_year production_code  season                      title  \\\n",
       "206               2014          SABF07      25  The Man Who Grew Too Much   \n",
       "\n",
       "     us_viewers_in_millions                                        video_url  \\\n",
       "206                    3.75  http://www.simpsonsworld.com/video/307207235909   \n",
       "\n",
       "       views  \n",
       "206  44512.0  "
      ]
     },
     "execution_count": 32,
     "metadata": {},
     "output_type": "execute_result"
    }
   ],
   "source": [
    "df_ep = pd.read_csv('The Saimpsons Archive/OG/simpsons_episodes.csv')\n",
    "df_ep.sample()"
   ]
  },
  {
   "cell_type": "code",
   "execution_count": 33,
   "metadata": {},
   "outputs": [
    {
     "data": {
      "text/plain": [
       "id                          int64\n",
       "image_url                  object\n",
       "imdb_rating               float64\n",
       "imdb_votes                float64\n",
       "number_in_season            int64\n",
       "number_in_series            int64\n",
       "original_air_date          object\n",
       "original_air_year           int64\n",
       "production_code            object\n",
       "season                      int64\n",
       "title                      object\n",
       "us_viewers_in_millions    float64\n",
       "video_url                  object\n",
       "views                     float64\n",
       "dtype: object"
      ]
     },
     "execution_count": 33,
     "metadata": {},
     "output_type": "execute_result"
    }
   ],
   "source": [
    "df_ep.dtypes"
   ]
  },
  {
   "cell_type": "code",
   "execution_count": 34,
   "metadata": {},
   "outputs": [
    {
     "data": {
      "text/html": [
       "<div>\n",
       "<style scoped>\n",
       "    .dataframe tbody tr th:only-of-type {\n",
       "        vertical-align: middle;\n",
       "    }\n",
       "\n",
       "    .dataframe tbody tr th {\n",
       "        vertical-align: top;\n",
       "    }\n",
       "\n",
       "    .dataframe thead th {\n",
       "        text-align: right;\n",
       "    }\n",
       "</style>\n",
       "<table border=\"1\" class=\"dataframe\">\n",
       "  <thead>\n",
       "    <tr style=\"text-align: right;\">\n",
       "      <th></th>\n",
       "      <th>id</th>\n",
       "      <th>name</th>\n",
       "      <th>normalized_name</th>\n",
       "      <th>gender</th>\n",
       "    </tr>\n",
       "  </thead>\n",
       "  <tbody>\n",
       "    <tr>\n",
       "      <th>1146</th>\n",
       "      <td>1174</td>\n",
       "      <td>Admissions Woman</td>\n",
       "      <td>admissions woman</td>\n",
       "      <td>NaN</td>\n",
       "    </tr>\n",
       "  </tbody>\n",
       "</table>\n",
       "</div>"
      ],
      "text/plain": [
       "        id              name   normalized_name gender\n",
       "1146  1174  Admissions Woman  admissions woman    NaN"
      ]
     },
     "execution_count": 34,
     "metadata": {},
     "output_type": "execute_result"
    }
   ],
   "source": [
    "df_char = pd.read_csv('The Saimpsons Archive/OG/simpsons_characters.csv')\n",
    "df_char.sample()"
   ]
  },
  {
   "cell_type": "code",
   "execution_count": 35,
   "metadata": {},
   "outputs": [
    {
     "data": {
      "text/html": [
       "<div>\n",
       "<style scoped>\n",
       "    .dataframe tbody tr th:only-of-type {\n",
       "        vertical-align: middle;\n",
       "    }\n",
       "\n",
       "    .dataframe tbody tr th {\n",
       "        vertical-align: top;\n",
       "    }\n",
       "\n",
       "    .dataframe thead th {\n",
       "        text-align: right;\n",
       "    }\n",
       "</style>\n",
       "<table border=\"1\" class=\"dataframe\">\n",
       "  <thead>\n",
       "    <tr style=\"text-align: right;\">\n",
       "      <th></th>\n",
       "      <th>id</th>\n",
       "      <th>episode_id</th>\n",
       "      <th>number</th>\n",
       "      <th>raw_text</th>\n",
       "      <th>timestamp_in_ms</th>\n",
       "      <th>speaking_line</th>\n",
       "      <th>character_id</th>\n",
       "      <th>location_id</th>\n",
       "      <th>raw_character_text</th>\n",
       "      <th>raw_location_text</th>\n",
       "      <th>spoken_words</th>\n",
       "      <th>normalized_text</th>\n",
       "      <th>word_count</th>\n",
       "    </tr>\n",
       "  </thead>\n",
       "  <tbody>\n",
       "    <tr>\n",
       "      <th>26766</th>\n",
       "      <td>36481</td>\n",
       "      <td>126</td>\n",
       "      <td>289</td>\n",
       "      <td>Moe Szyslak: Well, that does it. That does it!...</td>\n",
       "      <td>1289000</td>\n",
       "      <td>True</td>\n",
       "      <td>17.0</td>\n",
       "      <td>5.0</td>\n",
       "      <td>Moe Szyslak</td>\n",
       "      <td>Simpson Home</td>\n",
       "      <td>Well, that does it. That does it! I'm lookin' ...</td>\n",
       "      <td>well that does it that does it im lookin at hi...</td>\n",
       "      <td>12</td>\n",
       "    </tr>\n",
       "  </tbody>\n",
       "</table>\n",
       "</div>"
      ],
      "text/plain": [
       "          id  episode_id  number  \\\n",
       "26766  36481         126     289   \n",
       "\n",
       "                                                raw_text  timestamp_in_ms  \\\n",
       "26766  Moe Szyslak: Well, that does it. That does it!...          1289000   \n",
       "\n",
       "       speaking_line  character_id  location_id raw_character_text  \\\n",
       "26766           True          17.0          5.0        Moe Szyslak   \n",
       "\n",
       "      raw_location_text                                       spoken_words  \\\n",
       "26766      Simpson Home  Well, that does it. That does it! I'm lookin' ...   \n",
       "\n",
       "                                         normalized_text word_count  \n",
       "26766  well that does it that does it im lookin at hi...         12  "
      ]
     },
     "execution_count": 35,
     "metadata": {},
     "output_type": "execute_result"
    }
   ],
   "source": [
    "df_script = pd.read_csv('The Saimpsons Archive/OG/simpsons_script_lines.csv', skiprows=[142025])\n",
    "df_script.sample()"
   ]
  },
  {
   "cell_type": "code",
   "execution_count": 36,
   "metadata": {},
   "outputs": [
    {
     "data": {
      "text/plain": [
       "id                      int64\n",
       "episode_id              int64\n",
       "number                  int64\n",
       "raw_text               object\n",
       "timestamp_in_ms         int64\n",
       "speaking_line            bool\n",
       "character_id          float64\n",
       "location_id           float64\n",
       "raw_character_text     object\n",
       "raw_location_text      object\n",
       "spoken_words           object\n",
       "normalized_text        object\n",
       "word_count             object\n",
       "dtype: object"
      ]
     },
     "execution_count": 36,
     "metadata": {},
     "output_type": "execute_result"
    }
   ],
   "source": [
    "df_script.dtypes"
   ]
  },
  {
   "cell_type": "markdown",
   "metadata": {},
   "source": [
    "## Limpieza"
   ]
  },
  {
   "cell_type": "markdown",
   "metadata": {},
   "source": [
    "### df_ep"
   ]
  },
  {
   "cell_type": "code",
   "execution_count": 37,
   "metadata": {},
   "outputs": [
    {
     "data": {
      "text/plain": [
       "((600, 14),\n",
       " id                        0\n",
       " image_url                 4\n",
       " imdb_rating               3\n",
       " imdb_votes                3\n",
       " number_in_season          0\n",
       " number_in_series          0\n",
       " original_air_date         0\n",
       " original_air_year         0\n",
       " production_code           0\n",
       " season                    0\n",
       " title                     0\n",
       " us_viewers_in_millions    6\n",
       " video_url                 4\n",
       " views                     4\n",
       " dtype: int64)"
      ]
     },
     "execution_count": 37,
     "metadata": {},
     "output_type": "execute_result"
    }
   ],
   "source": [
    "df_ep.shape, df_ep.isna().sum()"
   ]
  },
  {
   "cell_type": "markdown",
   "metadata": {},
   "source": [
    "Dado que las url de las imágenes y vídeos no funcionan y/o no creo necesitarlas, se dropea la columna."
   ]
  },
  {
   "cell_type": "code",
   "execution_count": 38,
   "metadata": {},
   "outputs": [
    {
     "data": {
      "text/plain": [
       "(600, 12)"
      ]
     },
     "execution_count": 38,
     "metadata": {},
     "output_type": "execute_result"
    }
   ],
   "source": [
    "df_ep.drop(['image_url', 'video_url'], axis=1, inplace=True)\n",
    "df_ep.shape"
   ]
  },
  {
   "cell_type": "markdown",
   "metadata": {},
   "source": [
    "Las demás columnas, como son necesarias, y son pocos NaN, se rellenarán con la mediana de la temporada a la que el capítulo pertenezca."
   ]
  },
  {
   "cell_type": "code",
   "execution_count": 39,
   "metadata": {},
   "outputs": [
    {
     "data": {
      "text/plain": [
       "id                        0\n",
       "imdb_rating               0\n",
       "imdb_votes                0\n",
       "number_in_season          0\n",
       "number_in_series          0\n",
       "original_air_date         0\n",
       "original_air_year         0\n",
       "production_code           0\n",
       "season                    0\n",
       "title                     0\n",
       "us_viewers_in_millions    0\n",
       "views                     0\n",
       "dtype: int64"
      ]
     },
     "execution_count": 39,
     "metadata": {},
     "output_type": "execute_result"
    }
   ],
   "source": [
    "columns_to_fill = ['imdb_rating', 'imdb_votes', 'us_viewers_in_millions', 'views']  # Replace with the column name you want to fill NaN values for\n",
    "\n",
    "for column_to_fill in columns_to_fill:\n",
    "    median_by_group = df_ep.groupby('season')[column_to_fill].transform('median')\n",
    "    df_ep[column_to_fill] = df_ep[column_to_fill].fillna(median_by_group)\n",
    "\n",
    "df_ep.isna().sum()"
   ]
  },
  {
   "cell_type": "code",
   "execution_count": 40,
   "metadata": {},
   "outputs": [
    {
     "data": {
      "text/plain": [
       "id                          int64\n",
       "imdb_rating               float64\n",
       "imdb_votes                float64\n",
       "number_in_season            int64\n",
       "number_in_series            int64\n",
       "original_air_date          object\n",
       "original_air_year           int64\n",
       "production_code            object\n",
       "season                      int64\n",
       "title                      object\n",
       "us_viewers_in_millions    float64\n",
       "views                     float64\n",
       "dtype: object"
      ]
     },
     "execution_count": 40,
     "metadata": {},
     "output_type": "execute_result"
    }
   ],
   "source": [
    "df_ep.dtypes"
   ]
  },
  {
   "cell_type": "markdown",
   "metadata": {},
   "source": [
    "### df_char"
   ]
  },
  {
   "cell_type": "code",
   "execution_count": 41,
   "metadata": {},
   "outputs": [
    {
     "data": {
      "text/plain": [
       "((6722, 4),\n",
       " id                    0\n",
       " name                  0\n",
       " normalized_name       0\n",
       " gender             6399\n",
       " dtype: int64)"
      ]
     },
     "execution_count": 41,
     "metadata": {},
     "output_type": "execute_result"
    }
   ],
   "source": [
    "df_char.shape, df_char.isna().sum()"
   ]
  },
  {
   "cell_type": "code",
   "execution_count": 42,
   "metadata": {},
   "outputs": [
    {
     "data": {
      "text/plain": [
       "id                  int64\n",
       "name               object\n",
       "normalized_name    object\n",
       "gender             object\n",
       "dtype: object"
      ]
     },
     "execution_count": 42,
     "metadata": {},
     "output_type": "execute_result"
    }
   ],
   "source": [
    "df_char.dtypes"
   ]
  },
  {
   "cell_type": "markdown",
   "metadata": {},
   "source": [
    "### df_script"
   ]
  },
  {
   "cell_type": "code",
   "execution_count": 43,
   "metadata": {},
   "outputs": [
    {
     "data": {
      "text/plain": [
       "((158270, 13),\n",
       " id                        0\n",
       " episode_id                0\n",
       " number                    0\n",
       " raw_text                  0\n",
       " timestamp_in_ms           0\n",
       " speaking_line             0\n",
       " character_id          17521\n",
       " location_id             407\n",
       " raw_character_text    17521\n",
       " raw_location_text       407\n",
       " spoken_words          26158\n",
       " normalized_text       26183\n",
       " word_count            26158\n",
       " dtype: int64)"
      ]
     },
     "execution_count": 43,
     "metadata": {},
     "output_type": "execute_result"
    }
   ],
   "source": [
    "df_script.shape, df_script.isna().sum()"
   ]
  },
  {
   "cell_type": "code",
   "execution_count": 44,
   "metadata": {},
   "outputs": [
    {
     "data": {
      "text/plain": [
       "26158"
      ]
     },
     "execution_count": 44,
     "metadata": {},
     "output_type": "execute_result"
    }
   ],
   "source": [
    "df_script[df_script['speaking_line']==False].count().iloc[0]"
   ]
  },
  {
   "cell_type": "markdown",
   "metadata": {},
   "source": [
    "Esto nos confirma que hay tantos espacios vacíos en spoken_words como false en speaking_line, lo cual tiene todo el sentido del mundo.\n",
    "\n",
    "Por otro lado, las filas que no tienen ni personajes ni lugares, pues no tienen ese valor. Lo que hace muy complicado cambiar el tipo a int, cuando es necesario, así que no se hará, de momento no parece necesario."
   ]
  },
  {
   "cell_type": "markdown",
   "metadata": {},
   "source": [
    "## EDA"
   ]
  },
  {
   "cell_type": "markdown",
   "metadata": {},
   "source": [
    "### ¿Cuántas temporadas tiene?"
   ]
  },
  {
   "cell_type": "code",
   "execution_count": 45,
   "metadata": {},
   "outputs": [
    {
     "data": {
      "text/plain": [
       "original_air_year    2016\n",
       "season                 28\n",
       "Name: 234, dtype: int64"
      ]
     },
     "execution_count": 45,
     "metadata": {},
     "output_type": "execute_result"
    }
   ],
   "source": [
    "df_ep[df_ep['season']==max(df_ep['season'])][['original_air_year','season']].iloc[0]"
   ]
  },
  {
   "cell_type": "code",
   "execution_count": 46,
   "metadata": {},
   "outputs": [
    {
     "data": {
      "text/plain": [
       "(600, 12)"
      ]
     },
     "execution_count": 46,
     "metadata": {},
     "output_type": "execute_result"
    }
   ],
   "source": [
    "df_ep.shape"
   ]
  },
  {
   "cell_type": "code",
   "execution_count": 47,
   "metadata": {},
   "outputs": [
    {
     "name": "stdout",
     "output_type": "stream",
     "text": [
      "El primer capítulo fue emitido en 1989\n",
      "El último capítulo que hay en el dataset fue emitido en 2016\n",
      "Lo que nos dice que tenemos capítulos de Los Simpson producidos a lo largo de 27 años\n"
     ]
    }
   ],
   "source": [
    "ultimo = df_ep[df_ep['original_air_year']==max(df_ep['original_air_year'])]['original_air_year'].iloc[0]\n",
    "primero = df_ep[df_ep['original_air_year']==min(df_ep['original_air_year'])]['original_air_year'].iloc[0]\n",
    "print(f'El primer capítulo fue emitido en {primero}\\nEl último capítulo que hay en el dataset fue emitido en {ultimo}\\nLo que nos dice que tenemos capítulos de Los Simpson producidos a lo largo de {ultimo-primero} años')"
   ]
  },
  {
   "cell_type": "markdown",
   "metadata": {},
   "source": [
    "**Lo que implica que tenemos 28 temporadas de los simpson, con 600 episodios, producidos a lo largo de 27 años**"
   ]
  },
  {
   "cell_type": "markdown",
   "metadata": {},
   "source": [
    "### ¿Cuáles son los personajes que son más principales?"
   ]
  },
  {
   "cell_type": "code",
   "execution_count": 48,
   "metadata": {},
   "outputs": [
    {
     "data": {
      "text/plain": [
       "Index(['id', 'episode_id', 'number', 'raw_text', 'timestamp_in_ms',\n",
       "       'speaking_line', 'character_id', 'location_id', 'raw_character_text',\n",
       "       'raw_location_text', 'spoken_words', 'normalized_text', 'word_count'],\n",
       "      dtype='object')"
      ]
     },
     "execution_count": 48,
     "metadata": {},
     "output_type": "execute_result"
    }
   ],
   "source": [
    "df_script.columns"
   ]
  },
  {
   "cell_type": "code",
   "execution_count": 49,
   "metadata": {},
   "outputs": [
    {
     "data": {
      "text/plain": [
       "((132112, 3),\n",
       " character_id           Int64\n",
       " raw_character_text    object\n",
       " spoken_words          object\n",
       " dtype: object,\n",
       " character_id          2\n",
       " raw_character_text    2\n",
       " spoken_words          0\n",
       " dtype: int64)"
      ]
     },
     "execution_count": 49,
     "metadata": {},
     "output_type": "execute_result"
    }
   ],
   "source": [
    "df_forchar2 = df_script[df_script['speaking_line']==True][['character_id', 'raw_character_text', 'spoken_words']]\n",
    "df_forchar2['character_id'] = pd.to_numeric(df_forchar2['character_id'], errors='coerce').astype('Int64')\n",
    "\n",
    "df_forchar2.shape, df_forchar2.dtypes, df_forchar2.isna().sum()"
   ]
  },
  {
   "cell_type": "code",
   "execution_count": 50,
   "metadata": {},
   "outputs": [
    {
     "data": {
      "text/html": [
       "<div>\n",
       "<style scoped>\n",
       "    .dataframe tbody tr th:only-of-type {\n",
       "        vertical-align: middle;\n",
       "    }\n",
       "\n",
       "    .dataframe tbody tr th {\n",
       "        vertical-align: top;\n",
       "    }\n",
       "\n",
       "    .dataframe thead th {\n",
       "        text-align: right;\n",
       "    }\n",
       "</style>\n",
       "<table border=\"1\" class=\"dataframe\">\n",
       "  <thead>\n",
       "    <tr style=\"text-align: right;\">\n",
       "      <th></th>\n",
       "      <th>character_id</th>\n",
       "      <th>raw_character_text</th>\n",
       "      <th>spoken_words</th>\n",
       "      <th>word_count</th>\n",
       "    </tr>\n",
       "  </thead>\n",
       "  <tbody>\n",
       "    <tr>\n",
       "      <th>108507</th>\n",
       "      <td>2</td>\n",
       "      <td>Homer Simpson</td>\n",
       "      <td>Hmm... that sounds like Tress MacNeille.</td>\n",
       "      <td>6</td>\n",
       "    </tr>\n",
       "    <tr>\n",
       "      <th>126671</th>\n",
       "      <td>9</td>\n",
       "      <td>Lisa Simpson</td>\n",
       "      <td>Yeah, so he could shoot it himself. Franklin R...</td>\n",
       "      <td>19</td>\n",
       "    </tr>\n",
       "    <tr>\n",
       "      <th>55495</th>\n",
       "      <td>2</td>\n",
       "      <td>Homer Simpson</td>\n",
       "      <td>Well, I hope you cut me better than you did th...</td>\n",
       "      <td>25</td>\n",
       "    </tr>\n",
       "  </tbody>\n",
       "</table>\n",
       "</div>"
      ],
      "text/plain": [
       "        character_id raw_character_text  \\\n",
       "108507             2      Homer Simpson   \n",
       "126671             9       Lisa Simpson   \n",
       "55495              2      Homer Simpson   \n",
       "\n",
       "                                             spoken_words  word_count  \n",
       "108507           Hmm... that sounds like Tress MacNeille.           6  \n",
       "126671  Yeah, so he could shoot it himself. Franklin R...          19  \n",
       "55495   Well, I hope you cut me better than you did th...          25  "
      ]
     },
     "execution_count": 50,
     "metadata": {},
     "output_type": "execute_result"
    }
   ],
   "source": [
    "df_forchar2=df_forchar2.dropna()\n",
    "def count_words(text):\n",
    "    return len(text.split())\n",
    "\n",
    "df_forchar2['word_count'] = df_forchar2['spoken_words'].apply(lambda x: count_words(x))\n",
    "df_forchar2.sample(3)"
   ]
  },
  {
   "cell_type": "code",
   "execution_count": 51,
   "metadata": {},
   "outputs": [
    {
     "data": {
      "text/html": [
       "<div>\n",
       "<style scoped>\n",
       "    .dataframe tbody tr th:only-of-type {\n",
       "        vertical-align: middle;\n",
       "    }\n",
       "\n",
       "    .dataframe tbody tr th {\n",
       "        vertical-align: top;\n",
       "    }\n",
       "\n",
       "    .dataframe thead th {\n",
       "        text-align: right;\n",
       "    }\n",
       "</style>\n",
       "<table border=\"1\" class=\"dataframe\">\n",
       "  <thead>\n",
       "    <tr style=\"text-align: right;\">\n",
       "      <th></th>\n",
       "      <th>id</th>\n",
       "      <th>sum_words_said</th>\n",
       "    </tr>\n",
       "  </thead>\n",
       "  <tbody>\n",
       "    <tr>\n",
       "      <th>0</th>\n",
       "      <td>1</td>\n",
       "      <td>125897</td>\n",
       "    </tr>\n",
       "    <tr>\n",
       "      <th>1</th>\n",
       "      <td>2</td>\n",
       "      <td>274656</td>\n",
       "    </tr>\n",
       "    <tr>\n",
       "      <th>2</th>\n",
       "      <td>3</td>\n",
       "      <td>28185</td>\n",
       "    </tr>\n",
       "    <tr>\n",
       "      <th>3</th>\n",
       "      <td>4</td>\n",
       "      <td>335</td>\n",
       "    </tr>\n",
       "    <tr>\n",
       "      <th>4</th>\n",
       "      <td>5</td>\n",
       "      <td>1033</td>\n",
       "    </tr>\n",
       "    <tr>\n",
       "      <th>...</th>\n",
       "      <td>...</td>\n",
       "      <td>...</td>\n",
       "    </tr>\n",
       "    <tr>\n",
       "      <th>6233</th>\n",
       "      <td>6743</td>\n",
       "      <td>26</td>\n",
       "    </tr>\n",
       "    <tr>\n",
       "      <th>6234</th>\n",
       "      <td>6744</td>\n",
       "      <td>68</td>\n",
       "    </tr>\n",
       "    <tr>\n",
       "      <th>6235</th>\n",
       "      <td>6746</td>\n",
       "      <td>18</td>\n",
       "    </tr>\n",
       "    <tr>\n",
       "      <th>6236</th>\n",
       "      <td>6747</td>\n",
       "      <td>25</td>\n",
       "    </tr>\n",
       "    <tr>\n",
       "      <th>6237</th>\n",
       "      <td>6748</td>\n",
       "      <td>33</td>\n",
       "    </tr>\n",
       "  </tbody>\n",
       "</table>\n",
       "<p>6238 rows × 2 columns</p>\n",
       "</div>"
      ],
      "text/plain": [
       "        id  sum_words_said\n",
       "0        1          125897\n",
       "1        2          274656\n",
       "2        3           28185\n",
       "3        4             335\n",
       "4        5            1033\n",
       "...    ...             ...\n",
       "6233  6743              26\n",
       "6234  6744              68\n",
       "6235  6746              18\n",
       "6236  6747              25\n",
       "6237  6748              33\n",
       "\n",
       "[6238 rows x 2 columns]"
      ]
     },
     "execution_count": 51,
     "metadata": {},
     "output_type": "execute_result"
    }
   ],
   "source": [
    "char2 = df_forchar2.groupby('character_id')['word_count'].sum()\n",
    "char2 = char2.reset_index()\n",
    "\n",
    "char2.columns = ['id', 'sum_words_said']\n",
    "\n",
    "char2"
   ]
  },
  {
   "cell_type": "code",
   "execution_count": 52,
   "metadata": {},
   "outputs": [
    {
     "data": {
      "text/plain": [
       "(Index(['id', 'sum_words_said'], dtype='object'),\n",
       " id                Int64\n",
       " sum_words_said    int64\n",
       " dtype: object)"
      ]
     },
     "execution_count": 52,
     "metadata": {},
     "output_type": "execute_result"
    }
   ],
   "source": [
    "char2.columns, char2.dtypes"
   ]
  },
  {
   "cell_type": "code",
   "execution_count": 53,
   "metadata": {},
   "outputs": [
    {
     "data": {
      "text/html": [
       "<div>\n",
       "<style scoped>\n",
       "    .dataframe tbody tr th:only-of-type {\n",
       "        vertical-align: middle;\n",
       "    }\n",
       "\n",
       "    .dataframe tbody tr th {\n",
       "        vertical-align: top;\n",
       "    }\n",
       "\n",
       "    .dataframe thead th {\n",
       "        text-align: right;\n",
       "    }\n",
       "</style>\n",
       "<table border=\"1\" class=\"dataframe\">\n",
       "  <thead>\n",
       "    <tr style=\"text-align: right;\">\n",
       "      <th></th>\n",
       "      <th>id</th>\n",
       "      <th>name</th>\n",
       "      <th>normalized_name</th>\n",
       "      <th>gender</th>\n",
       "      <th>sum_words_said</th>\n",
       "    </tr>\n",
       "  </thead>\n",
       "  <tbody>\n",
       "    <tr>\n",
       "      <th>0</th>\n",
       "      <td>7</td>\n",
       "      <td>Children</td>\n",
       "      <td>children</td>\n",
       "      <td>NaN</td>\n",
       "      <td>65</td>\n",
       "    </tr>\n",
       "    <tr>\n",
       "      <th>1</th>\n",
       "      <td>12</td>\n",
       "      <td>Mechanical Santa</td>\n",
       "      <td>mechanical santa</td>\n",
       "      <td>NaN</td>\n",
       "      <td>37</td>\n",
       "    </tr>\n",
       "    <tr>\n",
       "      <th>2</th>\n",
       "      <td>13</td>\n",
       "      <td>Tattoo Man</td>\n",
       "      <td>tattoo man</td>\n",
       "      <td>NaN</td>\n",
       "      <td>11</td>\n",
       "    </tr>\n",
       "    <tr>\n",
       "      <th>3</th>\n",
       "      <td>16</td>\n",
       "      <td>DOCTOR ZITSOFSKY</td>\n",
       "      <td>doctor zitsofsky</td>\n",
       "      <td>NaN</td>\n",
       "      <td>50</td>\n",
       "    </tr>\n",
       "    <tr>\n",
       "      <th>4</th>\n",
       "      <td>20</td>\n",
       "      <td>Students</td>\n",
       "      <td>students</td>\n",
       "      <td>NaN</td>\n",
       "      <td>33</td>\n",
       "    </tr>\n",
       "    <tr>\n",
       "      <th>...</th>\n",
       "      <td>...</td>\n",
       "      <td>...</td>\n",
       "      <td>...</td>\n",
       "      <td>...</td>\n",
       "      <td>...</td>\n",
       "    </tr>\n",
       "    <tr>\n",
       "      <th>6233</th>\n",
       "      <td>5222</td>\n",
       "      <td>Ron Rabinowitz</td>\n",
       "      <td>ron rabinowitz</td>\n",
       "      <td>m</td>\n",
       "      <td>252</td>\n",
       "    </tr>\n",
       "    <tr>\n",
       "      <th>6234</th>\n",
       "      <td>5728</td>\n",
       "      <td>Martha Stewart</td>\n",
       "      <td>martha stewart</td>\n",
       "      <td>f</td>\n",
       "      <td>251</td>\n",
       "    </tr>\n",
       "    <tr>\n",
       "      <th>6235</th>\n",
       "      <td>1770</td>\n",
       "      <td>Officer Goodman</td>\n",
       "      <td>officer goodman</td>\n",
       "      <td>m</td>\n",
       "      <td>249</td>\n",
       "    </tr>\n",
       "    <tr>\n",
       "      <th>6236</th>\n",
       "      <td>1634</td>\n",
       "      <td>Evan Conover</td>\n",
       "      <td>evan conover</td>\n",
       "      <td>m</td>\n",
       "      <td>234</td>\n",
       "    </tr>\n",
       "    <tr>\n",
       "      <th>6237</th>\n",
       "      <td>1868</td>\n",
       "      <td>Agent Johnson</td>\n",
       "      <td>agent johnson</td>\n",
       "      <td>m</td>\n",
       "      <td>226</td>\n",
       "    </tr>\n",
       "  </tbody>\n",
       "</table>\n",
       "<p>6238 rows × 5 columns</p>\n",
       "</div>"
      ],
      "text/plain": [
       "        id              name   normalized_name gender  sum_words_said\n",
       "0        7          Children          children    NaN              65\n",
       "1       12  Mechanical Santa  mechanical santa    NaN              37\n",
       "2       13        Tattoo Man        tattoo man    NaN              11\n",
       "3       16  DOCTOR ZITSOFSKY  doctor zitsofsky    NaN              50\n",
       "4       20          Students          students    NaN              33\n",
       "...    ...               ...               ...    ...             ...\n",
       "6233  5222    Ron Rabinowitz    ron rabinowitz      m             252\n",
       "6234  5728    Martha Stewart    martha stewart      f             251\n",
       "6235  1770   Officer Goodman   officer goodman      m             249\n",
       "6236  1634      Evan Conover      evan conover      m             234\n",
       "6237  1868     Agent Johnson     agent johnson      m             226\n",
       "\n",
       "[6238 rows x 5 columns]"
      ]
     },
     "execution_count": 53,
     "metadata": {},
     "output_type": "execute_result"
    }
   ],
   "source": [
    "df_char2 = pd.merge(df_char, char2, on='id')\n",
    "df_char2"
   ]
  },
  {
   "cell_type": "code",
   "execution_count": 54,
   "metadata": {},
   "outputs": [
    {
     "data": {
      "text/plain": [
       "id                  int64\n",
       "name               object\n",
       "normalized_name    object\n",
       "gender             object\n",
       "sum_words_said      int64\n",
       "dtype: object"
      ]
     },
     "execution_count": 54,
     "metadata": {},
     "output_type": "execute_result"
    }
   ],
   "source": [
    "df_char2.dtypes"
   ]
  },
  {
   "cell_type": "code",
   "execution_count": 55,
   "metadata": {},
   "outputs": [
    {
     "data": {
      "text/html": [
       "<div>\n",
       "<style scoped>\n",
       "    .dataframe tbody tr th:only-of-type {\n",
       "        vertical-align: middle;\n",
       "    }\n",
       "\n",
       "    .dataframe tbody tr th {\n",
       "        vertical-align: top;\n",
       "    }\n",
       "\n",
       "    .dataframe thead th {\n",
       "        text-align: right;\n",
       "    }\n",
       "</style>\n",
       "<table border=\"1\" class=\"dataframe\">\n",
       "  <thead>\n",
       "    <tr style=\"text-align: right;\">\n",
       "      <th></th>\n",
       "      <th>id</th>\n",
       "      <th>name</th>\n",
       "      <th>normalized_name</th>\n",
       "      <th>gender</th>\n",
       "      <th>sum_words_said</th>\n",
       "      <th>Char_Words_%</th>\n",
       "    </tr>\n",
       "  </thead>\n",
       "  <tbody>\n",
       "    <tr>\n",
       "      <th>0</th>\n",
       "      <td>7</td>\n",
       "      <td>Children</td>\n",
       "      <td>children</td>\n",
       "      <td>NaN</td>\n",
       "      <td>65</td>\n",
       "      <td>0.004956</td>\n",
       "    </tr>\n",
       "    <tr>\n",
       "      <th>1</th>\n",
       "      <td>12</td>\n",
       "      <td>Mechanical Santa</td>\n",
       "      <td>mechanical santa</td>\n",
       "      <td>NaN</td>\n",
       "      <td>37</td>\n",
       "      <td>0.002821</td>\n",
       "    </tr>\n",
       "    <tr>\n",
       "      <th>2</th>\n",
       "      <td>13</td>\n",
       "      <td>Tattoo Man</td>\n",
       "      <td>tattoo man</td>\n",
       "      <td>NaN</td>\n",
       "      <td>11</td>\n",
       "      <td>0.000839</td>\n",
       "    </tr>\n",
       "    <tr>\n",
       "      <th>3</th>\n",
       "      <td>16</td>\n",
       "      <td>DOCTOR ZITSOFSKY</td>\n",
       "      <td>doctor zitsofsky</td>\n",
       "      <td>NaN</td>\n",
       "      <td>50</td>\n",
       "      <td>0.003812</td>\n",
       "    </tr>\n",
       "    <tr>\n",
       "      <th>4</th>\n",
       "      <td>20</td>\n",
       "      <td>Students</td>\n",
       "      <td>students</td>\n",
       "      <td>NaN</td>\n",
       "      <td>33</td>\n",
       "      <td>0.002516</td>\n",
       "    </tr>\n",
       "    <tr>\n",
       "      <th>...</th>\n",
       "      <td>...</td>\n",
       "      <td>...</td>\n",
       "      <td>...</td>\n",
       "      <td>...</td>\n",
       "      <td>...</td>\n",
       "      <td>...</td>\n",
       "    </tr>\n",
       "    <tr>\n",
       "      <th>6233</th>\n",
       "      <td>5222</td>\n",
       "      <td>Ron Rabinowitz</td>\n",
       "      <td>ron rabinowitz</td>\n",
       "      <td>m</td>\n",
       "      <td>252</td>\n",
       "      <td>0.019214</td>\n",
       "    </tr>\n",
       "    <tr>\n",
       "      <th>6234</th>\n",
       "      <td>5728</td>\n",
       "      <td>Martha Stewart</td>\n",
       "      <td>martha stewart</td>\n",
       "      <td>f</td>\n",
       "      <td>251</td>\n",
       "      <td>0.019137</td>\n",
       "    </tr>\n",
       "    <tr>\n",
       "      <th>6235</th>\n",
       "      <td>1770</td>\n",
       "      <td>Officer Goodman</td>\n",
       "      <td>officer goodman</td>\n",
       "      <td>m</td>\n",
       "      <td>249</td>\n",
       "      <td>0.018985</td>\n",
       "    </tr>\n",
       "    <tr>\n",
       "      <th>6236</th>\n",
       "      <td>1634</td>\n",
       "      <td>Evan Conover</td>\n",
       "      <td>evan conover</td>\n",
       "      <td>m</td>\n",
       "      <td>234</td>\n",
       "      <td>0.017841</td>\n",
       "    </tr>\n",
       "    <tr>\n",
       "      <th>6237</th>\n",
       "      <td>1868</td>\n",
       "      <td>Agent Johnson</td>\n",
       "      <td>agent johnson</td>\n",
       "      <td>m</td>\n",
       "      <td>226</td>\n",
       "      <td>0.017231</td>\n",
       "    </tr>\n",
       "  </tbody>\n",
       "</table>\n",
       "<p>6238 rows × 6 columns</p>\n",
       "</div>"
      ],
      "text/plain": [
       "        id              name   normalized_name gender  sum_words_said  \\\n",
       "0        7          Children          children    NaN              65   \n",
       "1       12  Mechanical Santa  mechanical santa    NaN              37   \n",
       "2       13        Tattoo Man        tattoo man    NaN              11   \n",
       "3       16  DOCTOR ZITSOFSKY  doctor zitsofsky    NaN              50   \n",
       "4       20          Students          students    NaN              33   \n",
       "...    ...               ...               ...    ...             ...   \n",
       "6233  5222    Ron Rabinowitz    ron rabinowitz      m             252   \n",
       "6234  5728    Martha Stewart    martha stewart      f             251   \n",
       "6235  1770   Officer Goodman   officer goodman      m             249   \n",
       "6236  1634      Evan Conover      evan conover      m             234   \n",
       "6237  1868     Agent Johnson     agent johnson      m             226   \n",
       "\n",
       "      Char_Words_%  \n",
       "0         0.004956  \n",
       "1         0.002821  \n",
       "2         0.000839  \n",
       "3         0.003812  \n",
       "4         0.002516  \n",
       "...            ...  \n",
       "6233      0.019214  \n",
       "6234      0.019137  \n",
       "6235      0.018985  \n",
       "6236      0.017841  \n",
       "6237      0.017231  \n",
       "\n",
       "[6238 rows x 6 columns]"
      ]
     },
     "execution_count": 55,
     "metadata": {},
     "output_type": "execute_result"
    }
   ],
   "source": [
    "df_char2['Char_Words_%'] = 100*df_char2['sum_words_said']/(df_char2['sum_words_said'].sum())\n",
    "df_char2"
   ]
  },
  {
   "cell_type": "code",
   "execution_count": 56,
   "metadata": {},
   "outputs": [
    {
     "data": {
      "image/png": "[encoded data removed]",
      "text/plain": [
       "<Figure size 640x480 with 1 Axes>"
      ]
     },
     "metadata": {},
     "output_type": "display_data"
    }
   ],
   "source": [
    "to_plot = df_char2.sort_values('sum_words_said', ascending=False).head(10)\n",
    "to_plot.sort_values('sum_words_said', ascending=True).plot(kind='barh', x='name', y='Char_Words_%', color='tab:blue')\n",
    "plt.ylabel('Top 10 personajes más importantes')\n",
    "plt.xlabel('Porcentaje de palabras por personaje')\n",
    "plt.show()"
   ]
  },
  {
   "cell_type": "markdown",
   "metadata": {},
   "source": [
    "**De esto sacamos que Homer acapara más del 20% de todas las palabras dichas en Los Simpson, y que el resto de la familia (a excepción de Maggie) está en torno al 10%. Sería interesante ver cómo evoluciona esto a lo largo de las temporadas, pero por ahora no lo voy a hacer.**"
   ]
  },
  {
   "cell_type": "markdown",
   "metadata": {},
   "source": [
    "## Guardado de CSVs nuevos\n",
    "Como ya hemos sacado la info que necesitaba para "
   ]
  },
  {
   "cell_type": "code",
   "execution_count": 57,
   "metadata": {},
   "outputs": [
    {
     "data": {
      "text/plain": [
       "(id                          int64\n",
       " imdb_rating               float64\n",
       " imdb_votes                float64\n",
       " number_in_season            int64\n",
       " number_in_series            int64\n",
       " original_air_date          object\n",
       " original_air_year           int64\n",
       " production_code            object\n",
       " season                      int64\n",
       " title                      object\n",
       " us_viewers_in_millions    float64\n",
       " views                     float64\n",
       " dtype: object,\n",
       " (600, 12))"
      ]
     },
     "execution_count": 57,
     "metadata": {},
     "output_type": "execute_result"
    }
   ],
   "source": [
    "df_ep.dtypes, df_ep.shape"
   ]
  },
  {
   "cell_type": "code",
   "execution_count": 58,
   "metadata": {},
   "outputs": [
    {
     "data": {
      "text/plain": [
       "(id                                 int64\n",
       " imdb_rating                      float64\n",
       " imdb_votes                       float64\n",
       " number_in_season                   int64\n",
       " number_in_series                   int64\n",
       " original_air_date         datetime64[ns]\n",
       " original_air_year                  int64\n",
       " production_code                   object\n",
       " season                             int64\n",
       " title                             object\n",
       " us_viewers_in_millions           float64\n",
       " views                            float64\n",
       " dtype: object,\n",
       " (600, 12))"
      ]
     },
     "execution_count": 58,
     "metadata": {},
     "output_type": "execute_result"
    }
   ],
   "source": [
    "df_ep['original_air_date'] = pd.to_datetime(df_ep['original_air_date'], errors='coerce')\n",
    "df_ep.dtypes, df_ep.shape"
   ]
  },
  {
   "cell_type": "code",
   "execution_count": 59,
   "metadata": {},
   "outputs": [],
   "source": [
    "# df_ep.to_csv('The Saimpsons Archive/in_use/simpsons_episodes.csv', index=False)"
   ]
  },
  {
   "cell_type": "code",
   "execution_count": 60,
   "metadata": {},
   "outputs": [
    {
     "data": {
      "text/plain": [
       "id                  int64\n",
       "name               object\n",
       "normalized_name    object\n",
       "gender             object\n",
       "dtype: object"
      ]
     },
     "execution_count": 60,
     "metadata": {},
     "output_type": "execute_result"
    }
   ],
   "source": [
    "df_char.dtypes"
   ]
  },
  {
   "cell_type": "code",
   "execution_count": 61,
   "metadata": {},
   "outputs": [],
   "source": [
    "# df_char.to_csv('The Saimpsons Archive/in_use/simpsons_characters.csv', index=False)"
   ]
  },
  {
   "cell_type": "code",
   "execution_count": 62,
   "metadata": {},
   "outputs": [
    {
     "data": {
      "text/plain": [
       "(id                        0\n",
       " episode_id                0\n",
       " number                    0\n",
       " raw_text                  0\n",
       " timestamp_in_ms           0\n",
       " speaking_line             0\n",
       " character_id          17521\n",
       " location_id             407\n",
       " raw_character_text    17521\n",
       " raw_location_text       407\n",
       " spoken_words          26158\n",
       " normalized_text       26183\n",
       " word_count            26158\n",
       " dtype: int64,\n",
       " id                      int64\n",
       " episode_id              int64\n",
       " number                  int64\n",
       " raw_text               object\n",
       " timestamp_in_ms         int64\n",
       " speaking_line            bool\n",
       " character_id          float64\n",
       " location_id           float64\n",
       " raw_character_text     object\n",
       " raw_location_text      object\n",
       " spoken_words           object\n",
       " normalized_text        object\n",
       " word_count             object\n",
       " dtype: object)"
      ]
     },
     "execution_count": 62,
     "metadata": {},
     "output_type": "execute_result"
    }
   ],
   "source": [
    "df_script.isna().sum(), df_script.dtypes"
   ]
  },
  {
   "cell_type": "markdown",
   "metadata": {},
   "source": [
    "para este caso necesito cambiar el word_count a int, dado que tiene NaNs y por eso no deja cambiar a int o a numérico, se van a insertar como 0, todos los NaNs, ya que el numero de NaNs coincide con el número de filas en las que speaking_line == False, es decir, no hay palabras dichas que contar."
   ]
  },
  {
   "cell_type": "code",
   "execution_count": 63,
   "metadata": {},
   "outputs": [
    {
     "data": {
      "text/plain": [
       "(0, (158270, 13))"
      ]
     },
     "execution_count": 63,
     "metadata": {},
     "output_type": "execute_result"
    }
   ],
   "source": [
    "df_script['word_count'] = df_script['word_count'].fillna(0)\n",
    "df_script['word_count'].isna().sum(), df_script.shape"
   ]
  },
  {
   "cell_type": "code",
   "execution_count": 64,
   "metadata": {},
   "outputs": [
    {
     "data": {
      "text/plain": [
       "(id                      int64\n",
       " episode_id              int64\n",
       " number                  int64\n",
       " raw_text               object\n",
       " timestamp_in_ms         int64\n",
       " speaking_line            bool\n",
       " character_id          float64\n",
       " location_id           float64\n",
       " raw_character_text     object\n",
       " raw_location_text      object\n",
       " spoken_words           object\n",
       " normalized_text        object\n",
       " word_count            float64\n",
       " dtype: object,\n",
       " (158270, 13))"
      ]
     },
     "execution_count": 64,
     "metadata": {},
     "output_type": "execute_result"
    }
   ],
   "source": [
    "df_script['word_count'] = pd.to_numeric(df_script['word_count'], errors='coerce')\n",
    "df_script.dtypes, df_script.shape"
   ]
  },
  {
   "cell_type": "code",
   "execution_count": 65,
   "metadata": {},
   "outputs": [],
   "source": [
    "# df_script.to_csv('The Saimpsons Archive/in_use/simpsons_script_lines.csv', index=False)"
   ]
  },
  {
   "cell_type": "code",
   "execution_count": 66,
   "metadata": {},
   "outputs": [
    {
     "data": {
      "text/plain": [
       "raw_character_text    Homer Simpson\n",
       "character_id                    2.0\n",
       "Name: 57, dtype: object"
      ]
     },
     "execution_count": 66,
     "metadata": {},
     "output_type": "execute_result"
    }
   ],
   "source": [
    "df_script[df_script['raw_character_text']== 'Homer Simpson'][['raw_character_text','character_id']].iloc[0]"
   ]
  },
  {
   "cell_type": "code",
   "execution_count": null,
   "metadata": {},
   "outputs": [],
   "source": []
  }
 ],
 "metadata": {
  "kernelspec": {
   "display_name": "Python 3",
   "language": "python",
   "name": "python3"
  },
  "language_info": {
   "codemirror_mode": {
    "name": "ipython",
    "version": 3
   },
   "file_extension": ".py",
   "mimetype": "text/x-python",
   "name": "python",
   "nbconvert_exporter": "python",
   "pygments_lexer": "ipython3",
   "version": "3.11.1"
  }
 },
 "nbformat": 4,
 "nbformat_minor": 2
}
