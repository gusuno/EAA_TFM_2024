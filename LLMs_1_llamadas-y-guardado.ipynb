{
 "cells": [
  {
   "cell_type": "markdown",
   "metadata": {},
   "source": [
    "# Llamadas a LLMs para crear escenas de los Simpson\n",
    "Aquí se realizarán las llamadas, en principio tanto al modelo fine tuneado de GPT-3.5-turbo-0125 como al modelo base, para comparar.\n",
    "\n",
    "Si el modelo base no devuelve, mediante el uso de prompts, escenas de los Simpson. O el formato varía cada vez. Se realizarán las llamadas directamente desde la web para agilizar."
   ]
  },
  {
   "cell_type": "markdown",
   "metadata": {},
   "source": [
    "## Librerías"
   ]
  },
  {
   "cell_type": "code",
   "execution_count": 1,
   "metadata": {},
   "outputs": [],
   "source": [
    "import numpy\n",
    "import pandas as pd\n",
    "import openai\n",
    "from openai import OpenAI\n",
    "from langchain.chat_models import ChatOpenAI\n",
    "from langchain.schema import HumanMessage, SystemMessage"
   ]
  },
  {
   "cell_type": "markdown",
   "metadata": {},
   "source": [
    "# Llamadas al modelo fine tuneado de los Simpson"
   ]
  },
  {
   "cell_type": "code",
   "execution_count": 19,
   "metadata": {},
   "outputs": [],
   "source": [
    "model_name_1ft = \"ft:gpt-3.5-turbo-0125:personal:my-simpsons-show:9NgQPDpW\"\n",
    "model_name_0ft = \"gpt-3.5-turbo-0125\"\n",
    "\n",
    "system_message = \"You are a skilled scriptwriter for TV shows, much like The Simpsons.\"\n",
    "\n",
    "chat_1ft = ChatOpenAI(model=model_name_1ft, temperature=0.8, openai_api_key='...')\n",
    "chat_0ft = ChatOpenAI(model=model_name_0ft, temperature= 0.8, openai_api_key='...')"
   ]
  },
  {
   "cell_type": "markdown",
   "metadata": {},
   "source": [
    "\n",
    "if not characters and not location:\n",
    "\n",
    "    pregunta = \"Generate a scene.\"\n",
    "\n",
    "elif not characters:\n",
    "\n",
    "    pregunta = f\"Generate a scene in {separador_loc.join(location)}.\"\n",
    "\n",
    "elif not location:\n",
    "\n",
    "    pregunta = f\"Generate a scene with the characters: {separador_char.join(characters)}.\"\n",
    "\n",
    "else:\n",
    "\n",
    "    pregunta = f\"Generate a scene in {separador_loc.join(location)} with the characters: {separador_char.join(characters)}.\""
   ]
  },
  {
   "cell_type": "markdown",
   "metadata": {},
   "source": [
    "Como se puede ver, hay 4 posibles prompts en el fine tuneado, por lo que, se va a escoger:\n",
    "- 2 de not characters not location.\n",
    "- 2 not characters\n",
    "- 3 not location\n",
    "- 3 yes location + characters"
   ]
  },
  {
   "cell_type": "markdown",
   "metadata": {},
   "source": [
    "Así hay más posibilidades de que aparezcan personajes menos comunes, porque los que yo voy a poner son de la familia Simpson, o si acaso de Burns, Moe, Flanders o algo así."
   ]
  },
  {
   "cell_type": "markdown",
   "metadata": {},
   "source": [
    "## Sin especificar ni lugar ni personajes:"
   ]
  },
  {
   "cell_type": "code",
   "execution_count": 26,
   "metadata": {},
   "outputs": [
    {
     "name": "stdout",
     "output_type": "stream",
     "text": [
      "(The Simpsons: Ext. Moe's - Later - establishing)\n"
     ]
    }
   ],
   "source": [
    "messages = [\n",
    "    SystemMessage(content=system_message),\n",
    "    HumanMessage(content=\"Generate a scene.\")\n",
    "]\n",
    "\n",
    "response_1 = chat_1ft(messages)\n",
    "print(response_1.content)"
   ]
  },
  {
   "cell_type": "markdown",
   "metadata": {},
   "source": [
    "Solo ha dado el lugar, no ha puesto ni personajes ni nada? se vuelve a intentar. Se vuelve a intentar con temperature = 0.8"
   ]
  },
  {
   "cell_type": "code",
   "execution_count": 8,
   "metadata": {},
   "outputs": [
    {
     "name": "stdout",
     "output_type": "stream",
     "text": [
      "(The Simpsons: ext. simpsons' house - morning - establishing) (The Simpsons: INT. SIMPSONS' HOUSE - HALLWAY - CONTINUOUS) Marge, this morning I saw a child who was kind of sickly looking, and I'm worried that it might be Bart. (The Simpsons: INT. SIMPSONS' HOUSE - kitchen - day) Marge, the kids are finally asleep. I told 'em a story about a horse and a monkey and they went right out. (FEELING HIS PANTS) Oh, no. (STANDS UP) I'm wearing kid pants. (The Simpsons: INT. SIMPSONS' HOUSE - KITCHEN - DAY) Marge, you've gotta help me. They're just like the monsters under my bed when I was little. Except they're real.\n"
     ]
    }
   ],
   "source": [
    "messages = [\n",
    "    SystemMessage(content=system_message),\n",
    "    HumanMessage(content=\"Generate a scene.\")\n",
    "]\n",
    "\n",
    "response_2 = chat_1ft(messages)\n",
    "print(response_2.content)"
   ]
  },
  {
   "cell_type": "markdown",
   "metadata": {},
   "source": [
    "Esta ha salido mejor, pero por alguna razón el formato de los diálogos no especifíca que el que lo dice es Homer Simpson, aunque sea evidente que es el."
   ]
  },
  {
   "cell_type": "code",
   "execution_count": 27,
   "metadata": {},
   "outputs": [
    {
     "name": "stdout",
     "output_type": "stream",
     "text": [
      "(SQUEALS) (THE SIMPSONS - COUCH GAG THEME)\n"
     ]
    }
   ],
   "source": [
    "messages = [\n",
    "    SystemMessage(content=system_message),\n",
    "    HumanMessage(content=\"Generate a scene.\")\n",
    "]\n",
    "\n",
    "response_3 = chat_1ft(messages)\n",
    "print(response_3.content)"
   ]
  },
  {
   "cell_type": "markdown",
   "metadata": {},
   "source": [
    "Esta ha salido también sin nada, en el primer intento, se vuelve a intentar, en el segundo intento también ha salido sin nada, solo especifica el lugar.\n",
    "\n",
    "Se deja de lado y se pasa hacer 3, 3 y 3 de los otros tipos."
   ]
  },
  {
   "cell_type": "markdown",
   "metadata": {},
   "source": [
    "## Sin especificar personajes"
   ]
  },
  {
   "cell_type": "code",
   "execution_count": 28,
   "metadata": {},
   "outputs": [
    {
     "name": "stdout",
     "output_type": "stream",
     "text": [
      "(Springfield Elementary School: Ext. Springfield elementary - moments later)\n"
     ]
    }
   ],
   "source": [
    "messages = [\n",
    "    SystemMessage(content=system_message),\n",
    "    HumanMessage(content=\"Generate a scene in Springfield Elementary School.\")\n",
    "]\n",
    "\n",
    "response_4 = chat_1ft(messages)\n",
    "print(response_4.content)"
   ]
  },
  {
   "cell_type": "markdown",
   "metadata": {},
   "source": [
    "En este caso tampoco sale nada de dialogo, es posible que al ser minoritarias, en el fine tuneo del gpt haya aprendido que si no se especifica nada, o si solo se especifica el lugar, no hay diálogo.\n",
    "\n",
    "Esto ha sido un fallo a la hora de hacer los ejemplos para el fine tuning."
   ]
  },
  {
   "cell_type": "code",
   "execution_count": 29,
   "metadata": {},
   "outputs": [
    {
     "name": "stdout",
     "output_type": "stream",
     "text": [
      "(Apartment Building: Int. apartment building - super's apartment - a little later)\n"
     ]
    }
   ],
   "source": [
    "messages = [\n",
    "    SystemMessage(content=system_message),\n",
    "    HumanMessage(content=\"Generate a scene in Apartment Building.\")\n",
    "]\n",
    "\n",
    "response_5 = chat_1ft(messages)\n",
    "print(response_5.content)"
   ]
  },
  {
   "cell_type": "markdown",
   "metadata": {},
   "source": [
    "Efectivamente, no sale nada de texto, debe de ser un problema como he dicho de los ejemplos."
   ]
  },
  {
   "cell_type": "markdown",
   "metadata": {},
   "source": [
    "## Sin especificar lugar"
   ]
  },
  {
   "cell_type": "code",
   "execution_count": 14,
   "metadata": {},
   "outputs": [
    {
     "name": "stdout",
     "output_type": "stream",
     "text": [
      "(Homer Simpson: AD LIB OF \"YEAH\" WITH A MOUTHFUL OF CHICKEN) (Homer Simpson: RE: BART'S EATING) Bart Simpson: Is there no place on this Earth for a kid who's not a screw-up?\n"
     ]
    }
   ],
   "source": [
    "messages = [\n",
    "    SystemMessage(content=system_message),\n",
    "    HumanMessage(content=\"Generate a scene with the characters: Homer Simpson, Bart Simpson.\")\n",
    "]\n",
    "\n",
    "response_6 = chat_1ft(messages)\n",
    "print(response_6.content)"
   ]
  },
  {
   "cell_type": "markdown",
   "metadata": {},
   "source": [
    "Si que pone texto en esta, y con buen formato, pero solo una línea de diálogo."
   ]
  },
  {
   "cell_type": "code",
   "execution_count": 15,
   "metadata": {},
   "outputs": [
    {
     "name": "stdout",
     "output_type": "stream",
     "text": [
      "(Bart Simpson: SINCERE) I'm glad you're back, Milhouse. I really missed you. (Milhouse Van Houten: MOVING HIS HEAD) But I'm still mad. (Bart Simpson: GENUINE) And I'm sorry I tore up your picture. (Bart Simpson: SAD) It was a good one. (Milhouse Van Houten: AFTER A BEAT) I know you're sorry, Bart. And I forgive you. (Bart Simpson: HOPEFUL) Can we be friends again? (Milhouse Van Houten: FRIENDLY) I think we can. (Bart Simpson: WHISPERING) Now let's get out of here before they start doing that \"Jewish stuff.\" Lisa Simpson: (TO HERSELF) That's so beautiful. Milhouse forgave him. (BEAT, SAD) Why can't I forgive them? (TO MIKE, SADLY) I forgive you. (TO RICHARD, SADLY) I forgive you. (TO JIMMY, SADLY) I forgive you. (ETC.) Milhouse Van Houten: (TO BART) Are you thinking what I'm thinking? (Bart Simpson: EAGER) You bet. Lisa Simpson: (SOBS) Bart Simpson: (SIMULTANEOUSLY, TO MILHOUSE) I bet we could take 'em. Milhouse Van Houten: At the same time!\n"
     ]
    }
   ],
   "source": [
    "messages = [\n",
    "    SystemMessage(content=system_message),\n",
    "    HumanMessage(content=\"Generate a scene with the characters: Bart Simpson, Lisa Simpson, Milhouse Van Houten.\")\n",
    "]\n",
    "\n",
    "response_7 = chat_1ft(messages)\n",
    "print(response_7.content)"
   ]
  },
  {
   "cell_type": "markdown",
   "metadata": {},
   "source": [
    "Este salió bien :), algunas partes del diálogo el formato no es ideal, pero se puede retocar."
   ]
  },
  {
   "cell_type": "code",
   "execution_count": 16,
   "metadata": {},
   "outputs": [
    {
     "name": "stdout",
     "output_type": "stream",
     "text": [
      "(C. Montgomery Burns: ALIVE!) Homer Simpson: (CHUCKLES THEN:) I'm a hero. Homer Simpson: (GASPS) C. Montgomery Burns: Alive! (C. Montgomery Burns: ALIVE!) C. Montgomery Burns: (CHUCKLES) Waylon Smithers: (SMALL TERRORIZED NOISE) C. Montgomery Burns: (SING-SONG) Waylon, I'm back. Homer Simpson: (CHUCKLING) Wow, that guy is good.\n"
     ]
    }
   ],
   "source": [
    "messages = [\n",
    "    SystemMessage(content=system_message),\n",
    "    HumanMessage(content=\"Generate a scene with the characters: Homer Simpson, C. Montgomery Burns, Waylon Smithers.\")\n",
    "]\n",
    "\n",
    "response_8 = chat_1ft(messages)\n",
    "print(response_8.content)"
   ]
  },
  {
   "cell_type": "markdown",
   "metadata": {},
   "source": [
    "También bien, se ve que si pones pocos personajes las escenas no son muy allá. A lo mejor si cambio la temperature de 0.7 a 1, mejora, al aumentar lo random de las respuestas."
   ]
  },
  {
   "cell_type": "code",
   "execution_count": 18,
   "metadata": {},
   "outputs": [
    {
     "name": "stdout",
     "output_type": "stream",
     "text": [
      "Burns: Uh, um... um, excuséz moi, monsieur. (ANNOYED GRUNT) (ETC.) (ETC.) I say, do you serve tab? Well then perhaps I could suggest a Manhattan cocktail, garnished with edible horse doovers. Do you see what I did there? \"D'oeuvre\" and \"doovers?\" (CHUCKLES) It's true, it is true. (CHUCKLES) Say, uh, how come it's good to hock on hors d'oeuvres, but whenever I get near them, I get stink-eye? Wait a minute. What's that man doing to those animals? (Pulls out monacle) Strangaling 'em? Is he putting 'em in that furnace? Doesn't he know you're supposed to milk 'em first? Ah, pizza cheese. Good idea, Property Brothers. (CHOMP) Waylon Smithers: Sir, that man is you. We're replaying an episode of \"Stories of Undiscovered Crimes.\" C. Montgomery Burns: (PAINED) It hurts Sir, do you want me to change it? Burns: (SCREAMS) Hurry, man, change it to channel I! There, there, that's better. C. Montgomery Burns: Now, Mr. Same-name-you-hate-son, would you like another helping of Satan's fingers with fiery powder or the non-shredded pepper devil? (DESPERATE) Son, please don't make me cook you a third kind! Homer Simpson: Dad, why do you entertain him? C. Montgomery Burns: Because he likes talking to adults, which makes it one of the least unpleasant things I must endure. Homer Simpson: Call me crazy, but doesn't \"fiery powder\" take place of \"non-shredded?\"\n"
     ]
    }
   ],
   "source": [
    "messages = [\n",
    "    SystemMessage(content=system_message),\n",
    "    HumanMessage(content=\"Generate a scene with the characters: Homer Simpson, C. Montgomery Burns, Waylon Smithers.\")\n",
    "]\n",
    "\n",
    "response_9 = chat_1ft(messages)\n",
    "print(response_9.content)"
   ]
  },
  {
   "cell_type": "markdown",
   "metadata": {},
   "source": [
    "Sin duda es una respuesta más larga, pero el formato no es bueno, no se sabe cuándo está hablando qué personaje, sin mencionar que por alguna razón Homer y Burns son padre e hijo?? voy a cambiar la temperature a 0.8 a ver qué pasa."
   ]
  },
  {
   "cell_type": "code",
   "execution_count": 20,
   "metadata": {},
   "outputs": [
    {
     "name": "stdout",
     "output_type": "stream",
     "text": [
      "(ANOTHER PART OF THE ESTATE - CONTINUOUS) C. Montgomery Burns: (TO HOMER) Perhaps you could take a refreshment break. Homer Simpson: Oh no. I've got five seconds left in my break... that's it. (ANOTHER PART OF THE ESTATE - CONTINUOUS) Waylon Smithers: Let's see how he likes a little of the \"old salt lick.\" Homer Simpson: (SHOCKED, THEN) Mmm. Salt. (MOANS)\n"
     ]
    }
   ],
   "source": [
    "messages = [\n",
    "    SystemMessage(content=system_message),\n",
    "    HumanMessage(content=\"Generate a scene with the characters: Homer Simpson, C. Montgomery Burns, Waylon Smithers.\")\n",
    "]\n",
    "\n",
    "response_10 = chat_1ft(messages)\n",
    "print(response_10.content)"
   ]
  },
  {
   "cell_type": "markdown",
   "metadata": {},
   "source": [
    "Muchísimo mejor, buen formato, diálogo bien. Se queda en 0.8."
   ]
  },
  {
   "cell_type": "markdown",
   "metadata": {},
   "source": [
    "## Especificando tanto lugar como personajes"
   ]
  },
  {
   "cell_type": "code",
   "execution_count": 21,
   "metadata": {},
   "outputs": [
    {
     "name": "stdout",
     "output_type": "stream",
     "text": [
      "(Springfield Retirement Castle: EXT. RETIREMENT CASTLE - DAY) Marge Simpson: I just don't think this is a good idea. Homer Simpson: Marge, you know sometimes I have to trick you into doing things? Marge Simpson: Uh huh. Homer Simpson: Well, I'm doing it again. Marge Simpson: (GASP) She's here! (POINTS) Homer Simpson: (AMID ANNOYED MURMURS) You're supposed to be sleeping in your chair. Grampa Simpson: I'm too excited. (THEN, WITH EXPECTANT LOOK) Is that her? Is that your dead mother? Helen Lovejoy: Now, I don't want to start any trouble, but she looks older than her picture and she's not wearing a bra. Grampa Simpson: (DISGUSTED SOUND) Helen Lovejoy: (SHRIEKS) Why I never! Bart Simpson: (ENTHUSIASTIC) I did! (INDICATES HER BREASTS)\n"
     ]
    }
   ],
   "source": [
    "messages = [\n",
    "    SystemMessage(content=system_message),\n",
    "    HumanMessage(content=\"Generate a scene in Springfield Retirement Castle with the characters: Homer Simpson, Grampa Simpson, Helen Lovejoy, Bart Simpson, Marge Simpson.\")\n",
    "]\n",
    "\n",
    "response_11 = chat_1ft(messages)\n",
    "print(response_11.content)"
   ]
  },
  {
   "cell_type": "markdown",
   "metadata": {},
   "source": [
    "Este salió muy bien en general."
   ]
  },
  {
   "cell_type": "code",
   "execution_count": 22,
   "metadata": {},
   "outputs": [
    {
     "name": "stdout",
     "output_type": "stream",
     "text": [
      "(Springfield Elementary School: int. Springfield elementary - cafeteria - later) Gary Chalmers: First off, I would like to introduce our new school nurse, Ms. Cantwell. Ms. Cantwell: (HOT) Hello, children. I'm not just some sexy vision in a white uniform, like the ones in the (HOLDS UP A BOOK) Book Of Mormon. (THEN) I'm also a registered nurse. (CHUCKLES) Otto Mann: (LOOKING AT HIPPY) Well done, God! Lisa Simpson: (IMPRESSED) Wow, there really are two things she could be. Gary Chalmers: So if you have a tummy ache, a turtle head poking out, or a neon sign that says \"Hepatitis,\" come and see Ms. Cantwell. (Springfield Elementary School: int. springfield elementary - hallway - moments later) Seymour Skinner: (HOLDS OUT A HALL PASS) I am so happy to see that face. Lisa Simpson: Let's just say your last school nurse did her job. Seymour Skinner: I don't think that's exactly the right way to put it. Lisa Simpson: (RE-GIFTING) Here, then. The chocolate's for you... the tooth's for her. Seymour Skinner: Thank you, Lisa. But I think this is the sort of thing we should share with the whole school. Seymour Skinner: Now, let's roll. Agnes Skinner: (THINKING) A boy and a girl, eh? This is a case for Cupid. He was last seen at the public library, where he was reading up on sex education. Agnes Skinner: (SCANDALIZED) Two children kissing at the library? (UPSET NOISE)\n"
     ]
    }
   ],
   "source": [
    "messages = [\n",
    "    SystemMessage(content=system_message),\n",
    "    HumanMessage(content=\"Generate a scene in Springfield Elementary School with the characters: Lisa Simpson, Otto Mann, Ms. Cantwell, Agnes Skinner, Seymour Skinner, Gary Chalmers.\")\n",
    "]\n",
    "\n",
    "response_12 = chat_1ft(messages)\n",
    "print(response_12.content)"
   ]
  },
  {
   "cell_type": "markdown",
   "metadata": {},
   "source": [
    "Parece también estar bien."
   ]
  },
  {
   "cell_type": "code",
   "execution_count": 23,
   "metadata": {},
   "outputs": [
    {
     "name": "stdout",
     "output_type": "stream",
     "text": [
      "(SEX SHOP: Int. sex shop - continuous) Helen Lovejoy: I wish she was as supportive of her husband's store as she is of those poor, starving dogs. Rev. Timothy Lovejoy: Thank you for calling \"Store\" Alone. This is Timothy Lovejoy. How can I service you? Homer Simpson: It's me. Timothy Lovejoy, Jr. Rev. Timothy Lovejoy: (DISAPPOINTED) Oh. Homer Simpson: I'm trying to buy something to spice up my marriage. What do you have in a \"waking in on your wife with another woman\" that's not too stagy? Rev. Timothy Lovejoy: Homer, I am not comfortable discussing these matters. You should talk to the school psychologist. Homer Simpson: We don't have a school psychologist! Rev. Timothy Lovejoy: (UNDER HIS BREATH) Well, you should. (SEX SHOP: Int. sex shop - continuous) (SEX SHOP: Int. sex shop - continuous) Waylon Smithers: (GENTLY) Uh, Homer, it's me. Waylon Smithers. Homer Simpson: (SURPRISED) What the--? Waylon Smithers: (MOANS) Homer, do me a favor. Homer Simpson: Sure. Waylon Smithers: The calla lilies are a little too tall. Cut them down about a half-inch. Homer Simpson: (LAUGHING) No problem. Well, it's nice to know you're in on the secret, Smithers. Waylon Smithers: (MOURNFUL) I only wish I could tell the world. Homer Simpson: (MENACING) Oh, you will, my friend. Waylon Smithers: (ANNOYED) Why must you always stand in the way of progress? (SEX SHOP: Int. sex shop - continuous) (SEX SHOP: Int. sex shop - day) (SEX SHOP: Ext. sex shop - night) (SEX SHOP: Int. sex shop - day) Helen Lovejoy: We're here to win back our Church from that devil-worshipping store! Homer Simpson: I'm not worshipping the devil. I'm buying a Christmas gift for my wife. But I am not feeling the spirit of the season. Sex Shop Salesman: Perhaps I can help. You see, true giving is the putting forth of food, time, or money with no visible hope of return. And we're closing in ten minutes, so just pick something and get the hell out. Homer Simpson: (GOBBLING) Christmas is the season for giving. (SEX SHOP: Int. sex shop - day) (SEX SHOP: Ext. sex shop - night) (SEX SHOP: Ext. sex shop - night - establishing) (SEX SHOP: Int. sex shop - continuous) Homer Simpson: Ooh, bondage-me.\n"
     ]
    }
   ],
   "source": [
    "messages = [\n",
    "    SystemMessage(content=system_message),\n",
    "    HumanMessage(content=\"Generate a scene in SEX SHOP with the characters: Homer Simpson, Helen Lovejoy, Sex Shop Salesman, Rev. Timothy Lovejoy, Waylon Smithers.\")\n",
    "]\n",
    "\n",
    "response_13 = chat_1ft(messages)\n",
    "print(response_13.content)"
   ]
  },
  {
   "cell_type": "code",
   "execution_count": 24,
   "metadata": {},
   "outputs": [
    {
     "name": "stdout",
     "output_type": "stream",
     "text": [
      "(SPRINGFIELD SWAMP: Ext. springfield swamp - continuous) Milhouse Van Houten: What do you think it is? Bart Simpson: (PROUD) Probably a new species, named in my honor. Nelson Muntz: I claim this island! Nelson Muntz: Oww! Nelson Muntz: Oh, you do?! Now you're gonna be one of them monster-people on the island? Nelson Muntz: Just sit me on that island and I'll become your king. (BART LAUGH)\n"
     ]
    }
   ],
   "source": [
    "messages = [\n",
    "    SystemMessage(content=system_message),\n",
    "    HumanMessage(content=\"Generate a scene in SPRINGFIELD SWAMP with the characters: Milhouse Van Houten, Bart Simpson, Nelson Muntz.\")\n",
    "]\n",
    "\n",
    "response_14 = chat_1ft(messages)\n",
    "print(response_14.content)"
   ]
  },
  {
   "cell_type": "code",
   "execution_count": 25,
   "metadata": {},
   "outputs": [
    {
     "name": "stdout",
     "output_type": "stream",
     "text": [
      "(Simpson Home: INT. simpson house - FAMILY ROOM) Marge Simpson: We don't want you to get hurt when they miss the net and the puck flies into the stands. Marge Simpson: We'll be okay. We've got our foam paws. Bart Simpson: (SAD) Are these foam paws? Homer Simpson: Bart, they're yours! Bart Simpson: Hey, you said you were throwing these away. Homer Simpson: (ANNOYED GRUNT) Marge Simpson: (SOTTO) But Selma and I are best friends! Homer Simpson: (LAUGHS) Of course you are, dear. Milhouse Van Houten: (MOANS) I just can't decide which ring I want. Homer Simpson: Let me help you, son! I have a keen eye for fashion. Homer Simpson: (WEARY) So, how was your day? Bart Simpson: Not now, man. I'm about to make major news in the world of professional sports. I need to get in my zone. Ned Flanders: Homer, could you pass the salt? Homer Simpson: \"Homer?\" We're not at work anymore. When you're in my house, you call me \"Simpson.\" Selma Bouvier: Oh, I think we're getting a little too big for our britches. Selma Bouvier: (QUICKLY TERRIFYING) I haven't even begun to get swollen with pride. Homer Simpson: Ooh. Who's making fun of the new power couple? Homer Simpson: It's nincompoop! (CHUCKLES) Idiot! (CHUCKLES) Oaf! (CHUCKLES) (Simpson Home: INT. SIMPSON HOUSE - KITCHEN - NIGHT) Milhouse Van Houten: We are pleased to announce that Milhouse Van Houten has signed a contract with the Springfield Isotopes! Milhouse Van Houten: Eat my dust, defective Jaromirs!\n"
     ]
    }
   ],
   "source": [
    "messages = [\n",
    "    SystemMessage(content=system_message),\n",
    "    HumanMessage(content=\"Generate a scene in Simpson Home with the characters: Homer Simpson, Selma Bouvier, Ned Flanders, Bart Simpson, Marge Simpson, Milhouse Van Houten.\")\n",
    "]\n",
    "\n",
    "response_15 = chat_1ft(messages)\n",
    "print(response_15.content)"
   ]
  },
  {
   "cell_type": "markdown",
   "metadata": {},
   "source": [
    "# Guardando resultados en dataframe para después evaluar."
   ]
  },
  {
   "cell_type": "code",
   "execution_count": 39,
   "metadata": {},
   "outputs": [
    {
     "data": {
      "text/plain": [
       "[\"(The Simpsons: ext. simpsons' house - morning - establishing) (The Simpsons: INT. SIMPSONS' HOUSE - HALLWAY - CONTINUOUS) Marge, this morning I saw a child who was kind of sickly looking, and I'm worried that it might be Bart. (The Simpsons: INT. SIMPSONS' HOUSE - kitchen - day) Marge, the kids are finally asleep. I told 'em a story about a horse and a monkey and they went right out. (FEELING HIS PANTS) Oh, no. (STANDS UP) I'm wearing kid pants. (The Simpsons: INT. SIMPSONS' HOUSE - KITCHEN - DAY) Marge, you've gotta help me. They're just like the monsters under my bed when I was little. Except they're real.\",\n",
       " '(Homer Simpson: AD LIB OF \"YEAH\" WITH A MOUTHFUL OF CHICKEN) (Homer Simpson: RE: BART\\'S EATING) Bart Simpson: Is there no place on this Earth for a kid who\\'s not a screw-up?',\n",
       " '(Bart Simpson: SINCERE) I\\'m glad you\\'re back, Milhouse. I really missed you. (Milhouse Van Houten: MOVING HIS HEAD) But I\\'m still mad. (Bart Simpson: GENUINE) And I\\'m sorry I tore up your picture. (Bart Simpson: SAD) It was a good one. (Milhouse Van Houten: AFTER A BEAT) I know you\\'re sorry, Bart. And I forgive you. (Bart Simpson: HOPEFUL) Can we be friends again? (Milhouse Van Houten: FRIENDLY) I think we can. (Bart Simpson: WHISPERING) Now let\\'s get out of here before they start doing that \"Jewish stuff.\" Lisa Simpson: (TO HERSELF) That\\'s so beautiful. Milhouse forgave him. (BEAT, SAD) Why can\\'t I forgive them? (TO MIKE, SADLY) I forgive you. (TO RICHARD, SADLY) I forgive you. (TO JIMMY, SADLY) I forgive you. (ETC.) Milhouse Van Houten: (TO BART) Are you thinking what I\\'m thinking? (Bart Simpson: EAGER) You bet. Lisa Simpson: (SOBS) Bart Simpson: (SIMULTANEOUSLY, TO MILHOUSE) I bet we could take \\'em. Milhouse Van Houten: At the same time!',\n",
       " '(ANOTHER PART OF THE ESTATE - CONTINUOUS) C. Montgomery Burns: (TO HOMER) Perhaps you could take a refreshment break. Homer Simpson: Oh no. I\\'ve got five seconds left in my break... that\\'s it. (ANOTHER PART OF THE ESTATE - CONTINUOUS) Waylon Smithers: Let\\'s see how he likes a little of the \"old salt lick.\" Homer Simpson: (SHOCKED, THEN) Mmm. Salt. (MOANS)',\n",
       " \"(Springfield Retirement Castle: EXT. RETIREMENT CASTLE - DAY) Marge Simpson: I just don't think this is a good idea. Homer Simpson: Marge, you know sometimes I have to trick you into doing things? Marge Simpson: Uh huh. Homer Simpson: Well, I'm doing it again. Marge Simpson: (GASP) She's here! (POINTS) Homer Simpson: (AMID ANNOYED MURMURS) You're supposed to be sleeping in your chair. Grampa Simpson: I'm too excited. (THEN, WITH EXPECTANT LOOK) Is that her? Is that your dead mother? Helen Lovejoy: Now, I don't want to start any trouble, but she looks older than her picture and she's not wearing a bra. Grampa Simpson: (DISGUSTED SOUND) Helen Lovejoy: (SHRIEKS) Why I never! Bart Simpson: (ENTHUSIASTIC) I did! (INDICATES HER BREASTS)\",\n",
       " '(Springfield Elementary School: int. Springfield elementary - cafeteria - later) Gary Chalmers: First off, I would like to introduce our new school nurse, Ms. Cantwell. Ms. Cantwell: (HOT) Hello, children. I\\'m not just some sexy vision in a white uniform, like the ones in the (HOLDS UP A BOOK) Book Of Mormon. (THEN) I\\'m also a registered nurse. (CHUCKLES) Otto Mann: (LOOKING AT HIPPY) Well done, God! Lisa Simpson: (IMPRESSED) Wow, there really are two things she could be. Gary Chalmers: So if you have a tummy ache, a turtle head poking out, or a neon sign that says \"Hepatitis,\" come and see Ms. Cantwell. (Springfield Elementary School: int. springfield elementary - hallway - moments later) Seymour Skinner: (HOLDS OUT A HALL PASS) I am so happy to see that face. Lisa Simpson: Let\\'s just say your last school nurse did her job. Seymour Skinner: I don\\'t think that\\'s exactly the right way to put it. Lisa Simpson: (RE-GIFTING) Here, then. The chocolate\\'s for you... the tooth\\'s for her. Seymour Skinner: Thank you, Lisa. But I think this is the sort of thing we should share with the whole school. Seymour Skinner: Now, let\\'s roll. Agnes Skinner: (THINKING) A boy and a girl, eh? This is a case for Cupid. He was last seen at the public library, where he was reading up on sex education. Agnes Skinner: (SCANDALIZED) Two children kissing at the library? (UPSET NOISE)',\n",
       " '(SEX SHOP: Int. sex shop - continuous) Helen Lovejoy: I wish she was as supportive of her husband\\'s store as she is of those poor, starving dogs. Rev. Timothy Lovejoy: Thank you for calling \"Store\" Alone. This is Timothy Lovejoy. How can I service you? Homer Simpson: It\\'s me. Timothy Lovejoy, Jr. Rev. Timothy Lovejoy: (DISAPPOINTED) Oh. Homer Simpson: I\\'m trying to buy something to spice up my marriage. What do you have in a \"waking in on your wife with another woman\" that\\'s not too stagy? Rev. Timothy Lovejoy: Homer, I am not comfortable discussing these matters. You should talk to the school psychologist. Homer Simpson: We don\\'t have a school psychologist! Rev. Timothy Lovejoy: (UNDER HIS BREATH) Well, you should. (SEX SHOP: Int. sex shop - continuous) (SEX SHOP: Int. sex shop - continuous) Waylon Smithers: (GENTLY) Uh, Homer, it\\'s me. Waylon Smithers. Homer Simpson: (SURPRISED) What the--? Waylon Smithers: (MOANS) Homer, do me a favor. Homer Simpson: Sure. Waylon Smithers: The calla lilies are a little too tall. Cut them down about a half-inch. Homer Simpson: (LAUGHING) No problem. Well, it\\'s nice to know you\\'re in on the secret, Smithers. Waylon Smithers: (MOURNFUL) I only wish I could tell the world. Homer Simpson: (MENACING) Oh, you will, my friend. Waylon Smithers: (ANNOYED) Why must you always stand in the way of progress? (SEX SHOP: Int. sex shop - continuous) (SEX SHOP: Int. sex shop - day) (SEX SHOP: Ext. sex shop - night) (SEX SHOP: Int. sex shop - day) Helen Lovejoy: We\\'re here to win back our Church from that devil-worshipping store! Homer Simpson: I\\'m not worshipping the devil. I\\'m buying a Christmas gift for my wife. But I am not feeling the spirit of the season. Sex Shop Salesman: Perhaps I can help. You see, true giving is the putting forth of food, time, or money with no visible hope of return. And we\\'re closing in ten minutes, so just pick something and get the hell out. Homer Simpson: (GOBBLING) Christmas is the season for giving. (SEX SHOP: Int. sex shop - day) (SEX SHOP: Ext. sex shop - night) (SEX SHOP: Ext. sex shop - night - establishing) (SEX SHOP: Int. sex shop - continuous) Homer Simpson: Ooh, bondage-me.',\n",
       " \"(SPRINGFIELD SWAMP: Ext. springfield swamp - continuous) Milhouse Van Houten: What do you think it is? Bart Simpson: (PROUD) Probably a new species, named in my honor. Nelson Muntz: I claim this island! Nelson Muntz: Oww! Nelson Muntz: Oh, you do?! Now you're gonna be one of them monster-people on the island? Nelson Muntz: Just sit me on that island and I'll become your king. (BART LAUGH)\",\n",
       " '(Simpson Home: INT. simpson house - FAMILY ROOM) Marge Simpson: We don\\'t want you to get hurt when they miss the net and the puck flies into the stands. Marge Simpson: We\\'ll be okay. We\\'ve got our foam paws. Bart Simpson: (SAD) Are these foam paws? Homer Simpson: Bart, they\\'re yours! Bart Simpson: Hey, you said you were throwing these away. Homer Simpson: (ANNOYED GRUNT) Marge Simpson: (SOTTO) But Selma and I are best friends! Homer Simpson: (LAUGHS) Of course you are, dear. Milhouse Van Houten: (MOANS) I just can\\'t decide which ring I want. Homer Simpson: Let me help you, son! I have a keen eye for fashion. Homer Simpson: (WEARY) So, how was your day? Bart Simpson: Not now, man. I\\'m about to make major news in the world of professional sports. I need to get in my zone. Ned Flanders: Homer, could you pass the salt? Homer Simpson: \"Homer?\" We\\'re not at work anymore. When you\\'re in my house, you call me \"Simpson.\" Selma Bouvier: Oh, I think we\\'re getting a little too big for our britches. Selma Bouvier: (QUICKLY TERRIFYING) I haven\\'t even begun to get swollen with pride. Homer Simpson: Ooh. Who\\'s making fun of the new power couple? Homer Simpson: It\\'s nincompoop! (CHUCKLES) Idiot! (CHUCKLES) Oaf! (CHUCKLES) (Simpson Home: INT. SIMPSON HOUSE - KITCHEN - NIGHT) Milhouse Van Houten: We are pleased to announce that Milhouse Van Houten has signed a contract with the Springfield Isotopes! Milhouse Van Houten: Eat my dust, defective Jaromirs!']"
      ]
     },
     "execution_count": 39,
     "metadata": {},
     "output_type": "execute_result"
    }
   ],
   "source": [
    "# Las respuestas que tienen algo, aparte del lugar son: la número 2, 6, 7, 8, 9, 10, 11, 12, 13, 14, 15.\n",
    "respuestas_si = [response_2.content,\n",
    "                response_6.content,\n",
    "                response_7.content,\n",
    "                response_10.content,\n",
    "                response_11.content,\n",
    "                response_12.content,\n",
    "                response_13.content,\n",
    "                response_14.content,\n",
    "                response_15.content]\n",
    "\n",
    "respuestas_si"
   ]
  },
  {
   "cell_type": "code",
   "execution_count": 40,
   "metadata": {},
   "outputs": [],
   "source": [
    "personajes_raw = [\n",
    "    None,\n",
    "    ['Homer Simpson', 'Bart Simpson'],\n",
    "    ['Bart Simpson', 'Lisa Simpson', 'Milhouse Van Houten'],\n",
    "    ['Homer Simpson', 'C. Montgomery Burns', 'Waylon Smithers'],\n",
    "    [\"Homer Simpson\", \"Grampa Simpson\", \"Helen Lovejoy\", \"Bart Simpson\", \"Marge Simpson\"],\n",
    "    [\"Lisa Simpson\", \"Otto Mann\", \"Ms. Cantwell\", \"Agnes Skinner\", \"Seymour Skinner\", \"Gary Chalmers\"],\n",
    "    [\"Homer Simpson\", \"Helen Lovejoy\", \"Sex Shop Salesman\", \"Rev. Timothy Lovejoy\", \"Waylon Smithers\"],\n",
    "    [\"Milhouse Van Houten\", \"Bart Simpson\", \"Nelson Muntz\"],\n",
    "    [\"Homer Simpson\", \"Selma Bouvier\", \"Ned Flanders\", \"Bart Simpson\", \"Marge Simpson\", \"Milhouse Van Houten\"]\n",
    "]"
   ]
  },
  {
   "cell_type": "code",
   "execution_count": 41,
   "metadata": {},
   "outputs": [],
   "source": [
    "location_raw = [\n",
    "    None,\n",
    "    None,\n",
    "    None,\n",
    "    None,\n",
    "    'Springfield Retirement Castle',\n",
    "    'Springfield Elementary School',\n",
    "    'SEX SHOP',\n",
    "    'SPRINGFIELD SWAMP',\n",
    "    'Simpson Home'\n",
    "]"
   ]
  },
  {
   "cell_type": "code",
   "execution_count": 42,
   "metadata": {},
   "outputs": [
    {
     "data": {
      "text/html": [
       "<div>\n",
       "<style scoped>\n",
       "    .dataframe tbody tr th:only-of-type {\n",
       "        vertical-align: middle;\n",
       "    }\n",
       "\n",
       "    .dataframe tbody tr th {\n",
       "        vertical-align: top;\n",
       "    }\n",
       "\n",
       "    .dataframe thead th {\n",
       "        text-align: right;\n",
       "    }\n",
       "</style>\n",
       "<table border=\"1\" class=\"dataframe\">\n",
       "  <thead>\n",
       "    <tr style=\"text-align: right;\">\n",
       "      <th></th>\n",
       "      <th>fine_tuned</th>\n",
       "      <th>character_raw</th>\n",
       "      <th>location_raw</th>\n",
       "      <th>raw_text</th>\n",
       "    </tr>\n",
       "  </thead>\n",
       "  <tbody>\n",
       "    <tr>\n",
       "      <th>0</th>\n",
       "      <td>True</td>\n",
       "      <td>None</td>\n",
       "      <td>None</td>\n",
       "      <td>(The Simpsons: ext. simpsons' house - morning ...</td>\n",
       "    </tr>\n",
       "    <tr>\n",
       "      <th>1</th>\n",
       "      <td>True</td>\n",
       "      <td>[Homer Simpson, Bart Simpson]</td>\n",
       "      <td>None</td>\n",
       "      <td>(Homer Simpson: AD LIB OF \"YEAH\" WITH A MOUTHF...</td>\n",
       "    </tr>\n",
       "    <tr>\n",
       "      <th>2</th>\n",
       "      <td>True</td>\n",
       "      <td>[Bart Simpson, Lisa Simpson, Milhouse Van Houten]</td>\n",
       "      <td>None</td>\n",
       "      <td>(Bart Simpson: SINCERE) I'm glad you're back, ...</td>\n",
       "    </tr>\n",
       "    <tr>\n",
       "      <th>3</th>\n",
       "      <td>True</td>\n",
       "      <td>[Homer Simpson, C. Montgomery Burns, Waylon Sm...</td>\n",
       "      <td>None</td>\n",
       "      <td>(ANOTHER PART OF THE ESTATE - CONTINUOUS) C. M...</td>\n",
       "    </tr>\n",
       "    <tr>\n",
       "      <th>4</th>\n",
       "      <td>True</td>\n",
       "      <td>[Homer Simpson, Grampa Simpson, Helen Lovejoy,...</td>\n",
       "      <td>Springfield Retirement Castle</td>\n",
       "      <td>(Springfield Retirement Castle: EXT. RETIREMEN...</td>\n",
       "    </tr>\n",
       "    <tr>\n",
       "      <th>5</th>\n",
       "      <td>True</td>\n",
       "      <td>[Lisa Simpson, Otto Mann, Ms. Cantwell, Agnes ...</td>\n",
       "      <td>Springfield Elementary School</td>\n",
       "      <td>(Springfield Elementary School: int. Springfie...</td>\n",
       "    </tr>\n",
       "    <tr>\n",
       "      <th>6</th>\n",
       "      <td>True</td>\n",
       "      <td>[Homer Simpson, Helen Lovejoy, Sex Shop Salesm...</td>\n",
       "      <td>SEX SHOP</td>\n",
       "      <td>(SEX SHOP: Int. sex shop - continuous) Helen L...</td>\n",
       "    </tr>\n",
       "    <tr>\n",
       "      <th>7</th>\n",
       "      <td>True</td>\n",
       "      <td>[Milhouse Van Houten, Bart Simpson, Nelson Muntz]</td>\n",
       "      <td>SPRINGFIELD SWAMP</td>\n",
       "      <td>(SPRINGFIELD SWAMP: Ext. springfield swamp - c...</td>\n",
       "    </tr>\n",
       "    <tr>\n",
       "      <th>8</th>\n",
       "      <td>True</td>\n",
       "      <td>[Homer Simpson, Selma Bouvier, Ned Flanders, B...</td>\n",
       "      <td>Simpson Home</td>\n",
       "      <td>(Simpson Home: INT. simpson house - FAMILY ROO...</td>\n",
       "    </tr>\n",
       "  </tbody>\n",
       "</table>\n",
       "</div>"
      ],
      "text/plain": [
       "   fine_tuned                                      character_raw  \\\n",
       "0        True                                               None   \n",
       "1        True                      [Homer Simpson, Bart Simpson]   \n",
       "2        True  [Bart Simpson, Lisa Simpson, Milhouse Van Houten]   \n",
       "3        True  [Homer Simpson, C. Montgomery Burns, Waylon Sm...   \n",
       "4        True  [Homer Simpson, Grampa Simpson, Helen Lovejoy,...   \n",
       "5        True  [Lisa Simpson, Otto Mann, Ms. Cantwell, Agnes ...   \n",
       "6        True  [Homer Simpson, Helen Lovejoy, Sex Shop Salesm...   \n",
       "7        True  [Milhouse Van Houten, Bart Simpson, Nelson Muntz]   \n",
       "8        True  [Homer Simpson, Selma Bouvier, Ned Flanders, B...   \n",
       "\n",
       "                    location_raw  \\\n",
       "0                           None   \n",
       "1                           None   \n",
       "2                           None   \n",
       "3                           None   \n",
       "4  Springfield Retirement Castle   \n",
       "5  Springfield Elementary School   \n",
       "6                       SEX SHOP   \n",
       "7              SPRINGFIELD SWAMP   \n",
       "8                   Simpson Home   \n",
       "\n",
       "                                            raw_text  \n",
       "0  (The Simpsons: ext. simpsons' house - morning ...  \n",
       "1  (Homer Simpson: AD LIB OF \"YEAH\" WITH A MOUTHF...  \n",
       "2  (Bart Simpson: SINCERE) I'm glad you're back, ...  \n",
       "3  (ANOTHER PART OF THE ESTATE - CONTINUOUS) C. M...  \n",
       "4  (Springfield Retirement Castle: EXT. RETIREMEN...  \n",
       "5  (Springfield Elementary School: int. Springfie...  \n",
       "6  (SEX SHOP: Int. sex shop - continuous) Helen L...  \n",
       "7  (SPRINGFIELD SWAMP: Ext. springfield swamp - c...  \n",
       "8  (Simpson Home: INT. simpson house - FAMILY ROO...  "
      ]
     },
     "execution_count": 42,
     "metadata": {},
     "output_type": "execute_result"
    }
   ],
   "source": [
    "df_respuestas = pd.DataFrame({'fine_tuned':True, 'input_character_raw':personajes_raw, 'input_location_raw':location_raw, 'raw_text':respuestas_si})\n",
    "df_respuestas"
   ]
  },
  {
   "cell_type": "markdown",
   "metadata": {},
   "source": [
    "# Añadiendo manualmente filas hechas en la web de Open AI"
   ]
  },
  {
   "cell_type": "code",
   "execution_count": 121,
   "metadata": {},
   "outputs": [
    {
     "data": {
      "text/html": [
       "<div>\n",
       "<style scoped>\n",
       "    .dataframe tbody tr th:only-of-type {\n",
       "        vertical-align: middle;\n",
       "    }\n",
       "\n",
       "    .dataframe tbody tr th {\n",
       "        vertical-align: top;\n",
       "    }\n",
       "\n",
       "    .dataframe thead th {\n",
       "        text-align: right;\n",
       "    }\n",
       "</style>\n",
       "<table border=\"1\" class=\"dataframe\">\n",
       "  <thead>\n",
       "    <tr style=\"text-align: right;\">\n",
       "      <th></th>\n",
       "      <th>fine_tuned</th>\n",
       "      <th>input_character_raw</th>\n",
       "      <th>input_location_raw</th>\n",
       "      <th>raw_text</th>\n",
       "    </tr>\n",
       "  </thead>\n",
       "  <tbody>\n",
       "    <tr>\n",
       "      <th>0</th>\n",
       "      <td>True</td>\n",
       "      <td>NaN</td>\n",
       "      <td>NaN</td>\n",
       "      <td>(The Simpsons: ext. simpsons' house - morning ...</td>\n",
       "    </tr>\n",
       "    <tr>\n",
       "      <th>1</th>\n",
       "      <td>True</td>\n",
       "      <td>['Homer Simpson', 'Bart Simpson']</td>\n",
       "      <td>NaN</td>\n",
       "      <td>(Homer Simpson: AD LIB OF \"YEAH\" WITH A MOUTHF...</td>\n",
       "    </tr>\n",
       "    <tr>\n",
       "      <th>2</th>\n",
       "      <td>True</td>\n",
       "      <td>['Bart Simpson', 'Lisa Simpson', 'Milhouse Van...</td>\n",
       "      <td>NaN</td>\n",
       "      <td>Bart Simpson: (SINCERE) I'm glad you're back, ...</td>\n",
       "    </tr>\n",
       "    <tr>\n",
       "      <th>3</th>\n",
       "      <td>True</td>\n",
       "      <td>['Homer Simpson', 'C. Montgomery Burns', 'Wayl...</td>\n",
       "      <td>NaN</td>\n",
       "      <td>(ANOTHER PART OF THE ESTATE - CONTINUOUS)\\nC. ...</td>\n",
       "    </tr>\n",
       "    <tr>\n",
       "      <th>4</th>\n",
       "      <td>True</td>\n",
       "      <td>['Homer Simpson', 'Grampa Simpson', 'Helen Lov...</td>\n",
       "      <td>Springfield Retirement Castle</td>\n",
       "      <td>(Springfield Retirement Castle: EXT. RETIREMEN...</td>\n",
       "    </tr>\n",
       "    <tr>\n",
       "      <th>5</th>\n",
       "      <td>True</td>\n",
       "      <td>['Lisa Simpson', 'Otto Mann', 'Ms. Cantwell', ...</td>\n",
       "      <td>Springfield Elementary School</td>\n",
       "      <td>(Springfield Elementary School: int. Springfie...</td>\n",
       "    </tr>\n",
       "    <tr>\n",
       "      <th>6</th>\n",
       "      <td>True</td>\n",
       "      <td>['Homer Simpson', 'Helen Lovejoy', 'Sex Shop S...</td>\n",
       "      <td>SEX SHOP</td>\n",
       "      <td>(SEX SHOP: Int. sex shop - continuous)\\nHelen ...</td>\n",
       "    </tr>\n",
       "    <tr>\n",
       "      <th>7</th>\n",
       "      <td>True</td>\n",
       "      <td>['Milhouse Van Houten', 'Bart Simpson', 'Nelso...</td>\n",
       "      <td>SPRINGFIELD SWAMP</td>\n",
       "      <td>(SPRINGFIELD SWAMP: Ext. springfield swamp - c...</td>\n",
       "    </tr>\n",
       "    <tr>\n",
       "      <th>8</th>\n",
       "      <td>True</td>\n",
       "      <td>['Homer Simpson', 'Selma Bouvier', 'Ned Flande...</td>\n",
       "      <td>Simpson Home</td>\n",
       "      <td>(Simpson Home: INT. simpson house - FAMILY ROO...</td>\n",
       "    </tr>\n",
       "    <tr>\n",
       "      <th>9</th>\n",
       "      <td>False</td>\n",
       "      <td>NaN</td>\n",
       "      <td>NaN</td>\n",
       "      <td>(Interior: Simpson living room. Marge is sitti...</td>\n",
       "    </tr>\n",
       "    <tr>\n",
       "      <th>10</th>\n",
       "      <td>False</td>\n",
       "      <td>NaN</td>\n",
       "      <td>NaN</td>\n",
       "      <td>(Scene: The Simpson living room. Homer is sitt...</td>\n",
       "    </tr>\n",
       "    <tr>\n",
       "      <th>11</th>\n",
       "      <td>False</td>\n",
       "      <td>NaN</td>\n",
       "      <td>NaN</td>\n",
       "      <td>(Scene: The Simpson family living room. Homer ...</td>\n",
       "    </tr>\n",
       "    <tr>\n",
       "      <th>12</th>\n",
       "      <td>True</td>\n",
       "      <td>NaN</td>\n",
       "      <td>NaN</td>\n",
       "      <td>(The Simpson show: Ext. The Simpson house - da...</td>\n",
       "    </tr>\n",
       "    <tr>\n",
       "      <th>13</th>\n",
       "      <td>True</td>\n",
       "      <td>NaN</td>\n",
       "      <td>NaN</td>\n",
       "      <td>(The Simpson show: Int. Simpson House - Day)\\n...</td>\n",
       "    </tr>\n",
       "    <tr>\n",
       "      <th>14</th>\n",
       "      <td>True</td>\n",
       "      <td>NaN</td>\n",
       "      <td>NaN</td>\n",
       "      <td>(The Simpson show: int. the simpsons house - b...</td>\n",
       "    </tr>\n",
       "    <tr>\n",
       "      <th>15</th>\n",
       "      <td>True</td>\n",
       "      <td>NaN</td>\n",
       "      <td>Simpson home</td>\n",
       "      <td>(Simpson home: ext. simpson house)\\nMarge Simp...</td>\n",
       "    </tr>\n",
       "    <tr>\n",
       "      <th>16</th>\n",
       "      <td>True</td>\n",
       "      <td>NaN</td>\n",
       "      <td>Springfield Nuclear Power Plant</td>\n",
       "      <td>(Springfield Nuclear Power Plant: ext. springf...</td>\n",
       "    </tr>\n",
       "    <tr>\n",
       "      <th>17</th>\n",
       "      <td>True</td>\n",
       "      <td>NaN</td>\n",
       "      <td>Springfield Elementary School</td>\n",
       "      <td>(Springfield Elementary School: ext. springfie...</td>\n",
       "    </tr>\n",
       "    <tr>\n",
       "      <th>18</th>\n",
       "      <td>False</td>\n",
       "      <td>NaN</td>\n",
       "      <td>Springfield Elementary School</td>\n",
       "      <td>(Scene: Springfield Elementary School, int. Cl...</td>\n",
       "    </tr>\n",
       "    <tr>\n",
       "      <th>19</th>\n",
       "      <td>False</td>\n",
       "      <td>NaN</td>\n",
       "      <td>Springfield Nuclear Power Plant</td>\n",
       "      <td>[INT. SPRINGFIELD NUCLEAR POWER PLANT - DAY]\\n...</td>\n",
       "    </tr>\n",
       "    <tr>\n",
       "      <th>20</th>\n",
       "      <td>False</td>\n",
       "      <td>NaN</td>\n",
       "      <td>Simpson home</td>\n",
       "      <td>(Scene: Simpson living room. The family is gat...</td>\n",
       "    </tr>\n",
       "    <tr>\n",
       "      <th>21</th>\n",
       "      <td>False</td>\n",
       "      <td>['Marge Simpson', 'Selma Bouvier', 'Patty Bouv...</td>\n",
       "      <td>NaN</td>\n",
       "      <td>(Scene: The Simpson living room. Marge is sitt...</td>\n",
       "    </tr>\n",
       "    <tr>\n",
       "      <th>22</th>\n",
       "      <td>True</td>\n",
       "      <td>['Marge Simpson', 'Selma Bouvier', 'Patty Bouv...</td>\n",
       "      <td>NaN</td>\n",
       "      <td>(The Simpson show: ext. THE SIMPSONS HOUSE - M...</td>\n",
       "    </tr>\n",
       "    <tr>\n",
       "      <th>23</th>\n",
       "      <td>True</td>\n",
       "      <td>['Lisa Simpson', 'Nelson Muntz']</td>\n",
       "      <td>NaN</td>\n",
       "      <td>(The Simpson show: ext. springfield street - d...</td>\n",
       "    </tr>\n",
       "    <tr>\n",
       "      <th>24</th>\n",
       "      <td>False</td>\n",
       "      <td>['Lisa Simpson', 'Nelson Muntz']</td>\n",
       "      <td>NaN</td>\n",
       "      <td>(Scene: Springfield Elementary School. Lisa Si...</td>\n",
       "    </tr>\n",
       "    <tr>\n",
       "      <th>25</th>\n",
       "      <td>False</td>\n",
       "      <td>['Bart Simpson', 'Waylon Smithers', 'Helen Lov...</td>\n",
       "      <td>NaN</td>\n",
       "      <td>(INT. SPRINGFIELD ELEMENTARY SCHOOL - DAY)\\n(W...</td>\n",
       "    </tr>\n",
       "    <tr>\n",
       "      <th>26</th>\n",
       "      <td>True</td>\n",
       "      <td>['Bart Simpson', 'Waylon Smithers', 'Helen Lov...</td>\n",
       "      <td>NaN</td>\n",
       "      <td>(The Simpson show: Ext. The Simpson house - fr...</td>\n",
       "    </tr>\n",
       "    <tr>\n",
       "      <th>27</th>\n",
       "      <td>True</td>\n",
       "      <td>['Homer Simpson', 'Moe Szyslak']</td>\n",
       "      <td>Moe's Tavern</td>\n",
       "      <td>(The Simpson show: INT. Moe's Tavern - NIGHT)\\...</td>\n",
       "    </tr>\n",
       "    <tr>\n",
       "      <th>28</th>\n",
       "      <td>False</td>\n",
       "      <td>['Homer Simpson', 'Moe Szyslak']</td>\n",
       "      <td>Moe's Tavern</td>\n",
       "      <td>(Interior: Moe's Tavern. Homer, Moe, Barney, L...</td>\n",
       "    </tr>\n",
       "    <tr>\n",
       "      <th>29</th>\n",
       "      <td>False</td>\n",
       "      <td>['C. Montgomery Burns', 'Grampa Simpson']</td>\n",
       "      <td>Springfield Mall</td>\n",
       "      <td>(Scene: Springfield Mall, crowded with shopper...</td>\n",
       "    </tr>\n",
       "    <tr>\n",
       "      <th>30</th>\n",
       "      <td>True</td>\n",
       "      <td>['C. Montgomery Burns', 'Grampa Simpson']</td>\n",
       "      <td>Springfield Mall</td>\n",
       "      <td>(Springfield Mall: int. mall - day)\\nGrampa Si...</td>\n",
       "    </tr>\n",
       "    <tr>\n",
       "      <th>31</th>\n",
       "      <td>True</td>\n",
       "      <td>['Homer Simpson', 'Apu Nahasapeemapetilon']</td>\n",
       "      <td>Kwik-E-Mart Parking Lot</td>\n",
       "      <td>(Kwik-E-Mart Parking Lot: ext. kwik-e-mart - p...</td>\n",
       "    </tr>\n",
       "    <tr>\n",
       "      <th>32</th>\n",
       "      <td>False</td>\n",
       "      <td>['Homer Simpson', 'Apu Nahasapeemapetilon']</td>\n",
       "      <td>Kwik-E-Mart Parking Lot</td>\n",
       "      <td>(Scene: Kwik-E-Mart Parking Lot. Homer is stan...</td>\n",
       "    </tr>\n",
       "  </tbody>\n",
       "</table>\n",
       "</div>"
      ],
      "text/plain": [
       "    fine_tuned                                input_character_raw  \\\n",
       "0         True                                                NaN   \n",
       "1         True                  ['Homer Simpson', 'Bart Simpson']   \n",
       "2         True  ['Bart Simpson', 'Lisa Simpson', 'Milhouse Van...   \n",
       "3         True  ['Homer Simpson', 'C. Montgomery Burns', 'Wayl...   \n",
       "4         True  ['Homer Simpson', 'Grampa Simpson', 'Helen Lov...   \n",
       "5         True  ['Lisa Simpson', 'Otto Mann', 'Ms. Cantwell', ...   \n",
       "6         True  ['Homer Simpson', 'Helen Lovejoy', 'Sex Shop S...   \n",
       "7         True  ['Milhouse Van Houten', 'Bart Simpson', 'Nelso...   \n",
       "8         True  ['Homer Simpson', 'Selma Bouvier', 'Ned Flande...   \n",
       "9        False                                                NaN   \n",
       "10       False                                                NaN   \n",
       "11       False                                                NaN   \n",
       "12        True                                                NaN   \n",
       "13        True                                                NaN   \n",
       "14        True                                                NaN   \n",
       "15        True                                                NaN   \n",
       "16        True                                                NaN   \n",
       "17        True                                                NaN   \n",
       "18       False                                                NaN   \n",
       "19       False                                                NaN   \n",
       "20       False                                                NaN   \n",
       "21       False  ['Marge Simpson', 'Selma Bouvier', 'Patty Bouv...   \n",
       "22        True  ['Marge Simpson', 'Selma Bouvier', 'Patty Bouv...   \n",
       "23        True                   ['Lisa Simpson', 'Nelson Muntz']   \n",
       "24       False                   ['Lisa Simpson', 'Nelson Muntz']   \n",
       "25       False  ['Bart Simpson', 'Waylon Smithers', 'Helen Lov...   \n",
       "26        True  ['Bart Simpson', 'Waylon Smithers', 'Helen Lov...   \n",
       "27        True                   ['Homer Simpson', 'Moe Szyslak']   \n",
       "28       False                   ['Homer Simpson', 'Moe Szyslak']   \n",
       "29       False          ['C. Montgomery Burns', 'Grampa Simpson']   \n",
       "30        True          ['C. Montgomery Burns', 'Grampa Simpson']   \n",
       "31        True        ['Homer Simpson', 'Apu Nahasapeemapetilon']   \n",
       "32       False        ['Homer Simpson', 'Apu Nahasapeemapetilon']   \n",
       "\n",
       "                 input_location_raw  \\\n",
       "0                               NaN   \n",
       "1                               NaN   \n",
       "2                               NaN   \n",
       "3                               NaN   \n",
       "4     Springfield Retirement Castle   \n",
       "5     Springfield Elementary School   \n",
       "6                          SEX SHOP   \n",
       "7                 SPRINGFIELD SWAMP   \n",
       "8                      Simpson Home   \n",
       "9                               NaN   \n",
       "10                              NaN   \n",
       "11                              NaN   \n",
       "12                              NaN   \n",
       "13                              NaN   \n",
       "14                              NaN   \n",
       "15                     Simpson home   \n",
       "16  Springfield Nuclear Power Plant   \n",
       "17    Springfield Elementary School   \n",
       "18    Springfield Elementary School   \n",
       "19  Springfield Nuclear Power Plant   \n",
       "20                     Simpson home   \n",
       "21                              NaN   \n",
       "22                              NaN   \n",
       "23                              NaN   \n",
       "24                              NaN   \n",
       "25                              NaN   \n",
       "26                              NaN   \n",
       "27                     Moe's Tavern   \n",
       "28                     Moe's Tavern   \n",
       "29                 Springfield Mall   \n",
       "30                 Springfield Mall   \n",
       "31          Kwik-E-Mart Parking Lot   \n",
       "32          Kwik-E-Mart Parking Lot   \n",
       "\n",
       "                                             raw_text  \n",
       "0   (The Simpsons: ext. simpsons' house - morning ...  \n",
       "1   (Homer Simpson: AD LIB OF \"YEAH\" WITH A MOUTHF...  \n",
       "2   Bart Simpson: (SINCERE) I'm glad you're back, ...  \n",
       "3   (ANOTHER PART OF THE ESTATE - CONTINUOUS)\\nC. ...  \n",
       "4   (Springfield Retirement Castle: EXT. RETIREMEN...  \n",
       "5   (Springfield Elementary School: int. Springfie...  \n",
       "6   (SEX SHOP: Int. sex shop - continuous)\\nHelen ...  \n",
       "7   (SPRINGFIELD SWAMP: Ext. springfield swamp - c...  \n",
       "8   (Simpson Home: INT. simpson house - FAMILY ROO...  \n",
       "9   (Interior: Simpson living room. Marge is sitti...  \n",
       "10  (Scene: The Simpson living room. Homer is sitt...  \n",
       "11  (Scene: The Simpson family living room. Homer ...  \n",
       "12  (The Simpson show: Ext. The Simpson house - da...  \n",
       "13  (The Simpson show: Int. Simpson House - Day)\\n...  \n",
       "14  (The Simpson show: int. the simpsons house - b...  \n",
       "15  (Simpson home: ext. simpson house)\\nMarge Simp...  \n",
       "16  (Springfield Nuclear Power Plant: ext. springf...  \n",
       "17  (Springfield Elementary School: ext. springfie...  \n",
       "18  (Scene: Springfield Elementary School, int. Cl...  \n",
       "19  [INT. SPRINGFIELD NUCLEAR POWER PLANT - DAY]\\n...  \n",
       "20  (Scene: Simpson living room. The family is gat...  \n",
       "21  (Scene: The Simpson living room. Marge is sitt...  \n",
       "22  (The Simpson show: ext. THE SIMPSONS HOUSE - M...  \n",
       "23  (The Simpson show: ext. springfield street - d...  \n",
       "24  (Scene: Springfield Elementary School. Lisa Si...  \n",
       "25  (INT. SPRINGFIELD ELEMENTARY SCHOOL - DAY)\\n(W...  \n",
       "26  (The Simpson show: Ext. The Simpson house - fr...  \n",
       "27  (The Simpson show: INT. Moe's Tavern - NIGHT)\\...  \n",
       "28  (Interior: Moe's Tavern. Homer, Moe, Barney, L...  \n",
       "29  (Scene: Springfield Mall, crowded with shopper...  \n",
       "30  (Springfield Mall: int. mall - day)\\nGrampa Si...  \n",
       "31  (Kwik-E-Mart Parking Lot: ext. kwik-e-mart - p...  \n",
       "32  (Scene: Kwik-E-Mart Parking Lot. Homer is stan...  "
      ]
     },
     "execution_count": 121,
     "metadata": {},
     "output_type": "execute_result"
    }
   ],
   "source": [
    "df = pd.read_csv('Modelos/Respuestas/respuestas_LLMs.csv')\n",
    "df"
   ]
  },
  {
   "cell_type": "code",
   "execution_count": 118,
   "metadata": {},
   "outputs": [
    {
     "data": {
      "text/html": [
       "<div>\n",
       "<style scoped>\n",
       "    .dataframe tbody tr th:only-of-type {\n",
       "        vertical-align: middle;\n",
       "    }\n",
       "\n",
       "    .dataframe tbody tr th {\n",
       "        vertical-align: top;\n",
       "    }\n",
       "\n",
       "    .dataframe thead th {\n",
       "        text-align: right;\n",
       "    }\n",
       "</style>\n",
       "<table border=\"1\" class=\"dataframe\">\n",
       "  <thead>\n",
       "    <tr style=\"text-align: right;\">\n",
       "      <th></th>\n",
       "      <th>fine_tuned</th>\n",
       "      <th>input_character_raw</th>\n",
       "      <th>input_location_raw</th>\n",
       "      <th>raw_text</th>\n",
       "    </tr>\n",
       "  </thead>\n",
       "  <tbody>\n",
       "    <tr>\n",
       "      <th>28</th>\n",
       "      <td>False</td>\n",
       "      <td>['Homer Simpson', 'Moe Szyslak']</td>\n",
       "      <td>Moe's Tavern</td>\n",
       "      <td>(Interior: Moe's Tavern. Homer, Moe, Barney, L...</td>\n",
       "    </tr>\n",
       "    <tr>\n",
       "      <th>29</th>\n",
       "      <td>False</td>\n",
       "      <td>['C. Montgomery Burns', 'Grampa Simpson']</td>\n",
       "      <td>Springfield Mall</td>\n",
       "      <td>(Scene: Springfield Mall, crowded with shopper...</td>\n",
       "    </tr>\n",
       "    <tr>\n",
       "      <th>30</th>\n",
       "      <td>True</td>\n",
       "      <td>['C. Montgomery Burns', 'Grampa Simpson']</td>\n",
       "      <td>Springfield Mall</td>\n",
       "      <td>(Springfield Mall: int. mall - day)\\nGrampa Si...</td>\n",
       "    </tr>\n",
       "    <tr>\n",
       "      <th>31</th>\n",
       "      <td>True</td>\n",
       "      <td>['Homer Simpson', 'Apu Nahasapeemapetilon']</td>\n",
       "      <td>Kwik-E-Mart Parking Lot</td>\n",
       "      <td>(Kwik-E-Mart Parking Lot: ext. kwik-e-mart - p...</td>\n",
       "    </tr>\n",
       "    <tr>\n",
       "      <th>32</th>\n",
       "      <td>False</td>\n",
       "      <td>[Homer Simpson, Apu Nahasapeemapetilon]</td>\n",
       "      <td>Kwik-E-Mart Parking Lot</td>\n",
       "      <td>(Scene: Kwik-E-Mart Parking Lot. Homer is stan...</td>\n",
       "    </tr>\n",
       "  </tbody>\n",
       "</table>\n",
       "</div>"
      ],
      "text/plain": [
       "    fine_tuned                          input_character_raw  \\\n",
       "28       False             ['Homer Simpson', 'Moe Szyslak']   \n",
       "29       False    ['C. Montgomery Burns', 'Grampa Simpson']   \n",
       "30        True    ['C. Montgomery Burns', 'Grampa Simpson']   \n",
       "31        True  ['Homer Simpson', 'Apu Nahasapeemapetilon']   \n",
       "32       False      [Homer Simpson, Apu Nahasapeemapetilon]   \n",
       "\n",
       "         input_location_raw                                           raw_text  \n",
       "28             Moe's Tavern  (Interior: Moe's Tavern. Homer, Moe, Barney, L...  \n",
       "29         Springfield Mall  (Scene: Springfield Mall, crowded with shopper...  \n",
       "30         Springfield Mall  (Springfield Mall: int. mall - day)\\nGrampa Si...  \n",
       "31  Kwik-E-Mart Parking Lot  (Kwik-E-Mart Parking Lot: ext. kwik-e-mart - p...  \n",
       "32  Kwik-E-Mart Parking Lot  (Scene: Kwik-E-Mart Parking Lot. Homer is stan...  "
      ]
     },
     "execution_count": 118,
     "metadata": {},
     "output_type": "execute_result"
    }
   ],
   "source": [
    "script_output = \"(Scene: Kwik-E-Mart Parking Lot. Homer is standing in front of his car, looking frustrated as he struggles to open the trunk. Apu walks over to help.)\\nApu Nahasapeemapetilon: Hello, Mr. Simpson. It appears you are having some trouble with your trunk.\\nHomer Simpson: Yeah, stupid thing won't open. Probably because I overloaded it with all those donuts.\\nApu Nahasapeemapetilon: Ah, yes. The donuts. Well, let me give it a try. (Apu tries to open the trunk but also struggles)\\nHomer Simpson: See, even you can't do it! Looks like this trunk is just too weak to handle my snack collection.\\n(Apu chuckles and takes a step back, surveying the situation)\\nApu Nahasapeemapetilon: Perhaps we need a more... creative solution. (pulls out a crowbar from behind the counter)\\nHomer Simpson: Whoa, Apu! Are you sure about this?\\n(Apu confidently inserts the crowbar into the trunk and with a mighty heave, manages to pry it open. The trunk bursts open, revealing an avalanche of donuts spilling out.)\\nHomer Simpson: My precious donuts! Apu, you're a genius!\\n(Apu smiles proudly as Homer dives into the pile of donuts, happily munching away. Suddenly, Chief Wiggum arrives at the scene.)\\nChief Wiggum: What's going on here? I got a report of a donut-related disturbance.\\nHomer Simpson: Oh, hey Chief! Just a little trunk trouble, but it's all sorted now thanks to Apu.\\nChief Wiggum: Well, as long as there's no illegal donut smuggling going on here, I'll let you off with a warning. But next time, make sure your trunk can handle the load, Simpson.\\n(Homer nods eagerly as Chief Wiggum walks away. Apu and Homer share a laugh as they continue to enjoy the donuts scattered around the parking lot.)\\nApu Nahasapeemapetilon: Ah, the sweet taste of victory... and donuts. Just another day at the Kwik-E-Mart.\\n(The scene fades out as Homer and Apu continue to indulge in their sugary treats, the sound of Homer's satisfied munching echoing through the parking lot.)\"\n",
    "# manual_new_row = {'fine_tuned':False, 'input_character_raw':None, 'input_location_raw':None, 'raw_text':script_output}\n",
    "new_row_df = [False, [\"Homer Simpson\", \"Apu Nahasapeemapetilon\"], \"Kwik-E-Mart Parking Lot\", script_output]\n",
    "df.loc[len(df)] = new_row_df\n",
    "df.tail()"
   ]
  },
  {
   "cell_type": "code",
   "execution_count": 119,
   "metadata": {},
   "outputs": [
    {
     "data": {
      "text/plain": [
       "\"(Scene: Kwik-E-Mart Parking Lot. Homer is standing in front of his car, looking frustrated as he struggles to open the trunk. Apu walks over to help.)\\nApu Nahasapeemapetilon: Hello, Mr. Simpson. It appears you are having some trouble with your trunk.\\nHomer Simpson: Yeah, stupid thing won't open. Probably because I overloaded it with all those donuts.\\nApu Nahasapeemapetilon: Ah, yes. The donuts. Well, let me give it a try. (Apu tries to open the trunk but also struggles)\\nHomer Simpson: See, even you can't do it! Looks like this trunk is just too weak to handle my snack collection.\\n(Apu chuckles and takes a step back, surveying the situation)\\nApu Nahasapeemapetilon: Perhaps we need a more... creative solution. (pulls out a crowbar from behind the counter)\\nHomer Simpson: Whoa, Apu! Are you sure about this?\\n(Apu confidently inserts the crowbar into the trunk and with a mighty heave, manages to pry it open. The trunk bursts open, revealing an avalanche of donuts spilling out.)\\nHomer Simpson: My precious donuts! Apu, you're a genius!\\n(Apu smiles proudly as Homer dives into the pile of donuts, happily munching away. Suddenly, Chief Wiggum arrives at the scene.)\\nChief Wiggum: What's going on here? I got a report of a donut-related disturbance.\\nHomer Simpson: Oh, hey Chief! Just a little trunk trouble, but it's all sorted now thanks to Apu.\\nChief Wiggum: Well, as long as there's no illegal donut smuggling going on here, I'll let you off with a warning. But next time, make sure your trunk can handle the load, Simpson.\\n(Homer nods eagerly as Chief Wiggum walks away. Apu and Homer share a laugh as they continue to enjoy the donuts scattered around the parking lot.)\\nApu Nahasapeemapetilon: Ah, the sweet taste of victory... and donuts. Just another day at the Kwik-E-Mart.\\n(The scene fades out as Homer and Apu continue to indulge in their sugary treats, the sound of Homer's satisfied munching echoing through the parking lot.)\""
      ]
     },
     "execution_count": 119,
     "metadata": {},
     "output_type": "execute_result"
    }
   ],
   "source": [
    "df.iloc[-1]['raw_text']"
   ]
  },
  {
   "cell_type": "code",
   "execution_count": 120,
   "metadata": {},
   "outputs": [],
   "source": [
    "df.to_csv('Modelos/Respuestas/respuestas_LLMs.csv', index=False)"
   ]
  },
  {
   "cell_type": "markdown",
   "metadata": {},
   "source": [
    "# Añadir marcador/identificador a cada escena generada:"
   ]
  },
  {
   "cell_type": "code",
   "execution_count": 2,
   "metadata": {},
   "outputs": [
    {
     "data": {
      "text/html": [
       "<div>\n",
       "<style scoped>\n",
       "    .dataframe tbody tr th:only-of-type {\n",
       "        vertical-align: middle;\n",
       "    }\n",
       "\n",
       "    .dataframe tbody tr th {\n",
       "        vertical-align: top;\n",
       "    }\n",
       "\n",
       "    .dataframe thead th {\n",
       "        text-align: right;\n",
       "    }\n",
       "</style>\n",
       "<table border=\"1\" class=\"dataframe\">\n",
       "  <thead>\n",
       "    <tr style=\"text-align: right;\">\n",
       "      <th></th>\n",
       "      <th>fine_tuned</th>\n",
       "      <th>input_character_raw</th>\n",
       "      <th>input_location_raw</th>\n",
       "      <th>raw_text</th>\n",
       "    </tr>\n",
       "  </thead>\n",
       "  <tbody>\n",
       "    <tr>\n",
       "      <th>0</th>\n",
       "      <td>True</td>\n",
       "      <td>NaN</td>\n",
       "      <td>NaN</td>\n",
       "      <td>(The Simpsons: ext. simpsons' house - morning ...</td>\n",
       "    </tr>\n",
       "    <tr>\n",
       "      <th>1</th>\n",
       "      <td>True</td>\n",
       "      <td>['Homer Simpson', 'Bart Simpson']</td>\n",
       "      <td>NaN</td>\n",
       "      <td>(Homer Simpson: AD LIB OF \"YEAH\" WITH A MOUTHF...</td>\n",
       "    </tr>\n",
       "    <tr>\n",
       "      <th>2</th>\n",
       "      <td>True</td>\n",
       "      <td>['Bart Simpson', 'Lisa Simpson', 'Milhouse Van...</td>\n",
       "      <td>NaN</td>\n",
       "      <td>Bart Simpson: (SINCERE) I'm glad you're back, ...</td>\n",
       "    </tr>\n",
       "    <tr>\n",
       "      <th>3</th>\n",
       "      <td>True</td>\n",
       "      <td>['Homer Simpson', 'C. Montgomery Burns', 'Wayl...</td>\n",
       "      <td>NaN</td>\n",
       "      <td>(ANOTHER PART OF THE ESTATE - CONTINUOUS)\\nC. ...</td>\n",
       "    </tr>\n",
       "    <tr>\n",
       "      <th>4</th>\n",
       "      <td>True</td>\n",
       "      <td>['Homer Simpson', 'Grampa Simpson', 'Helen Lov...</td>\n",
       "      <td>Springfield Retirement Castle</td>\n",
       "      <td>(Springfield Retirement Castle: EXT. RETIREMEN...</td>\n",
       "    </tr>\n",
       "    <tr>\n",
       "      <th>5</th>\n",
       "      <td>True</td>\n",
       "      <td>['Lisa Simpson', 'Otto Mann', 'Ms. Cantwell', ...</td>\n",
       "      <td>Springfield Elementary School</td>\n",
       "      <td>(Springfield Elementary School: int. Springfie...</td>\n",
       "    </tr>\n",
       "    <tr>\n",
       "      <th>6</th>\n",
       "      <td>True</td>\n",
       "      <td>['Homer Simpson', 'Helen Lovejoy', 'Sex Shop S...</td>\n",
       "      <td>SEX SHOP</td>\n",
       "      <td>(SEX SHOP: Int. sex shop - continuous)\\nHelen ...</td>\n",
       "    </tr>\n",
       "    <tr>\n",
       "      <th>7</th>\n",
       "      <td>True</td>\n",
       "      <td>['Milhouse Van Houten', 'Bart Simpson', 'Nelso...</td>\n",
       "      <td>SPRINGFIELD SWAMP</td>\n",
       "      <td>(SPRINGFIELD SWAMP: Ext. springfield swamp - c...</td>\n",
       "    </tr>\n",
       "    <tr>\n",
       "      <th>8</th>\n",
       "      <td>True</td>\n",
       "      <td>['Homer Simpson', 'Selma Bouvier', 'Ned Flande...</td>\n",
       "      <td>Simpson Home</td>\n",
       "      <td>(Simpson Home: INT. simpson house - FAMILY ROO...</td>\n",
       "    </tr>\n",
       "    <tr>\n",
       "      <th>9</th>\n",
       "      <td>False</td>\n",
       "      <td>NaN</td>\n",
       "      <td>NaN</td>\n",
       "      <td>(Interior: Simpson living room. Marge is sitti...</td>\n",
       "    </tr>\n",
       "    <tr>\n",
       "      <th>10</th>\n",
       "      <td>False</td>\n",
       "      <td>NaN</td>\n",
       "      <td>NaN</td>\n",
       "      <td>(Scene: The Simpson living room. Homer is sitt...</td>\n",
       "    </tr>\n",
       "    <tr>\n",
       "      <th>11</th>\n",
       "      <td>False</td>\n",
       "      <td>NaN</td>\n",
       "      <td>NaN</td>\n",
       "      <td>(Scene: The Simpson family living room. Homer ...</td>\n",
       "    </tr>\n",
       "    <tr>\n",
       "      <th>12</th>\n",
       "      <td>True</td>\n",
       "      <td>NaN</td>\n",
       "      <td>NaN</td>\n",
       "      <td>(The Simpson show: Ext. The Simpson house - da...</td>\n",
       "    </tr>\n",
       "    <tr>\n",
       "      <th>13</th>\n",
       "      <td>True</td>\n",
       "      <td>NaN</td>\n",
       "      <td>NaN</td>\n",
       "      <td>(The Simpson show: Int. Simpson House - Day)\\n...</td>\n",
       "    </tr>\n",
       "    <tr>\n",
       "      <th>14</th>\n",
       "      <td>True</td>\n",
       "      <td>NaN</td>\n",
       "      <td>NaN</td>\n",
       "      <td>(The Simpson show: int. the simpsons house - b...</td>\n",
       "    </tr>\n",
       "    <tr>\n",
       "      <th>15</th>\n",
       "      <td>True</td>\n",
       "      <td>NaN</td>\n",
       "      <td>Simpson home</td>\n",
       "      <td>(Simpson home: ext. simpson house)\\nMarge Simp...</td>\n",
       "    </tr>\n",
       "    <tr>\n",
       "      <th>16</th>\n",
       "      <td>True</td>\n",
       "      <td>NaN</td>\n",
       "      <td>Springfield Nuclear Power Plant</td>\n",
       "      <td>(Springfield Nuclear Power Plant: ext. springf...</td>\n",
       "    </tr>\n",
       "    <tr>\n",
       "      <th>17</th>\n",
       "      <td>True</td>\n",
       "      <td>NaN</td>\n",
       "      <td>Springfield Elementary School</td>\n",
       "      <td>(Springfield Elementary School: ext. springfie...</td>\n",
       "    </tr>\n",
       "    <tr>\n",
       "      <th>18</th>\n",
       "      <td>False</td>\n",
       "      <td>NaN</td>\n",
       "      <td>Springfield Elementary School</td>\n",
       "      <td>(Scene: Springfield Elementary School, int. Cl...</td>\n",
       "    </tr>\n",
       "    <tr>\n",
       "      <th>19</th>\n",
       "      <td>False</td>\n",
       "      <td>NaN</td>\n",
       "      <td>Springfield Nuclear Power Plant</td>\n",
       "      <td>[INT. SPRINGFIELD NUCLEAR POWER PLANT - DAY]\\n...</td>\n",
       "    </tr>\n",
       "    <tr>\n",
       "      <th>20</th>\n",
       "      <td>False</td>\n",
       "      <td>NaN</td>\n",
       "      <td>Simpson home</td>\n",
       "      <td>(Scene: Simpson living room. The family is gat...</td>\n",
       "    </tr>\n",
       "    <tr>\n",
       "      <th>21</th>\n",
       "      <td>False</td>\n",
       "      <td>['Marge Simpson', 'Selma Bouvier', 'Patty Bouv...</td>\n",
       "      <td>NaN</td>\n",
       "      <td>(Scene: The Simpson living room. Marge is sitt...</td>\n",
       "    </tr>\n",
       "    <tr>\n",
       "      <th>22</th>\n",
       "      <td>True</td>\n",
       "      <td>['Marge Simpson', 'Selma Bouvier', 'Patty Bouv...</td>\n",
       "      <td>NaN</td>\n",
       "      <td>(The Simpson show: ext. THE SIMPSONS HOUSE - M...</td>\n",
       "    </tr>\n",
       "    <tr>\n",
       "      <th>23</th>\n",
       "      <td>True</td>\n",
       "      <td>['Lisa Simpson', 'Nelson Muntz']</td>\n",
       "      <td>NaN</td>\n",
       "      <td>(The Simpson show: ext. springfield street - d...</td>\n",
       "    </tr>\n",
       "    <tr>\n",
       "      <th>24</th>\n",
       "      <td>False</td>\n",
       "      <td>['Lisa Simpson', 'Nelson Muntz']</td>\n",
       "      <td>NaN</td>\n",
       "      <td>(Scene: Springfield Elementary School. Lisa Si...</td>\n",
       "    </tr>\n",
       "    <tr>\n",
       "      <th>25</th>\n",
       "      <td>False</td>\n",
       "      <td>['Bart Simpson', 'Waylon Smithers', 'Helen Lov...</td>\n",
       "      <td>NaN</td>\n",
       "      <td>(INT. SPRINGFIELD ELEMENTARY SCHOOL - DAY)\\n(W...</td>\n",
       "    </tr>\n",
       "    <tr>\n",
       "      <th>26</th>\n",
       "      <td>True</td>\n",
       "      <td>['Bart Simpson', 'Waylon Smithers', 'Helen Lov...</td>\n",
       "      <td>NaN</td>\n",
       "      <td>(The Simpson show: Ext. The Simpson house - fr...</td>\n",
       "    </tr>\n",
       "    <tr>\n",
       "      <th>27</th>\n",
       "      <td>True</td>\n",
       "      <td>['Homer Simpson', 'Moe Szyslak']</td>\n",
       "      <td>Moe's Tavern</td>\n",
       "      <td>(The Simpson show: INT. Moe's Tavern - NIGHT)\\...</td>\n",
       "    </tr>\n",
       "    <tr>\n",
       "      <th>28</th>\n",
       "      <td>False</td>\n",
       "      <td>['Homer Simpson', 'Moe Szyslak']</td>\n",
       "      <td>Moe's Tavern</td>\n",
       "      <td>(Interior: Moe's Tavern. Homer, Moe, Barney, L...</td>\n",
       "    </tr>\n",
       "    <tr>\n",
       "      <th>29</th>\n",
       "      <td>False</td>\n",
       "      <td>['C. Montgomery Burns', 'Grampa Simpson']</td>\n",
       "      <td>Springfield Mall</td>\n",
       "      <td>(Scene: Springfield Mall, crowded with shopper...</td>\n",
       "    </tr>\n",
       "    <tr>\n",
       "      <th>30</th>\n",
       "      <td>True</td>\n",
       "      <td>['C. Montgomery Burns', 'Grampa Simpson']</td>\n",
       "      <td>Springfield Mall</td>\n",
       "      <td>(Springfield Mall: int. mall - day)\\nGrampa Si...</td>\n",
       "    </tr>\n",
       "    <tr>\n",
       "      <th>31</th>\n",
       "      <td>True</td>\n",
       "      <td>['Homer Simpson', 'Apu Nahasapeemapetilon']</td>\n",
       "      <td>Kwik-E-Mart Parking Lot</td>\n",
       "      <td>(Kwik-E-Mart Parking Lot: ext. kwik-e-mart - p...</td>\n",
       "    </tr>\n",
       "    <tr>\n",
       "      <th>32</th>\n",
       "      <td>False</td>\n",
       "      <td>['Homer Simpson', 'Apu Nahasapeemapetilon']</td>\n",
       "      <td>Kwik-E-Mart Parking Lot</td>\n",
       "      <td>(Scene: Kwik-E-Mart Parking Lot. Homer is stan...</td>\n",
       "    </tr>\n",
       "  </tbody>\n",
       "</table>\n",
       "</div>"
      ],
      "text/plain": [
       "    fine_tuned                                input_character_raw  \\\n",
       "0         True                                                NaN   \n",
       "1         True                  ['Homer Simpson', 'Bart Simpson']   \n",
       "2         True  ['Bart Simpson', 'Lisa Simpson', 'Milhouse Van...   \n",
       "3         True  ['Homer Simpson', 'C. Montgomery Burns', 'Wayl...   \n",
       "4         True  ['Homer Simpson', 'Grampa Simpson', 'Helen Lov...   \n",
       "5         True  ['Lisa Simpson', 'Otto Mann', 'Ms. Cantwell', ...   \n",
       "6         True  ['Homer Simpson', 'Helen Lovejoy', 'Sex Shop S...   \n",
       "7         True  ['Milhouse Van Houten', 'Bart Simpson', 'Nelso...   \n",
       "8         True  ['Homer Simpson', 'Selma Bouvier', 'Ned Flande...   \n",
       "9        False                                                NaN   \n",
       "10       False                                                NaN   \n",
       "11       False                                                NaN   \n",
       "12        True                                                NaN   \n",
       "13        True                                                NaN   \n",
       "14        True                                                NaN   \n",
       "15        True                                                NaN   \n",
       "16        True                                                NaN   \n",
       "17        True                                                NaN   \n",
       "18       False                                                NaN   \n",
       "19       False                                                NaN   \n",
       "20       False                                                NaN   \n",
       "21       False  ['Marge Simpson', 'Selma Bouvier', 'Patty Bouv...   \n",
       "22        True  ['Marge Simpson', 'Selma Bouvier', 'Patty Bouv...   \n",
       "23        True                   ['Lisa Simpson', 'Nelson Muntz']   \n",
       "24       False                   ['Lisa Simpson', 'Nelson Muntz']   \n",
       "25       False  ['Bart Simpson', 'Waylon Smithers', 'Helen Lov...   \n",
       "26        True  ['Bart Simpson', 'Waylon Smithers', 'Helen Lov...   \n",
       "27        True                   ['Homer Simpson', 'Moe Szyslak']   \n",
       "28       False                   ['Homer Simpson', 'Moe Szyslak']   \n",
       "29       False          ['C. Montgomery Burns', 'Grampa Simpson']   \n",
       "30        True          ['C. Montgomery Burns', 'Grampa Simpson']   \n",
       "31        True        ['Homer Simpson', 'Apu Nahasapeemapetilon']   \n",
       "32       False        ['Homer Simpson', 'Apu Nahasapeemapetilon']   \n",
       "\n",
       "                 input_location_raw  \\\n",
       "0                               NaN   \n",
       "1                               NaN   \n",
       "2                               NaN   \n",
       "3                               NaN   \n",
       "4     Springfield Retirement Castle   \n",
       "5     Springfield Elementary School   \n",
       "6                          SEX SHOP   \n",
       "7                 SPRINGFIELD SWAMP   \n",
       "8                      Simpson Home   \n",
       "9                               NaN   \n",
       "10                              NaN   \n",
       "11                              NaN   \n",
       "12                              NaN   \n",
       "13                              NaN   \n",
       "14                              NaN   \n",
       "15                     Simpson home   \n",
       "16  Springfield Nuclear Power Plant   \n",
       "17    Springfield Elementary School   \n",
       "18    Springfield Elementary School   \n",
       "19  Springfield Nuclear Power Plant   \n",
       "20                     Simpson home   \n",
       "21                              NaN   \n",
       "22                              NaN   \n",
       "23                              NaN   \n",
       "24                              NaN   \n",
       "25                              NaN   \n",
       "26                              NaN   \n",
       "27                     Moe's Tavern   \n",
       "28                     Moe's Tavern   \n",
       "29                 Springfield Mall   \n",
       "30                 Springfield Mall   \n",
       "31          Kwik-E-Mart Parking Lot   \n",
       "32          Kwik-E-Mart Parking Lot   \n",
       "\n",
       "                                             raw_text  \n",
       "0   (The Simpsons: ext. simpsons' house - morning ...  \n",
       "1   (Homer Simpson: AD LIB OF \"YEAH\" WITH A MOUTHF...  \n",
       "2   Bart Simpson: (SINCERE) I'm glad you're back, ...  \n",
       "3   (ANOTHER PART OF THE ESTATE - CONTINUOUS)\\nC. ...  \n",
       "4   (Springfield Retirement Castle: EXT. RETIREMEN...  \n",
       "5   (Springfield Elementary School: int. Springfie...  \n",
       "6   (SEX SHOP: Int. sex shop - continuous)\\nHelen ...  \n",
       "7   (SPRINGFIELD SWAMP: Ext. springfield swamp - c...  \n",
       "8   (Simpson Home: INT. simpson house - FAMILY ROO...  \n",
       "9   (Interior: Simpson living room. Marge is sitti...  \n",
       "10  (Scene: The Simpson living room. Homer is sitt...  \n",
       "11  (Scene: The Simpson family living room. Homer ...  \n",
       "12  (The Simpson show: Ext. The Simpson house - da...  \n",
       "13  (The Simpson show: Int. Simpson House - Day)\\n...  \n",
       "14  (The Simpson show: int. the simpsons house - b...  \n",
       "15  (Simpson home: ext. simpson house)\\nMarge Simp...  \n",
       "16  (Springfield Nuclear Power Plant: ext. springf...  \n",
       "17  (Springfield Elementary School: ext. springfie...  \n",
       "18  (Scene: Springfield Elementary School, int. Cl...  \n",
       "19  [INT. SPRINGFIELD NUCLEAR POWER PLANT - DAY]\\n...  \n",
       "20  (Scene: Simpson living room. The family is gat...  \n",
       "21  (Scene: The Simpson living room. Marge is sitt...  \n",
       "22  (The Simpson show: ext. THE SIMPSONS HOUSE - M...  \n",
       "23  (The Simpson show: ext. springfield street - d...  \n",
       "24  (Scene: Springfield Elementary School. Lisa Si...  \n",
       "25  (INT. SPRINGFIELD ELEMENTARY SCHOOL - DAY)\\n(W...  \n",
       "26  (The Simpson show: Ext. The Simpson house - fr...  \n",
       "27  (The Simpson show: INT. Moe's Tavern - NIGHT)\\...  \n",
       "28  (Interior: Moe's Tavern. Homer, Moe, Barney, L...  \n",
       "29  (Scene: Springfield Mall, crowded with shopper...  \n",
       "30  (Springfield Mall: int. mall - day)\\nGrampa Si...  \n",
       "31  (Kwik-E-Mart Parking Lot: ext. kwik-e-mart - p...  \n",
       "32  (Scene: Kwik-E-Mart Parking Lot. Homer is stan...  "
      ]
     },
     "execution_count": 2,
     "metadata": {},
     "output_type": "execute_result"
    }
   ],
   "source": [
    "df = pd.read_csv('Modelos/Respuestas/respuestas_LLMs.csv')\n",
    "df"
   ]
  },
  {
   "cell_type": "code",
   "execution_count": 10,
   "metadata": {},
   "outputs": [
    {
     "data": {
      "text/html": [
       "<div>\n",
       "<style scoped>\n",
       "    .dataframe tbody tr th:only-of-type {\n",
       "        vertical-align: middle;\n",
       "    }\n",
       "\n",
       "    .dataframe tbody tr th {\n",
       "        vertical-align: top;\n",
       "    }\n",
       "\n",
       "    .dataframe thead th {\n",
       "        text-align: right;\n",
       "    }\n",
       "</style>\n",
       "<table border=\"1\" class=\"dataframe\">\n",
       "  <thead>\n",
       "    <tr style=\"text-align: right;\">\n",
       "      <th></th>\n",
       "      <th>fine_tuned</th>\n",
       "      <th>input_character_raw</th>\n",
       "      <th>input_location_raw</th>\n",
       "      <th>raw_text</th>\n",
       "      <th>id</th>\n",
       "    </tr>\n",
       "  </thead>\n",
       "  <tbody>\n",
       "    <tr>\n",
       "      <th>30</th>\n",
       "      <td>True</td>\n",
       "      <td>['C. Montgomery Burns', 'Grampa Simpson']</td>\n",
       "      <td>Springfield Mall</td>\n",
       "      <td>(Springfield Mall: int. mall - day)\\nGrampa Si...</td>\n",
       "      <td>nan</td>\n",
       "    </tr>\n",
       "    <tr>\n",
       "      <th>31</th>\n",
       "      <td>True</td>\n",
       "      <td>['Homer Simpson', 'Apu Nahasapeemapetilon']</td>\n",
       "      <td>Kwik-E-Mart Parking Lot</td>\n",
       "      <td>(Kwik-E-Mart Parking Lot: ext. kwik-e-mart - p...</td>\n",
       "      <td>nan</td>\n",
       "    </tr>\n",
       "    <tr>\n",
       "      <th>32</th>\n",
       "      <td>False</td>\n",
       "      <td>['Homer Simpson', 'Apu Nahasapeemapetilon']</td>\n",
       "      <td>Kwik-E-Mart Parking Lot</td>\n",
       "      <td>(Scene: Kwik-E-Mart Parking Lot. Homer is stan...</td>\n",
       "      <td>nan</td>\n",
       "    </tr>\n",
       "  </tbody>\n",
       "</table>\n",
       "</div>"
      ],
      "text/plain": [
       "    fine_tuned                          input_character_raw  \\\n",
       "30        True    ['C. Montgomery Burns', 'Grampa Simpson']   \n",
       "31        True  ['Homer Simpson', 'Apu Nahasapeemapetilon']   \n",
       "32       False  ['Homer Simpson', 'Apu Nahasapeemapetilon']   \n",
       "\n",
       "         input_location_raw  \\\n",
       "30         Springfield Mall   \n",
       "31  Kwik-E-Mart Parking Lot   \n",
       "32  Kwik-E-Mart Parking Lot   \n",
       "\n",
       "                                             raw_text   id  \n",
       "30  (Springfield Mall: int. mall - day)\\nGrampa Si...  nan  \n",
       "31  (Kwik-E-Mart Parking Lot: ext. kwik-e-mart - p...  nan  \n",
       "32  (Scene: Kwik-E-Mart Parking Lot. Homer is stan...  nan  "
      ]
     },
     "execution_count": 10,
     "metadata": {},
     "output_type": "execute_result"
    }
   ],
   "source": [
    "df[30:]"
   ]
  },
  {
   "cell_type": "code",
   "execution_count": 11,
   "metadata": {},
   "outputs": [],
   "source": [
    "df.loc[0, 'id'] = \"ft1_char0_loc0_0\"\n",
    "df.loc[1, 'id'] = \"ft1_char1_loc0_0\"\n",
    "df.loc[2, 'id'] = \"ft1_char1_loc0_1\"\n",
    "df.loc[3, 'id'] = \"ft1_char1_loc0_2\"\n",
    "df.loc[4, 'id'] = \"ft1_char1_loc1_0\"\n",
    "\n",
    "df.loc[5, 'id'] = \"ft1_char1_loc1_1\"\n",
    "df.loc[6, 'id'] = \"ft1_char1_loc1_2\"\n",
    "df.loc[7, 'id'] = \"ft1_char1_loc1_3\"\n",
    "df.loc[8, 'id'] = \"ft1_char1_loc1_4\"\n",
    "df.loc[9, 'id'] = \"ft0_char0_loc0_0\"\n",
    "\n",
    "df.loc[10, 'id'] = \"ft0_char0_loc0_1\"\n",
    "df.loc[11, 'id'] = \"ft0_char0_loc0_2\"\n",
    "df.loc[12, 'id'] = \"ft1_char0_loc0_1\"\n",
    "df.loc[13, 'id'] = \"ft1_char0_loc0_2\"\n",
    "df.loc[14, 'id'] = \"ft1_char0_loc0_3\"\n",
    "\n",
    "df.loc[15, 'id'] = \"ft1_char0_loc1_0\"\n",
    "df.loc[16, 'id'] = \"ft1_char0_loc1_1\"\n",
    "df.loc[17, 'id'] = \"ft1_char0_loc1_2\"\n",
    "df.loc[18, 'id'] = \"ft0_char0_loc1_0\"\n",
    "df.loc[19, 'id'] = \"ft0_char0_loc1_1\"\n",
    "\n",
    "df.loc[20, 'id'] = \"ft0_char0_loc1_2\"\n",
    "df.loc[21, 'id'] = \"ft0_char1_loc0_0\"\n",
    "df.loc[22, 'id'] = \"ft1_char1_loc0_3\"\n",
    "df.loc[23, 'id'] = \"ft1_char0_loc0_4\"\n",
    "df.loc[24, 'id'] = \"ft0_char1_loc0_1\"\n",
    "\n",
    "df.loc[25, 'id'] = \"ft0_char1_loc0_2\"\n",
    "df.loc[26, 'id'] = \"ft1_char1_loc0_5\"\n",
    "df.loc[27, 'id'] = \"ft1_char1_loc1_5\"\n",
    "df.loc[28, 'id'] = \"ft0_char1_loc1_0\"\n",
    "df.loc[29, 'id'] = \"ft0_char1_loc1_1\"\n",
    "\n",
    "df.loc[30, 'id'] = \"ft1_char1_loc1_6\"\n",
    "df.loc[31, 'id'] = \"ft1_char1_loc1_7\"\n",
    "df.loc[32, 'id'] = \"ft0_char1_loc1_2\""
   ]
  },
  {
   "cell_type": "code",
   "execution_count": 13,
   "metadata": {},
   "outputs": [
    {
     "data": {
      "text/plain": [
       "(33, 33)"
      ]
     },
     "execution_count": 13,
     "metadata": {},
     "output_type": "execute_result"
    }
   ],
   "source": [
    "len(df['id'].unique()), len(df)"
   ]
  },
  {
   "cell_type": "code",
   "execution_count": 14,
   "metadata": {},
   "outputs": [],
   "source": [
    "df.to_csv('The Saimpsons Archive/Respuestas/respuestas_LLMs.csv', index=False)"
   ]
  },
  {
   "cell_type": "code",
   "execution_count": null,
   "metadata": {},
   "outputs": [],
   "source": []
  }
 ],
 "metadata": {
  "kernelspec": {
   "display_name": "Python 3",
   "language": "python",
   "name": "python3"
  },
  "language_info": {
   "codemirror_mode": {
    "name": "ipython",
    "version": 3
   },
   "file_extension": ".py",
   "mimetype": "text/x-python",
   "name": "python",
   "nbconvert_exporter": "python",
   "pygments_lexer": "ipython3",
   "version": "3.11.1"
  }
 },
 "nbformat": 4,
 "nbformat_minor": 2
}
